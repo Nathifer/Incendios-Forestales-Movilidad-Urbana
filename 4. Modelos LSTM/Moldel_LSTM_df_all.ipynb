{
  "cells": [
    {
      "cell_type": "markdown",
      "metadata": {
        "id": "sx0eKqSa_gS6"
      },
      "source": [
        "##Librerias"
      ]
    },
    {
      "cell_type": "code",
      "execution_count": 2,
      "metadata": {
        "colab": {
          "base_uri": "https://localhost:8080/"
        },
        "id": "nVt_F6suguEt",
        "outputId": "e78739b4-2553-4dd5-bb5d-74e78aa929f6"
      },
      "outputs": [
        {
          "output_type": "stream",
          "name": "stdout",
          "text": [
            "Looking in indexes: https://pypi.org/simple, https://us-python.pkg.dev/colab-wheels/public/simple/\n",
            "Requirement already satisfied: tensorflow in /usr/local/lib/python3.8/dist-packages (2.9.2)\n",
            "Requirement already satisfied: six>=1.12.0 in /usr/local/lib/python3.8/dist-packages (from tensorflow) (1.15.0)\n",
            "Requirement already satisfied: protobuf<3.20,>=3.9.2 in /usr/local/lib/python3.8/dist-packages (from tensorflow) (3.19.6)\n",
            "Requirement already satisfied: setuptools in /usr/local/lib/python3.8/dist-packages (from tensorflow) (57.4.0)\n",
            "Requirement already satisfied: termcolor>=1.1.0 in /usr/local/lib/python3.8/dist-packages (from tensorflow) (2.1.1)\n",
            "Requirement already satisfied: keras<2.10.0,>=2.9.0rc0 in /usr/local/lib/python3.8/dist-packages (from tensorflow) (2.9.0)\n",
            "Requirement already satisfied: tensorflow-io-gcs-filesystem>=0.23.1 in /usr/local/lib/python3.8/dist-packages (from tensorflow) (0.29.0)\n",
            "Requirement already satisfied: google-pasta>=0.1.1 in /usr/local/lib/python3.8/dist-packages (from tensorflow) (0.2.0)\n",
            "Requirement already satisfied: wrapt>=1.11.0 in /usr/local/lib/python3.8/dist-packages (from tensorflow) (1.14.1)\n",
            "Requirement already satisfied: absl-py>=1.0.0 in /usr/local/lib/python3.8/dist-packages (from tensorflow) (1.3.0)\n",
            "Requirement already satisfied: libclang>=13.0.0 in /usr/local/lib/python3.8/dist-packages (from tensorflow) (14.0.6)\n",
            "Requirement already satisfied: keras-preprocessing>=1.1.1 in /usr/local/lib/python3.8/dist-packages (from tensorflow) (1.1.2)\n",
            "Requirement already satisfied: opt-einsum>=2.3.2 in /usr/local/lib/python3.8/dist-packages (from tensorflow) (3.3.0)\n",
            "Requirement already satisfied: tensorboard<2.10,>=2.9 in /usr/local/lib/python3.8/dist-packages (from tensorflow) (2.9.1)\n",
            "Requirement already satisfied: gast<=0.4.0,>=0.2.1 in /usr/local/lib/python3.8/dist-packages (from tensorflow) (0.4.0)\n",
            "Requirement already satisfied: h5py>=2.9.0 in /usr/local/lib/python3.8/dist-packages (from tensorflow) (3.1.0)\n",
            "Requirement already satisfied: astunparse>=1.6.0 in /usr/local/lib/python3.8/dist-packages (from tensorflow) (1.6.3)\n",
            "Requirement already satisfied: grpcio<2.0,>=1.24.3 in /usr/local/lib/python3.8/dist-packages (from tensorflow) (1.51.1)\n",
            "Requirement already satisfied: tensorflow-estimator<2.10.0,>=2.9.0rc0 in /usr/local/lib/python3.8/dist-packages (from tensorflow) (2.9.0)\n",
            "Requirement already satisfied: flatbuffers<2,>=1.12 in /usr/local/lib/python3.8/dist-packages (from tensorflow) (1.12)\n",
            "Requirement already satisfied: numpy>=1.20 in /usr/local/lib/python3.8/dist-packages (from tensorflow) (1.21.6)\n",
            "Requirement already satisfied: packaging in /usr/local/lib/python3.8/dist-packages (from tensorflow) (21.3)\n",
            "Requirement already satisfied: typing-extensions>=3.6.6 in /usr/local/lib/python3.8/dist-packages (from tensorflow) (4.4.0)\n",
            "Requirement already satisfied: wheel<1.0,>=0.23.0 in /usr/local/lib/python3.8/dist-packages (from astunparse>=1.6.0->tensorflow) (0.38.4)\n",
            "Requirement already satisfied: werkzeug>=1.0.1 in /usr/local/lib/python3.8/dist-packages (from tensorboard<2.10,>=2.9->tensorflow) (1.0.1)\n",
            "Requirement already satisfied: tensorboard-data-server<0.7.0,>=0.6.0 in /usr/local/lib/python3.8/dist-packages (from tensorboard<2.10,>=2.9->tensorflow) (0.6.1)\n",
            "Requirement already satisfied: markdown>=2.6.8 in /usr/local/lib/python3.8/dist-packages (from tensorboard<2.10,>=2.9->tensorflow) (3.4.1)\n",
            "Requirement already satisfied: google-auth-oauthlib<0.5,>=0.4.1 in /usr/local/lib/python3.8/dist-packages (from tensorboard<2.10,>=2.9->tensorflow) (0.4.6)\n",
            "Requirement already satisfied: requests<3,>=2.21.0 in /usr/local/lib/python3.8/dist-packages (from tensorboard<2.10,>=2.9->tensorflow) (2.25.1)\n",
            "Requirement already satisfied: google-auth<3,>=1.6.3 in /usr/local/lib/python3.8/dist-packages (from tensorboard<2.10,>=2.9->tensorflow) (2.15.0)\n",
            "Requirement already satisfied: tensorboard-plugin-wit>=1.6.0 in /usr/local/lib/python3.8/dist-packages (from tensorboard<2.10,>=2.9->tensorflow) (1.8.1)\n",
            "Requirement already satisfied: pyparsing!=3.0.5,>=2.0.2 in /usr/local/lib/python3.8/dist-packages (from packaging->tensorflow) (3.0.9)\n",
            "Requirement already satisfied: cachetools<6.0,>=2.0.0 in /usr/local/lib/python3.8/dist-packages (from google-auth<3,>=1.6.3->tensorboard<2.10,>=2.9->tensorflow) (5.2.0)\n",
            "Requirement already satisfied: rsa<5,>=3.1.4 in /usr/local/lib/python3.8/dist-packages (from google-auth<3,>=1.6.3->tensorboard<2.10,>=2.9->tensorflow) (4.9)\n",
            "Requirement already satisfied: pyasn1-modules>=0.2.1 in /usr/local/lib/python3.8/dist-packages (from google-auth<3,>=1.6.3->tensorboard<2.10,>=2.9->tensorflow) (0.2.8)\n",
            "Requirement already satisfied: requests-oauthlib>=0.7.0 in /usr/local/lib/python3.8/dist-packages (from google-auth-oauthlib<0.5,>=0.4.1->tensorboard<2.10,>=2.9->tensorflow) (1.3.1)\n",
            "Requirement already satisfied: importlib-metadata>=4.4 in /usr/local/lib/python3.8/dist-packages (from markdown>=2.6.8->tensorboard<2.10,>=2.9->tensorflow) (5.2.0)\n",
            "Requirement already satisfied: chardet<5,>=3.0.2 in /usr/local/lib/python3.8/dist-packages (from requests<3,>=2.21.0->tensorboard<2.10,>=2.9->tensorflow) (4.0.0)\n",
            "Requirement already satisfied: urllib3<1.27,>=1.21.1 in /usr/local/lib/python3.8/dist-packages (from requests<3,>=2.21.0->tensorboard<2.10,>=2.9->tensorflow) (1.24.3)\n",
            "Requirement already satisfied: certifi>=2017.4.17 in /usr/local/lib/python3.8/dist-packages (from requests<3,>=2.21.0->tensorboard<2.10,>=2.9->tensorflow) (2022.12.7)\n",
            "Requirement already satisfied: idna<3,>=2.5 in /usr/local/lib/python3.8/dist-packages (from requests<3,>=2.21.0->tensorboard<2.10,>=2.9->tensorflow) (2.10)\n",
            "Requirement already satisfied: zipp>=0.5 in /usr/local/lib/python3.8/dist-packages (from importlib-metadata>=4.4->markdown>=2.6.8->tensorboard<2.10,>=2.9->tensorflow) (3.11.0)\n",
            "Requirement already satisfied: pyasn1<0.5.0,>=0.4.6 in /usr/local/lib/python3.8/dist-packages (from pyasn1-modules>=0.2.1->google-auth<3,>=1.6.3->tensorboard<2.10,>=2.9->tensorflow) (0.4.8)\n",
            "Requirement already satisfied: oauthlib>=3.0.0 in /usr/local/lib/python3.8/dist-packages (from requests-oauthlib>=0.7.0->google-auth-oauthlib<0.5,>=0.4.1->tensorboard<2.10,>=2.9->tensorflow) (3.2.2)\n",
            "Looking in indexes: https://pypi.org/simple, https://us-python.pkg.dev/colab-wheels/public/simple/\n",
            "Collecting scikeras\n",
            "  Downloading scikeras-0.10.0-py3-none-any.whl (27 kB)\n",
            "Requirement already satisfied: scikit-learn>=1.0.0 in /usr/local/lib/python3.8/dist-packages (from scikeras) (1.0.2)\n",
            "Requirement already satisfied: packaging>=0.21 in /usr/local/lib/python3.8/dist-packages (from scikeras) (21.3)\n",
            "Requirement already satisfied: pyparsing!=3.0.5,>=2.0.2 in /usr/local/lib/python3.8/dist-packages (from packaging>=0.21->scikeras) (3.0.9)\n",
            "Requirement already satisfied: threadpoolctl>=2.0.0 in /usr/local/lib/python3.8/dist-packages (from scikit-learn>=1.0.0->scikeras) (3.1.0)\n",
            "Requirement already satisfied: joblib>=0.11 in /usr/local/lib/python3.8/dist-packages (from scikit-learn>=1.0.0->scikeras) (1.2.0)\n",
            "Requirement already satisfied: scipy>=1.1.0 in /usr/local/lib/python3.8/dist-packages (from scikit-learn>=1.0.0->scikeras) (1.7.3)\n",
            "Requirement already satisfied: numpy>=1.14.6 in /usr/local/lib/python3.8/dist-packages (from scikit-learn>=1.0.0->scikeras) (1.21.6)\n",
            "Installing collected packages: scikeras\n",
            "Successfully installed scikeras-0.10.0\n"
          ]
        }
      ],
      "source": [
        "!pip install tensorflow\n",
        "!pip install scikeras"
      ]
    },
    {
      "cell_type": "code",
      "execution_count": 3,
      "metadata": {
        "id": "26s1n3aOimLe",
        "colab": {
          "base_uri": "https://localhost:8080/"
        },
        "outputId": "ead5bcf3-ac39-4fa7-83c4-a392a9cbdf8c"
      },
      "outputs": [
        {
          "output_type": "stream",
          "name": "stdout",
          "text": [
            "Mounted at /content/drive\n"
          ]
        }
      ],
      "source": [
        "from google.colab import drive\n",
        "drive.mount('/content/drive')"
      ]
    },
    {
      "cell_type": "code",
      "execution_count": 4,
      "metadata": {
        "id": "1OA2HRO9guFc"
      },
      "outputs": [],
      "source": [
        "import os\n",
        "import tempfile\n",
        "\n",
        "import matplotlib.pyplot as plt\n",
        "import numpy as np\n",
        "import pandas as pd\n",
        "import seaborn as sns\n",
        "\n",
        "from tensorflow import keras\n",
        "import tensorflow as tf\n",
        "# tf.python.control_flow_ops = tf #esta línea evita un conflicto entre Keras y Tensorflow\n",
        "from tensorflow.keras.datasets import imdb\n",
        "from tensorflow.keras.models import Sequential\n",
        "from tensorflow.keras.layers import Dense\n",
        "from tensorflow.keras.layers import LSTM\n",
        "from tensorflow.keras.layers import Embedding\n",
        "from tensorflow.keras.preprocessing import sequence\n",
        "from tensorflow.keras.callbacks import ModelCheckpoint, EarlyStopping\n",
        "\n",
        "from scikeras.wrappers import KerasClassifier\n",
        "\n",
        "\n",
        "import sklearn\n",
        "from sklearn.metrics import confusion_matrix, classification_report\n",
        "from sklearn.metrics import make_scorer\n",
        "from sklearn.metrics import accuracy_score, precision_score, recall_score, confusion_matrix\n",
        "from sklearn.model_selection import train_test_split, GridSearchCV\n",
        "from sklearn.preprocessing import   OneHotEncoder, StandardScaler\n",
        "\n"
      ]
    },
    {
      "cell_type": "code",
      "execution_count": 5,
      "metadata": {
        "id": "sjbItAbaguF5",
        "colab": {
          "base_uri": "https://localhost:8080/"
        },
        "outputId": "2f75db84-53aa-4338-bb8f-6cbcf6455c46"
      },
      "outputs": [
        {
          "output_type": "stream",
          "name": "stdout",
          "text": [
            "['/device:GPU:0']\n"
          ]
        }
      ],
      "source": [
        "from tensorflow.python.client import device_lib\n",
        "\n",
        "def gpuon():\n",
        "    local_device_protos = device_lib.list_local_devices()\n",
        "    print([x.name for x in local_device_protos if x.device_type == 'GPU'])\n",
        "\n",
        "gpuon()"
      ]
    },
    {
      "cell_type": "code",
      "execution_count": 6,
      "metadata": {
        "id": "8HFY9e5JTxyU",
        "colab": {
          "base_uri": "https://localhost:8080/"
        },
        "outputId": "b6fa49f1-549d-4d75-edb0-e598aa30fc27"
      },
      "outputs": [
        {
          "output_type": "stream",
          "name": "stdout",
          "text": [
            "Tue Jan 10 14:10:55 2023       \n",
            "+-----------------------------------------------------------------------------+\n",
            "| NVIDIA-SMI 460.32.03    Driver Version: 460.32.03    CUDA Version: 11.2     |\n",
            "|-------------------------------+----------------------+----------------------+\n",
            "| GPU  Name        Persistence-M| Bus-Id        Disp.A | Volatile Uncorr. ECC |\n",
            "| Fan  Temp  Perf  Pwr:Usage/Cap|         Memory-Usage | GPU-Util  Compute M. |\n",
            "|                               |                      |               MIG M. |\n",
            "|===============================+======================+======================|\n",
            "|   0  Tesla T4            Off  | 00000000:00:04.0 Off |                    0 |\n",
            "| N/A   45C    P0    27W /  70W |    312MiB / 15109MiB |      3%      Default |\n",
            "|                               |                      |                  N/A |\n",
            "+-------------------------------+----------------------+----------------------+\n",
            "                                                                               \n",
            "+-----------------------------------------------------------------------------+\n",
            "| Processes:                                                                  |\n",
            "|  GPU   GI   CI        PID   Type   Process name                  GPU Memory |\n",
            "|        ID   ID                                                   Usage      |\n",
            "|=============================================================================|\n",
            "+-----------------------------------------------------------------------------+\n"
          ]
        }
      ],
      "source": [
        "gpu_info = !nvidia-smi\n",
        "gpu_info = '\\n'.join(gpu_info)\n",
        "if gpu_info.find('failed') >= 0:\n",
        "  print('Not connected to a GPU')\n",
        "else:\n",
        "  print(gpu_info)"
      ]
    },
    {
      "cell_type": "code",
      "source": [
        "from psutil import virtual_memory\n",
        "ram_gb = virtual_memory().total / 1e9\n",
        "print('Your runtime has {:.1f} gigabytes of available RAM\\n'.format(ram_gb))\n",
        "\n",
        "if ram_gb < 20:\n",
        "  print('Not using a high-RAM runtime')\n",
        "else:\n",
        "  print('You are using a high-RAM runtime!')"
      ],
      "metadata": {
        "colab": {
          "base_uri": "https://localhost:8080/"
        },
        "id": "6NK5o-RxOcQk",
        "outputId": "17271bef-add5-4527-aba5-3462cf0b7d27"
      },
      "execution_count": 7,
      "outputs": [
        {
          "output_type": "stream",
          "name": "stdout",
          "text": [
            "Your runtime has 27.3 gigabytes of available RAM\n",
            "\n",
            "You are using a high-RAM runtime!\n"
          ]
        }
      ]
    },
    {
      "cell_type": "markdown",
      "metadata": {
        "id": "nvRBASRGEqNA"
      },
      "source": [
        "##Carga de datos"
      ]
    },
    {
      "cell_type": "code",
      "execution_count": 10,
      "metadata": {
        "id": "2IKJcKUIguGx",
        "colab": {
          "base_uri": "https://localhost:8080/",
          "height": 311
        },
        "outputId": "88a5ba5b-d9bc-4c0c-d667-a0d0911493cd"
      },
      "outputs": [
        {
          "output_type": "error",
          "ename": "FileNotFoundError",
          "evalue": "ignored",
          "traceback": [
            "\u001b[0;31m---------------------------------------------------------------------------\u001b[0m",
            "\u001b[0;31mFileNotFoundError\u001b[0m                         Traceback (most recent call last)",
            "\u001b[0;32m<ipython-input-10-87382fe1a468>\u001b[0m in \u001b[0;36m<module>\u001b[0;34m\u001b[0m\n\u001b[0;32m----> 1\u001b[0;31m \u001b[0mdf_all\u001b[0m \u001b[0;34m=\u001b[0m \u001b[0mpd\u001b[0m\u001b[0;34m.\u001b[0m\u001b[0mread_csv\u001b[0m\u001b[0;34m(\u001b[0m\u001b[0;34m\"/content/drive/MyDrive/TFM/datos/df_all.csv\"\u001b[0m\u001b[0;34m,\u001b[0m \u001b[0msep\u001b[0m \u001b[0;34m=\u001b[0m \u001b[0;34m\";\"\u001b[0m\u001b[0;34m)\u001b[0m\u001b[0;34m\u001b[0m\u001b[0;34m\u001b[0m\u001b[0m\n\u001b[0m",
            "\u001b[0;32m/usr/local/lib/python3.8/dist-packages/pandas/util/_decorators.py\u001b[0m in \u001b[0;36mwrapper\u001b[0;34m(*args, **kwargs)\u001b[0m\n\u001b[1;32m    309\u001b[0m                     \u001b[0mstacklevel\u001b[0m\u001b[0;34m=\u001b[0m\u001b[0mstacklevel\u001b[0m\u001b[0;34m,\u001b[0m\u001b[0;34m\u001b[0m\u001b[0;34m\u001b[0m\u001b[0m\n\u001b[1;32m    310\u001b[0m                 )\n\u001b[0;32m--> 311\u001b[0;31m             \u001b[0;32mreturn\u001b[0m \u001b[0mfunc\u001b[0m\u001b[0;34m(\u001b[0m\u001b[0;34m*\u001b[0m\u001b[0margs\u001b[0m\u001b[0;34m,\u001b[0m \u001b[0;34m**\u001b[0m\u001b[0mkwargs\u001b[0m\u001b[0;34m)\u001b[0m\u001b[0;34m\u001b[0m\u001b[0;34m\u001b[0m\u001b[0m\n\u001b[0m\u001b[1;32m    312\u001b[0m \u001b[0;34m\u001b[0m\u001b[0m\n\u001b[1;32m    313\u001b[0m         \u001b[0;32mreturn\u001b[0m \u001b[0mwrapper\u001b[0m\u001b[0;34m\u001b[0m\u001b[0;34m\u001b[0m\u001b[0m\n",
            "\u001b[0;32m/usr/local/lib/python3.8/dist-packages/pandas/io/parsers/readers.py\u001b[0m in \u001b[0;36mread_csv\u001b[0;34m(filepath_or_buffer, sep, delimiter, header, names, index_col, usecols, squeeze, prefix, mangle_dupe_cols, dtype, engine, converters, true_values, false_values, skipinitialspace, skiprows, skipfooter, nrows, na_values, keep_default_na, na_filter, verbose, skip_blank_lines, parse_dates, infer_datetime_format, keep_date_col, date_parser, dayfirst, cache_dates, iterator, chunksize, compression, thousands, decimal, lineterminator, quotechar, quoting, doublequote, escapechar, comment, encoding, encoding_errors, dialect, error_bad_lines, warn_bad_lines, on_bad_lines, delim_whitespace, low_memory, memory_map, float_precision, storage_options)\u001b[0m\n\u001b[1;32m    584\u001b[0m     \u001b[0mkwds\u001b[0m\u001b[0;34m.\u001b[0m\u001b[0mupdate\u001b[0m\u001b[0;34m(\u001b[0m\u001b[0mkwds_defaults\u001b[0m\u001b[0;34m)\u001b[0m\u001b[0;34m\u001b[0m\u001b[0;34m\u001b[0m\u001b[0m\n\u001b[1;32m    585\u001b[0m \u001b[0;34m\u001b[0m\u001b[0m\n\u001b[0;32m--> 586\u001b[0;31m     \u001b[0;32mreturn\u001b[0m \u001b[0m_read\u001b[0m\u001b[0;34m(\u001b[0m\u001b[0mfilepath_or_buffer\u001b[0m\u001b[0;34m,\u001b[0m \u001b[0mkwds\u001b[0m\u001b[0;34m)\u001b[0m\u001b[0;34m\u001b[0m\u001b[0;34m\u001b[0m\u001b[0m\n\u001b[0m\u001b[1;32m    587\u001b[0m \u001b[0;34m\u001b[0m\u001b[0m\n\u001b[1;32m    588\u001b[0m \u001b[0;34m\u001b[0m\u001b[0m\n",
            "\u001b[0;32m/usr/local/lib/python3.8/dist-packages/pandas/io/parsers/readers.py\u001b[0m in \u001b[0;36m_read\u001b[0;34m(filepath_or_buffer, kwds)\u001b[0m\n\u001b[1;32m    480\u001b[0m \u001b[0;34m\u001b[0m\u001b[0m\n\u001b[1;32m    481\u001b[0m     \u001b[0;31m# Create the parser.\u001b[0m\u001b[0;34m\u001b[0m\u001b[0;34m\u001b[0m\u001b[0;34m\u001b[0m\u001b[0m\n\u001b[0;32m--> 482\u001b[0;31m     \u001b[0mparser\u001b[0m \u001b[0;34m=\u001b[0m \u001b[0mTextFileReader\u001b[0m\u001b[0;34m(\u001b[0m\u001b[0mfilepath_or_buffer\u001b[0m\u001b[0;34m,\u001b[0m \u001b[0;34m**\u001b[0m\u001b[0mkwds\u001b[0m\u001b[0;34m)\u001b[0m\u001b[0;34m\u001b[0m\u001b[0;34m\u001b[0m\u001b[0m\n\u001b[0m\u001b[1;32m    483\u001b[0m \u001b[0;34m\u001b[0m\u001b[0m\n\u001b[1;32m    484\u001b[0m     \u001b[0;32mif\u001b[0m \u001b[0mchunksize\u001b[0m \u001b[0;32mor\u001b[0m \u001b[0miterator\u001b[0m\u001b[0;34m:\u001b[0m\u001b[0;34m\u001b[0m\u001b[0;34m\u001b[0m\u001b[0m\n",
            "\u001b[0;32m/usr/local/lib/python3.8/dist-packages/pandas/io/parsers/readers.py\u001b[0m in \u001b[0;36m__init__\u001b[0;34m(self, f, engine, **kwds)\u001b[0m\n\u001b[1;32m    809\u001b[0m             \u001b[0mself\u001b[0m\u001b[0;34m.\u001b[0m\u001b[0moptions\u001b[0m\u001b[0;34m[\u001b[0m\u001b[0;34m\"has_index_names\"\u001b[0m\u001b[0;34m]\u001b[0m \u001b[0;34m=\u001b[0m \u001b[0mkwds\u001b[0m\u001b[0;34m[\u001b[0m\u001b[0;34m\"has_index_names\"\u001b[0m\u001b[0;34m]\u001b[0m\u001b[0;34m\u001b[0m\u001b[0;34m\u001b[0m\u001b[0m\n\u001b[1;32m    810\u001b[0m \u001b[0;34m\u001b[0m\u001b[0m\n\u001b[0;32m--> 811\u001b[0;31m         \u001b[0mself\u001b[0m\u001b[0;34m.\u001b[0m\u001b[0m_engine\u001b[0m \u001b[0;34m=\u001b[0m \u001b[0mself\u001b[0m\u001b[0;34m.\u001b[0m\u001b[0m_make_engine\u001b[0m\u001b[0;34m(\u001b[0m\u001b[0mself\u001b[0m\u001b[0;34m.\u001b[0m\u001b[0mengine\u001b[0m\u001b[0;34m)\u001b[0m\u001b[0;34m\u001b[0m\u001b[0;34m\u001b[0m\u001b[0m\n\u001b[0m\u001b[1;32m    812\u001b[0m \u001b[0;34m\u001b[0m\u001b[0m\n\u001b[1;32m    813\u001b[0m     \u001b[0;32mdef\u001b[0m \u001b[0mclose\u001b[0m\u001b[0;34m(\u001b[0m\u001b[0mself\u001b[0m\u001b[0;34m)\u001b[0m\u001b[0;34m:\u001b[0m\u001b[0;34m\u001b[0m\u001b[0;34m\u001b[0m\u001b[0m\n",
            "\u001b[0;32m/usr/local/lib/python3.8/dist-packages/pandas/io/parsers/readers.py\u001b[0m in \u001b[0;36m_make_engine\u001b[0;34m(self, engine)\u001b[0m\n\u001b[1;32m   1038\u001b[0m             )\n\u001b[1;32m   1039\u001b[0m         \u001b[0;31m# error: Too many arguments for \"ParserBase\"\u001b[0m\u001b[0;34m\u001b[0m\u001b[0;34m\u001b[0m\u001b[0;34m\u001b[0m\u001b[0m\n\u001b[0;32m-> 1040\u001b[0;31m         \u001b[0;32mreturn\u001b[0m \u001b[0mmapping\u001b[0m\u001b[0;34m[\u001b[0m\u001b[0mengine\u001b[0m\u001b[0;34m]\u001b[0m\u001b[0;34m(\u001b[0m\u001b[0mself\u001b[0m\u001b[0;34m.\u001b[0m\u001b[0mf\u001b[0m\u001b[0;34m,\u001b[0m \u001b[0;34m**\u001b[0m\u001b[0mself\u001b[0m\u001b[0;34m.\u001b[0m\u001b[0moptions\u001b[0m\u001b[0;34m)\u001b[0m  \u001b[0;31m# type: ignore[call-arg]\u001b[0m\u001b[0;34m\u001b[0m\u001b[0;34m\u001b[0m\u001b[0m\n\u001b[0m\u001b[1;32m   1041\u001b[0m \u001b[0;34m\u001b[0m\u001b[0m\n\u001b[1;32m   1042\u001b[0m     \u001b[0;32mdef\u001b[0m \u001b[0m_failover_to_python\u001b[0m\u001b[0;34m(\u001b[0m\u001b[0mself\u001b[0m\u001b[0;34m)\u001b[0m\u001b[0;34m:\u001b[0m\u001b[0;34m\u001b[0m\u001b[0;34m\u001b[0m\u001b[0m\n",
            "\u001b[0;32m/usr/local/lib/python3.8/dist-packages/pandas/io/parsers/c_parser_wrapper.py\u001b[0m in \u001b[0;36m__init__\u001b[0;34m(self, src, **kwds)\u001b[0m\n\u001b[1;32m     49\u001b[0m \u001b[0;34m\u001b[0m\u001b[0m\n\u001b[1;32m     50\u001b[0m         \u001b[0;31m# open handles\u001b[0m\u001b[0;34m\u001b[0m\u001b[0;34m\u001b[0m\u001b[0;34m\u001b[0m\u001b[0m\n\u001b[0;32m---> 51\u001b[0;31m         \u001b[0mself\u001b[0m\u001b[0;34m.\u001b[0m\u001b[0m_open_handles\u001b[0m\u001b[0;34m(\u001b[0m\u001b[0msrc\u001b[0m\u001b[0;34m,\u001b[0m \u001b[0mkwds\u001b[0m\u001b[0;34m)\u001b[0m\u001b[0;34m\u001b[0m\u001b[0;34m\u001b[0m\u001b[0m\n\u001b[0m\u001b[1;32m     52\u001b[0m         \u001b[0;32massert\u001b[0m \u001b[0mself\u001b[0m\u001b[0;34m.\u001b[0m\u001b[0mhandles\u001b[0m \u001b[0;32mis\u001b[0m \u001b[0;32mnot\u001b[0m \u001b[0;32mNone\u001b[0m\u001b[0;34m\u001b[0m\u001b[0;34m\u001b[0m\u001b[0m\n\u001b[1;32m     53\u001b[0m \u001b[0;34m\u001b[0m\u001b[0m\n",
            "\u001b[0;32m/usr/local/lib/python3.8/dist-packages/pandas/io/parsers/base_parser.py\u001b[0m in \u001b[0;36m_open_handles\u001b[0;34m(self, src, kwds)\u001b[0m\n\u001b[1;32m    220\u001b[0m         \u001b[0mLet\u001b[0m \u001b[0mthe\u001b[0m \u001b[0mreaders\u001b[0m \u001b[0mopen\u001b[0m \u001b[0mIOHandles\u001b[0m \u001b[0mafter\u001b[0m \u001b[0mthey\u001b[0m \u001b[0mare\u001b[0m \u001b[0mdone\u001b[0m \u001b[0;32mwith\u001b[0m \u001b[0mtheir\u001b[0m \u001b[0mpotential\u001b[0m \u001b[0mraises\u001b[0m\u001b[0;34m.\u001b[0m\u001b[0;34m\u001b[0m\u001b[0;34m\u001b[0m\u001b[0m\n\u001b[1;32m    221\u001b[0m         \"\"\"\n\u001b[0;32m--> 222\u001b[0;31m         self.handles = get_handle(\n\u001b[0m\u001b[1;32m    223\u001b[0m             \u001b[0msrc\u001b[0m\u001b[0;34m,\u001b[0m\u001b[0;34m\u001b[0m\u001b[0;34m\u001b[0m\u001b[0m\n\u001b[1;32m    224\u001b[0m             \u001b[0;34m\"r\"\u001b[0m\u001b[0;34m,\u001b[0m\u001b[0;34m\u001b[0m\u001b[0;34m\u001b[0m\u001b[0m\n",
            "\u001b[0;32m/usr/local/lib/python3.8/dist-packages/pandas/io/common.py\u001b[0m in \u001b[0;36mget_handle\u001b[0;34m(path_or_buf, mode, encoding, compression, memory_map, is_text, errors, storage_options)\u001b[0m\n\u001b[1;32m    700\u001b[0m         \u001b[0;32mif\u001b[0m \u001b[0mioargs\u001b[0m\u001b[0;34m.\u001b[0m\u001b[0mencoding\u001b[0m \u001b[0;32mand\u001b[0m \u001b[0;34m\"b\"\u001b[0m \u001b[0;32mnot\u001b[0m \u001b[0;32min\u001b[0m \u001b[0mioargs\u001b[0m\u001b[0;34m.\u001b[0m\u001b[0mmode\u001b[0m\u001b[0;34m:\u001b[0m\u001b[0;34m\u001b[0m\u001b[0;34m\u001b[0m\u001b[0m\n\u001b[1;32m    701\u001b[0m             \u001b[0;31m# Encoding\u001b[0m\u001b[0;34m\u001b[0m\u001b[0;34m\u001b[0m\u001b[0;34m\u001b[0m\u001b[0m\n\u001b[0;32m--> 702\u001b[0;31m             handle = open(\n\u001b[0m\u001b[1;32m    703\u001b[0m                 \u001b[0mhandle\u001b[0m\u001b[0;34m,\u001b[0m\u001b[0;34m\u001b[0m\u001b[0;34m\u001b[0m\u001b[0m\n\u001b[1;32m    704\u001b[0m                 \u001b[0mioargs\u001b[0m\u001b[0;34m.\u001b[0m\u001b[0mmode\u001b[0m\u001b[0;34m,\u001b[0m\u001b[0;34m\u001b[0m\u001b[0;34m\u001b[0m\u001b[0m\n",
            "\u001b[0;31mFileNotFoundError\u001b[0m: [Errno 2] No such file or directory: '/content/drive/MyDrive/TFM/datos/df_all.csv'"
          ]
        }
      ],
      "source": [
        "df_all = pd.read_csv(\"/content/drive/MyDrive/TFM/datos/df_all.csv\", sep = \";\")"
      ]
    },
    {
      "cell_type": "code",
      "execution_count": 11,
      "metadata": {
        "id": "QiuxNxJCguGx",
        "colab": {
          "base_uri": "https://localhost:8080/",
          "height": 200
        },
        "outputId": "167d3753-9af1-41e8-c1dd-31bdcb4bc333"
      },
      "outputs": [
        {
          "output_type": "error",
          "ename": "NameError",
          "evalue": "ignored",
          "traceback": [
            "\u001b[0;31m---------------------------------------------------------------------------\u001b[0m",
            "\u001b[0;31mNameError\u001b[0m                                 Traceback (most recent call last)",
            "\u001b[0;32m<ipython-input-11-b6171db45acd>\u001b[0m in \u001b[0;36m<module>\u001b[0;34m\u001b[0m\n\u001b[0;32m----> 1\u001b[0;31m \u001b[0mdf_all\u001b[0m\u001b[0;34m.\u001b[0m\u001b[0mindex\u001b[0m \u001b[0;34m=\u001b[0m \u001b[0mdf_all\u001b[0m\u001b[0;34m.\u001b[0m\u001b[0mfecha\u001b[0m  \u001b[0;31m##Set_index('fecha')\u001b[0m\u001b[0;34m\u001b[0m\u001b[0;34m\u001b[0m\u001b[0m\n\u001b[0m\u001b[1;32m      2\u001b[0m \u001b[0mdf_all\u001b[0m \u001b[0;34m=\u001b[0m \u001b[0mdf_all\u001b[0m\u001b[0;34m.\u001b[0m\u001b[0mdrop\u001b[0m\u001b[0;34m(\u001b[0m\u001b[0;34m'fecha'\u001b[0m\u001b[0;34m,\u001b[0m \u001b[0maxis\u001b[0m\u001b[0;34m=\u001b[0m\u001b[0;36m1\u001b[0m\u001b[0;34m)\u001b[0m\u001b[0;34m\u001b[0m\u001b[0;34m\u001b[0m\u001b[0m\n\u001b[1;32m      3\u001b[0m \u001b[0mdf_all\u001b[0m\u001b[0;34m\u001b[0m\u001b[0;34m\u001b[0m\u001b[0m\n",
            "\u001b[0;31mNameError\u001b[0m: name 'df_all' is not defined"
          ]
        }
      ],
      "source": [
        "df_all.index = df_all.fecha  ##Set_index('fecha')\n",
        "df_all = df_all.drop('fecha', axis=1)\n",
        "df_all"
      ]
    },
    {
      "cell_type": "code",
      "source": [
        "df_all.shape"
      ],
      "metadata": {
        "id": "ADce7inS74u3"
      },
      "execution_count": null,
      "outputs": []
    },
    {
      "cell_type": "markdown",
      "metadata": {
        "id": "IJ-J7bRI_9mL"
      },
      "source": [
        "#1.1 Division de datos\n",
        "---\n",
        "\n"
      ]
    },
    {
      "cell_type": "code",
      "source": [
        "df_train = df_all.loc['2015-01-01':'2020-12-31'] # 6 años de train\n",
        "df_test = df_all.loc['2021-01-01':'2022-12-31']  # 1 año y medio de test"
      ],
      "metadata": {
        "id": "RwkOjMck8gPW"
      },
      "execution_count": null,
      "outputs": []
    },
    {
      "cell_type": "code",
      "execution_count": null,
      "metadata": {
        "id": "hQR_5wngwXdj"
      },
      "outputs": [],
      "source": [
        "X_train = df_train.drop('ocurrencia', axis=1)\n",
        "y_train = df_train['ocurrencia']\n",
        "\n",
        "X_test = df_test.drop('ocurrencia', axis=1)\n",
        "y_test = df_test['ocurrencia']"
      ]
    },
    {
      "cell_type": "code",
      "execution_count": null,
      "metadata": {
        "colab": {
          "base_uri": "https://localhost:8080/"
        },
        "id": "E-z5X3sebwGG",
        "outputId": "3c881609-344d-4588-8fa6-b14031f05aa2"
      },
      "outputs": [
        {
          "output_type": "execute_result",
          "data": {
            "text/plain": [
              "((488345, 25),\n",
              " (413052, 25),\n",
              " (413052, 24),\n",
              " (413052,),\n",
              " (75293, 25),\n",
              " (75293, 24),\n",
              " (75293,))"
            ]
          },
          "metadata": {},
          "execution_count": 13
        }
      ],
      "source": [
        "df_all.shape, df_train.shape,  X_train.shape, y_train.shape, df_test.shape, X_test.shape, y_test.shape"
      ]
    },
    {
      "cell_type": "markdown",
      "source": [
        "#1.2 Normalización"
      ],
      "metadata": {
        "id": "V7ew97QG95Fj"
      }
    },
    {
      "cell_type": "code",
      "execution_count": null,
      "metadata": {
        "colab": {
          "base_uri": "https://localhost:8080/"
        },
        "id": "7_qzCFiKbwLT",
        "outputId": "65cda3cc-6a3d-4e59-8949-fe7f6329202c"
      },
      "outputs": [
        {
          "output_type": "execute_result",
          "data": {
            "text/plain": [
              "((413052, 13), (75293, 13))"
            ]
          },
          "metadata": {},
          "execution_count": 16
        }
      ],
      "source": [
        "# normalizacion de los datos numericos\n",
        "from sklearn.preprocessing import StandardScaler\n",
        "numericalCols_train = df_train[[\"prec\", \"tmax\",  \"tmed\",  \"tmin\",  \"velmedia\",  \"racha\",  \"sol\",  \"presMax\",  \"presMin\",  \"rhum\",  \"altitud\", \"porcentaje_pendiente_total\", \"total_viajes_estacion\" ]] \n",
        "numericalCols_test = df_test[[\"prec\", \"tmax\",  \"tmed\",  \"tmin\",  \"velmedia\",  \"racha\",  \"sol\",  \"presMax\",  \"presMin\",  \"rhum\",  \"altitud\", \"porcentaje_pendiente_total\", \"total_viajes_estacion\"  ]] \n",
        "scaler = StandardScaler()\n",
        "scaler.fit(numericalCols_train)\n",
        "\n",
        "numericalCols_train_scaled = scaler.transform(numericalCols_train)\n",
        "numericalCols_test_scaled = scaler.transform(numericalCols_test)\n",
        "\n",
        "numericalCols_train_scaled.shape , numericalCols_test_scaled.shape"
      ]
    },
    {
      "cell_type": "code",
      "execution_count": null,
      "metadata": {
        "colab": {
          "base_uri": "https://localhost:8080/"
        },
        "id": "ZY2wehZObwN8",
        "outputId": "77caf19e-defc-4e6a-bf5b-030b4ac38fa0"
      },
      "outputs": [
        {
          "output_type": "execute_result",
          "data": {
            "text/plain": [
              "((413052, 12), (75293, 12))"
            ]
          },
          "metadata": {},
          "execution_count": 17
        }
      ],
      "source": [
        "# normalizacion de los datos categoricos , sin la ocurrencia\n",
        "from sklearn.preprocessing import OneHotEncoder\n",
        "categoricalCols_train = df_train[['alto_riesgo',\t'peligro',\t'vulner']]  #alto_riesgo\tpeligro\tvulner\n",
        "categoricalCols_train = OneHotEncoder().fit_transform(categoricalCols_train).toarray()\n",
        "\n",
        "\n",
        "# normalizacion de los datos categoricos , sin la ocurrencia\n",
        "from sklearn.preprocessing import OneHotEncoder\n",
        "categoricalCols_test = df_test[['alto_riesgo',\t'peligro',\t'vulner']]   #alto_riesgo\tpeligro\t y vulner\n",
        "categoricalCols_test = OneHotEncoder().fit_transform(categoricalCols_test).toarray()\n",
        "\n",
        "categoricalCols_train.shape, categoricalCols_test.shape"
      ]
    },
    {
      "cell_type": "code",
      "execution_count": null,
      "metadata": {
        "id": "Gf01Dpb684q9"
      },
      "outputs": [],
      "source": [
        "Other_var_train = df_train[['laborable', \t'dayofyear', \t'weekend', \t'mes']]\n",
        "Other_var_test = df_test[['laborable', \t'dayofyear', \t'weekend', \t'mes']]  #alto_riesgo\tpeligro\t y vulner"
      ]
    },
    {
      "cell_type": "code",
      "execution_count": null,
      "metadata": {
        "id": "rJeiOLxw84q_",
        "colab": {
          "base_uri": "https://localhost:8080/"
        },
        "outputId": "eba4c48f-4418-4389-d2c0-cef19c3b7c66"
      },
      "outputs": [
        {
          "output_type": "execute_result",
          "data": {
            "text/plain": [
              "((413052, 29), (75293, 29))"
            ]
          },
          "metadata": {},
          "execution_count": 19
        }
      ],
      "source": [
        "df_train_scaled = np.concatenate((numericalCols_train_scaled , categoricalCols_train, Other_var_train), axis=1)\n",
        "df_test_scaled = np.concatenate((numericalCols_test_scaled , categoricalCols_test, Other_var_test), axis=1)\n",
        "df_train_scaled.shape, df_test_scaled.shape"
      ]
    },
    {
      "cell_type": "code",
      "execution_count": null,
      "metadata": {
        "id": "2wSjcMrH84rC"
      },
      "outputs": [],
      "source": [
        "X_test = df_test_scaled\n",
        "X_train = df_train_scaled"
      ]
    },
    {
      "cell_type": "markdown",
      "metadata": {
        "id": "CUtq799v-8p0"
      },
      "source": [
        "# 1.3. Model LSTM (df_all_sin_mov)"
      ]
    },
    {
      "cell_type": "markdown",
      "metadata": {
        "id": "rQKppLI1-8p1"
      },
      "source": [
        "Vamos a generar una LSTM con dos capas\n",
        "\n",
        "1. LSTM - Es la capa que trabaja en la clasificación. Donde se indica el numero de neuronas\n",
        "2. Capa de dropout (apagado de neuronas)\n",
        "3. Capa de activacion sigmoide ya que estamos ante una clasificación biaria (0-1)\n",
        "4. Una única neurona de salida con un sigmoide"
      ]
    },
    {
      "cell_type": "code",
      "execution_count": null,
      "metadata": {
        "id": "UFNkKODU-8p4"
      },
      "outputs": [],
      "source": [
        "from tensorflow.keras.layers import Dropout\n",
        "from keras.models import Sequential\n",
        "from keras.layers import Dense, LSTM\n",
        "from tensorflow.keras.layers import InputLayer\n",
        "\n",
        "def modelLSTM(n_lstm = 200, activation = 'sigmoid',dropout_rate =0.2, optimizer='adam', batch_size = 32):\n",
        "    model=Sequential()\n",
        "    model.add(InputLayer((29,1)))\n",
        "    model.add(LSTM(n_lstm))\n",
        "    model.add(Dropout(dropout_rate))\n",
        "    model.add(Dense(29, activation=activation))\n",
        "    model.add(Dropout(dropout_rate))\n",
        "    model.add(Dense(1, activation=activation))\n",
        "    model.compile(loss='binary_crossentropy', optimizer=optimizer, metrics=['accuracy'])\n",
        "    return model\n"
      ]
    },
    {
      "cell_type": "code",
      "execution_count": null,
      "metadata": {
        "id": "PTC06PDf-8p7"
      },
      "outputs": [],
      "source": [
        "model = modelLSTM()"
      ]
    },
    {
      "cell_type": "code",
      "execution_count": null,
      "metadata": {
        "colab": {
          "base_uri": "https://localhost:8080/"
        },
        "outputId": "a9789a7b-4be5-4de3-da76-edf2b976dad0",
        "id": "KS2Ap_0g-8p9"
      },
      "outputs": [
        {
          "output_type": "stream",
          "name": "stdout",
          "text": [
            "Model: \"sequential_1\"\n",
            "_________________________________________________________________\n",
            " Layer (type)                Output Shape              Param #   \n",
            "=================================================================\n",
            " lstm_1 (LSTM)               (None, 200)               161600    \n",
            "                                                                 \n",
            " dropout_2 (Dropout)         (None, 200)               0         \n",
            "                                                                 \n",
            " dense_2 (Dense)             (None, 29)                5829      \n",
            "                                                                 \n",
            " dropout_3 (Dropout)         (None, 29)                0         \n",
            "                                                                 \n",
            " dense_3 (Dense)             (None, 1)                 30        \n",
            "                                                                 \n",
            "=================================================================\n",
            "Total params: 167,459\n",
            "Trainable params: 167,459\n",
            "Non-trainable params: 0\n",
            "_________________________________________________________________\n"
          ]
        }
      ],
      "source": [
        "model.summary()"
      ]
    },
    {
      "cell_type": "code",
      "execution_count": null,
      "metadata": {
        "colab": {
          "base_uri": "https://localhost:8080/"
        },
        "outputId": "b1f94105-0bf8-4f51-ddbe-641dce129d06",
        "id": "iCBWGvYj-8p-"
      },
      "outputs": [
        {
          "output_type": "stream",
          "name": "stdout",
          "text": [
            "Epoch 1/20\n",
            "12899/12908 [============================>.] - ETA: 0s - loss: 0.0392 - accuracy: 0.9937"
          ]
        },
        {
          "output_type": "stream",
          "name": "stderr",
          "text": [
            "WARNING:absl:Found untraced functions such as lstm_cell_1_layer_call_fn, lstm_cell_1_layer_call_and_return_conditional_losses while saving (showing 2 of 2). These functions will not be directly callable after loading.\n"
          ]
        },
        {
          "output_type": "stream",
          "name": "stdout",
          "text": [
            "\b\b\b\b\b\b\b\b\b\b\b\b\b\b\b\b\b\b\b\b\b\b\b\b\b\b\b\b\b\b\b\b\b\b\b\b\b\b\b\b\b\b\b\b\b\b\b\b\b\b\b\b\b\b\b\b\b\b\b\b\b\b\b\b\b\b\b\b\b\b\b\b\b\b\b\b\b\b\b\b\b\b\b\b\b\b\b\b\r12908/12908 [==============================] - 78s 5ms/step - loss: 0.0392 - accuracy: 0.9937 - val_loss: 0.0426 - val_accuracy: 0.9929\n",
            "Epoch 2/20\n",
            "12908/12908 [==============================] - ETA: 0s - loss: 0.0380 - accuracy: 0.9940"
          ]
        },
        {
          "output_type": "stream",
          "name": "stderr",
          "text": [
            "WARNING:absl:Found untraced functions such as lstm_cell_1_layer_call_fn, lstm_cell_1_layer_call_and_return_conditional_losses while saving (showing 2 of 2). These functions will not be directly callable after loading.\n"
          ]
        },
        {
          "output_type": "stream",
          "name": "stdout",
          "text": [
            "\b\b\b\b\b\b\b\b\b\b\b\b\b\b\b\b\b\b\b\b\b\b\b\b\b\b\b\b\b\b\b\b\b\b\b\b\b\b\b\b\b\b\b\b\b\b\b\b\b\b\b\b\b\b\b\b\b\b\b\b\b\b\b\b\b\b\b\b\b\b\b\b\b\b\b\b\b\b\b\b\b\b\b\b\b\b\b\b\r12908/12908 [==============================] - 71s 6ms/step - loss: 0.0380 - accuracy: 0.9940 - val_loss: 0.0425 - val_accuracy: 0.9929\n",
            "Epoch 3/20\n",
            "12908/12908 [==============================] - 66s 5ms/step - loss: 0.0378 - accuracy: 0.9940 - val_loss: 0.0426 - val_accuracy: 0.9929\n",
            "Epoch 4/20\n",
            "12908/12908 [==============================] - 66s 5ms/step - loss: 0.0376 - accuracy: 0.9940 - val_loss: 0.0425 - val_accuracy: 0.9929\n",
            "Epoch 5/20\n",
            "12907/12908 [============================>.] - ETA: 0s - loss: 0.0369 - accuracy: 0.9940"
          ]
        },
        {
          "output_type": "stream",
          "name": "stderr",
          "text": [
            "WARNING:absl:Found untraced functions such as lstm_cell_1_layer_call_fn, lstm_cell_1_layer_call_and_return_conditional_losses while saving (showing 2 of 2). These functions will not be directly callable after loading.\n"
          ]
        },
        {
          "output_type": "stream",
          "name": "stdout",
          "text": [
            "\b\b\b\b\b\b\b\b\b\b\b\b\b\b\b\b\b\b\b\b\b\b\b\b\b\b\b\b\b\b\b\b\b\b\b\b\b\b\b\b\b\b\b\b\b\b\b\b\b\b\b\b\b\b\b\b\b\b\b\b\b\b\b\b\b\b\b\b\b\b\b\b\b\b\b\b\b\b\b\b\b\b\b\b\b\b\b\b\r12908/12908 [==============================] - 69s 5ms/step - loss: 0.0369 - accuracy: 0.9940 - val_loss: 0.0413 - val_accuracy: 0.9929\n",
            "Epoch 6/20\n",
            "12908/12908 [==============================] - 65s 5ms/step - loss: 0.0367 - accuracy: 0.9940 - val_loss: 0.0429 - val_accuracy: 0.9929\n",
            "Epoch 7/20\n",
            "12908/12908 [==============================] - 65s 5ms/step - loss: 0.0366 - accuracy: 0.9940 - val_loss: 0.0413 - val_accuracy: 0.9929\n",
            "Epoch 8/20\n",
            "12905/12908 [============================>.] - ETA: 0s - loss: 0.0361 - accuracy: 0.9940"
          ]
        },
        {
          "output_type": "stream",
          "name": "stderr",
          "text": [
            "WARNING:absl:Found untraced functions such as lstm_cell_1_layer_call_fn, lstm_cell_1_layer_call_and_return_conditional_losses while saving (showing 2 of 2). These functions will not be directly callable after loading.\n"
          ]
        },
        {
          "output_type": "stream",
          "name": "stdout",
          "text": [
            "\b\b\b\b\b\b\b\b\b\b\b\b\b\b\b\b\b\b\b\b\b\b\b\b\b\b\b\b\b\b\b\b\b\b\b\b\b\b\b\b\b\b\b\b\b\b\b\b\b\b\b\b\b\b\b\b\b\b\b\b\b\b\b\b\b\b\b\b\b\b\b\b\b\b\b\b\b\b\b\b\b\b\b\b\b\b\b\b\r12908/12908 [==============================] - 69s 5ms/step - loss: 0.0361 - accuracy: 0.9940 - val_loss: 0.0406 - val_accuracy: 0.9929\n",
            "Epoch 9/20\n",
            "12908/12908 [==============================] - 65s 5ms/step - loss: 0.0358 - accuracy: 0.9940 - val_loss: 0.0406 - val_accuracy: 0.9929\n",
            "Epoch 10/20\n",
            "12908/12908 [==============================] - 66s 5ms/step - loss: 0.0358 - accuracy: 0.9940 - val_loss: 0.0407 - val_accuracy: 0.9929\n",
            "Epoch 11/20\n",
            "12906/12908 [============================>.] - ETA: 0s - loss: 0.0356 - accuracy: 0.9940"
          ]
        },
        {
          "output_type": "stream",
          "name": "stderr",
          "text": [
            "WARNING:absl:Found untraced functions such as lstm_cell_1_layer_call_fn, lstm_cell_1_layer_call_and_return_conditional_losses while saving (showing 2 of 2). These functions will not be directly callable after loading.\n"
          ]
        },
        {
          "output_type": "stream",
          "name": "stdout",
          "text": [
            "\b\b\b\b\b\b\b\b\b\b\b\b\b\b\b\b\b\b\b\b\b\b\b\b\b\b\b\b\b\b\b\b\b\b\b\b\b\b\b\b\b\b\b\b\b\b\b\b\b\b\b\b\b\b\b\b\b\b\b\b\b\b\b\b\b\b\b\b\b\b\b\b\b\b\b\b\b\b\b\b\b\b\b\b\b\b\b\b\r12908/12908 [==============================] - 69s 5ms/step - loss: 0.0356 - accuracy: 0.9940 - val_loss: 0.0402 - val_accuracy: 0.9929\n",
            "Epoch 12/20\n",
            "12905/12908 [============================>.] - ETA: 0s - loss: 0.0354 - accuracy: 0.9940"
          ]
        },
        {
          "output_type": "stream",
          "name": "stderr",
          "text": [
            "WARNING:absl:Found untraced functions such as lstm_cell_1_layer_call_fn, lstm_cell_1_layer_call_and_return_conditional_losses while saving (showing 2 of 2). These functions will not be directly callable after loading.\n"
          ]
        },
        {
          "output_type": "stream",
          "name": "stdout",
          "text": [
            "\b\b\b\b\b\b\b\b\b\b\b\b\b\b\b\b\b\b\b\b\b\b\b\b\b\b\b\b\b\b\b\b\b\b\b\b\b\b\b\b\b\b\b\b\b\b\b\b\b\b\b\b\b\b\b\b\b\b\b\b\b\b\b\b\b\b\b\b\b\b\b\b\b\b\b\b\b\b\b\b\b\b\b\b\b\b\b\b\r12908/12908 [==============================] - 69s 5ms/step - loss: 0.0354 - accuracy: 0.9940 - val_loss: 0.0400 - val_accuracy: 0.9929\n",
            "Epoch 13/20\n",
            "12900/12908 [============================>.] - ETA: 0s - loss: 0.0353 - accuracy: 0.9940"
          ]
        },
        {
          "output_type": "stream",
          "name": "stderr",
          "text": [
            "WARNING:absl:Found untraced functions such as lstm_cell_1_layer_call_fn, lstm_cell_1_layer_call_and_return_conditional_losses while saving (showing 2 of 2). These functions will not be directly callable after loading.\n"
          ]
        },
        {
          "output_type": "stream",
          "name": "stdout",
          "text": [
            "\b\b\b\b\b\b\b\b\b\b\b\b\b\b\b\b\b\b\b\b\b\b\b\b\b\b\b\b\b\b\b\b\b\b\b\b\b\b\b\b\b\b\b\b\b\b\b\b\b\b\b\b\b\b\b\b\b\b\b\b\b\b\b\b\b\b\b\b\b\b\b\b\b\b\b\b\b\b\b\b\b\b\b\b\b\b\b\b\r12908/12908 [==============================] - 69s 5ms/step - loss: 0.0353 - accuracy: 0.9940 - val_loss: 0.0398 - val_accuracy: 0.9929\n",
            "Epoch 14/20\n",
            "12908/12908 [==============================] - 65s 5ms/step - loss: 0.0351 - accuracy: 0.9940 - val_loss: 0.0399 - val_accuracy: 0.9929\n",
            "Epoch 15/20\n",
            "12908/12908 [==============================] - 65s 5ms/step - loss: 0.0351 - accuracy: 0.9940 - val_loss: 0.0405 - val_accuracy: 0.9929\n",
            "Epoch 16/20\n",
            "12908/12908 [==============================] - 66s 5ms/step - loss: 0.0351 - accuracy: 0.9940 - val_loss: 0.0405 - val_accuracy: 0.9929\n",
            "Epoch 17/20\n",
            "12908/12908 [==============================] - 65s 5ms/step - loss: 0.0350 - accuracy: 0.9940 - val_loss: 0.0403 - val_accuracy: 0.9929\n",
            "Epoch 18/20\n",
            "12908/12908 [==============================] - 65s 5ms/step - loss: 0.0350 - accuracy: 0.9940 - val_loss: 0.0404 - val_accuracy: 0.9929\n",
            "Epoch 19/20\n",
            "12908/12908 [==============================] - 65s 5ms/step - loss: 0.0352 - accuracy: 0.9940 - val_loss: 0.0400 - val_accuracy: 0.9929\n",
            "Epoch 20/20\n",
            "12908/12908 [==============================] - 65s 5ms/step - loss: 0.0352 - accuracy: 0.9940 - val_loss: 0.0404 - val_accuracy: 0.9929\n"
          ]
        },
        {
          "output_type": "execute_result",
          "data": {
            "text/plain": [
              "<keras.callbacks.History at 0x7fe731b44e80>"
            ]
          },
          "metadata": {},
          "execution_count": 29
        }
      ],
      "source": [
        "#Entrenamos el modelo\n",
        "cp = ModelCheckpoint('model/', save_best_only=True)\n",
        "earlyStop=EarlyStopping(monitor=\"val_loss\",verbose=3, patience=10)\n",
        "\n",
        "model.fit(X_train, y_train,validation_data=(X_test, y_test),epochs=20, callbacks=[cp, earlyStop])"
      ]
    },
    {
      "cell_type": "code",
      "execution_count": null,
      "metadata": {
        "colab": {
          "base_uri": "https://localhost:8080/"
        },
        "outputId": "73c03506-85ce-41b9-ae04-35a4b4def6e1",
        "id": "GGy0-ewj-8qB"
      },
      "outputs": [
        {
          "output_type": "stream",
          "name": "stdout",
          "text": [
            "2353/2353 - 6s - loss: 0.0404 - accuracy: 0.9929 - 6s/epoch - 2ms/step\n",
            "accuracy: 99.29%\n"
          ]
        }
      ],
      "source": [
        "scores = model.evaluate(X_test, y_test, verbose=2)\n",
        "print(\"%s: %.2f%%\" % (model.metrics_names[1], scores[1] * 100))"
      ]
    },
    {
      "cell_type": "code",
      "execution_count": null,
      "metadata": {
        "colab": {
          "base_uri": "https://localhost:8080/"
        },
        "outputId": "597df630-a419-488b-c0ff-1c33586f1879",
        "id": "5YPnsanx-8qD"
      },
      "outputs": [
        {
          "output_type": "stream",
          "name": "stdout",
          "text": [
            "2353/2353 [==============================] - 5s 2ms/step\n"
          ]
        }
      ],
      "source": [
        "y_pred_model_1 = model.predict(X_test)"
      ]
    },
    {
      "cell_type": "code",
      "execution_count": null,
      "metadata": {
        "colab": {
          "base_uri": "https://localhost:8080/"
        },
        "outputId": "5157863b-a89a-413a-da9b-c7a45cd087ac",
        "id": "HQ5_qdvO-8qE"
      },
      "outputs": [
        {
          "output_type": "stream",
          "name": "stdout",
          "text": [
            "              precision    recall  f1-score   support\n",
            "\n",
            "           0       0.99      1.00      1.00     74755\n",
            "           1       0.00      0.00      0.00       538\n",
            "\n",
            "    accuracy                           0.99     75293\n",
            "   macro avg       0.50      0.50      0.50     75293\n",
            "weighted avg       0.99      0.99      0.99     75293\n",
            "\n"
          ]
        },
        {
          "output_type": "stream",
          "name": "stderr",
          "text": [
            "/usr/local/lib/python3.8/dist-packages/sklearn/metrics/_classification.py:1318: UndefinedMetricWarning: Precision and F-score are ill-defined and being set to 0.0 in labels with no predicted samples. Use `zero_division` parameter to control this behavior.\n",
            "  _warn_prf(average, modifier, msg_start, len(result))\n",
            "/usr/local/lib/python3.8/dist-packages/sklearn/metrics/_classification.py:1318: UndefinedMetricWarning: Precision and F-score are ill-defined and being set to 0.0 in labels with no predicted samples. Use `zero_division` parameter to control this behavior.\n",
            "  _warn_prf(average, modifier, msg_start, len(result))\n",
            "/usr/local/lib/python3.8/dist-packages/sklearn/metrics/_classification.py:1318: UndefinedMetricWarning: Precision and F-score are ill-defined and being set to 0.0 in labels with no predicted samples. Use `zero_division` parameter to control this behavior.\n",
            "  _warn_prf(average, modifier, msg_start, len(result))\n"
          ]
        }
      ],
      "source": [
        "# print classification report\n",
        "y_pred_model1 = np.argmax(y_pred_model_1, axis=1)\n",
        "print(classification_report(y_test, y_pred_model1))"
      ]
    },
    {
      "cell_type": "code",
      "execution_count": null,
      "metadata": {
        "colab": {
          "base_uri": "https://localhost:8080/",
          "height": 317
        },
        "outputId": "c5677183-a12c-45fe-dba7-5f3db6b0b878",
        "id": "JwyHsvJi-8qF"
      },
      "outputs": [
        {
          "output_type": "stream",
          "name": "stdout",
          "text": [
            "[[74755     0]\n",
            " [  538     0]]\n"
          ]
        },
        {
          "output_type": "execute_result",
          "data": {
            "text/plain": [
              "<matplotlib.axes._subplots.AxesSubplot at 0x7fe6d73561f0>"
            ]
          },
          "metadata": {},
          "execution_count": 38
        },
        {
          "output_type": "display_data",
          "data": {
            "text/plain": [
              "<Figure size 432x288 with 2 Axes>"
            ],
            "image/png": "[encoded data removed]"
          },
          "metadata": {
            "needs_background": "light"
          }
        }
      ],
      "source": [
        "#Get the confusion matrix\n",
        "cf_matrix = confusion_matrix(y_test, y_pred_model1)\n",
        "print(cf_matrix)\n",
        "\n",
        "sns.heatmap(cf_matrix, annot=True, cmap='Blues')"
      ]
    },
    {
      "cell_type": "code",
      "execution_count": null,
      "metadata": {
        "colab": {
          "base_uri": "https://localhost:8080/",
          "height": 282
        },
        "outputId": "54124c83-6392-4358-fa2f-633116d46211",
        "id": "u73klI-j-8qG"
      },
      "outputs": [
        {
          "output_type": "execute_result",
          "data": {
            "text/plain": [
              "<matplotlib.axes._subplots.AxesSubplot at 0x7fe6d756a550>"
            ]
          },
          "metadata": {},
          "execution_count": 39
        },
        {
          "output_type": "display_data",
          "data": {
            "text/plain": [
              "<Figure size 432x288 with 2 Axes>"
            ],
            "image/png": "[encoded data removed]"
          },
          "metadata": {
            "needs_background": "light"
          }
        }
      ],
      "source": [
        "sns.heatmap(cf_matrix/np.sum(cf_matrix), annot=True, \n",
        "            fmt='.2%', cmap='Blues')"
      ]
    },
    {
      "cell_type": "markdown",
      "source": [
        "#Division de datos (UnderSampler Manual)"
      ],
      "metadata": {
        "id": "VK9v6Y5a9xnv"
      }
    },
    {
      "cell_type": "code",
      "source": [
        "df_sin_mov = df_all.loc['2015-01-01':'2022-12-31']"
      ],
      "metadata": {
        "id": "aUVappmr_Hm3"
      },
      "execution_count": null,
      "outputs": []
    },
    {
      "cell_type": "code",
      "execution_count": null,
      "metadata": {
        "id": "IWjOovp2qOzL",
        "colab": {
          "base_uri": "https://localhost:8080/",
          "height": 173
        },
        "outputId": "dcc23493-591b-4a91-a6e2-5ed3a5a540ac"
      },
      "outputs": [
        {
          "output_type": "execute_result",
          "data": {
            "text/plain": [
              "            indicativo    prec    tmax    tmed    tmin  velmedia   racha  \\\n",
              "ocurrencia                                                                 \n",
              "0               485316  485316  485316  485316  485316    485316  485316   \n",
              "1                 3029    3029    3029    3029    3029      3029    3029   \n",
              "\n",
              "               sol  presMax  presMin  ...  peligro  vulner  municipio  \\\n",
              "ocurrencia                            ...                               \n",
              "0           485316   485316   485316  ...   485316  485316     485316   \n",
              "1             3029     3029     3029  ...     3029    3029       3029   \n",
              "\n",
              "            cod_municipio  total_viajes_estacion  total_viajes_km_estacion  \\\n",
              "ocurrencia                                                                   \n",
              "0                  485316                 485316                    485316   \n",
              "1                    3029                   3029                      3029   \n",
              "\n",
              "            laborable  dayofyear  weekend     mes  \n",
              "ocurrencia                                         \n",
              "0              485316     485316   485316  485316  \n",
              "1                3029       3029     3029    3029  \n",
              "\n",
              "[2 rows x 24 columns]"
            ],
            "text/html": [
              "\n",
              "  <div id=\"df-a528539b-3854-4cda-9beb-359c543d0144\">\n",
              "    <div class=\"colab-df-container\">\n",
              "      <div>\n",
              "<style scoped>\n",
              "    .dataframe tbody tr th:only-of-type {\n",
              "        vertical-align: middle;\n",
              "    }\n",
              "\n",
              "    .dataframe tbody tr th {\n",
              "        vertical-align: top;\n",
              "    }\n",
              "\n",
              "    .dataframe thead th {\n",
              "        text-align: right;\n",
              "    }\n",
              "</style>\n",
              "<table border=\"1\" class=\"dataframe\">\n",
              "  <thead>\n",
              "    <tr style=\"text-align: right;\">\n",
              "      <th></th>\n",
              "      <th>indicativo</th>\n",
              "      <th>prec</th>\n",
              "      <th>tmax</th>\n",
              "      <th>tmed</th>\n",
              "      <th>tmin</th>\n",
              "      <th>velmedia</th>\n",
              "      <th>racha</th>\n",
              "      <th>sol</th>\n",
              "      <th>presMax</th>\n",
              "      <th>presMin</th>\n",
              "      <th>...</th>\n",
              "      <th>peligro</th>\n",
              "      <th>vulner</th>\n",
              "      <th>municipio</th>\n",
              "      <th>cod_municipio</th>\n",
              "      <th>total_viajes_estacion</th>\n",
              "      <th>total_viajes_km_estacion</th>\n",
              "      <th>laborable</th>\n",
              "      <th>dayofyear</th>\n",
              "      <th>weekend</th>\n",
              "      <th>mes</th>\n",
              "    </tr>\n",
              "    <tr>\n",
              "      <th>ocurrencia</th>\n",
              "      <th></th>\n",
              "      <th></th>\n",
              "      <th></th>\n",
              "      <th></th>\n",
              "      <th></th>\n",
              "      <th></th>\n",
              "      <th></th>\n",
              "      <th></th>\n",
              "      <th></th>\n",
              "      <th></th>\n",
              "      <th></th>\n",
              "      <th></th>\n",
              "      <th></th>\n",
              "      <th></th>\n",
              "      <th></th>\n",
              "      <th></th>\n",
              "      <th></th>\n",
              "      <th></th>\n",
              "      <th></th>\n",
              "      <th></th>\n",
              "      <th></th>\n",
              "    </tr>\n",
              "  </thead>\n",
              "  <tbody>\n",
              "    <tr>\n",
              "      <th>0</th>\n",
              "      <td>485316</td>\n",
              "      <td>485316</td>\n",
              "      <td>485316</td>\n",
              "      <td>485316</td>\n",
              "      <td>485316</td>\n",
              "      <td>485316</td>\n",
              "      <td>485316</td>\n",
              "      <td>485316</td>\n",
              "      <td>485316</td>\n",
              "      <td>485316</td>\n",
              "      <td>...</td>\n",
              "      <td>485316</td>\n",
              "      <td>485316</td>\n",
              "      <td>485316</td>\n",
              "      <td>485316</td>\n",
              "      <td>485316</td>\n",
              "      <td>485316</td>\n",
              "      <td>485316</td>\n",
              "      <td>485316</td>\n",
              "      <td>485316</td>\n",
              "      <td>485316</td>\n",
              "    </tr>\n",
              "    <tr>\n",
              "      <th>1</th>\n",
              "      <td>3029</td>\n",
              "      <td>3029</td>\n",
              "      <td>3029</td>\n",
              "      <td>3029</td>\n",
              "      <td>3029</td>\n",
              "      <td>3029</td>\n",
              "      <td>3029</td>\n",
              "      <td>3029</td>\n",
              "      <td>3029</td>\n",
              "      <td>3029</td>\n",
              "      <td>...</td>\n",
              "      <td>3029</td>\n",
              "      <td>3029</td>\n",
              "      <td>3029</td>\n",
              "      <td>3029</td>\n",
              "      <td>3029</td>\n",
              "      <td>3029</td>\n",
              "      <td>3029</td>\n",
              "      <td>3029</td>\n",
              "      <td>3029</td>\n",
              "      <td>3029</td>\n",
              "    </tr>\n",
              "  </tbody>\n",
              "</table>\n",
              "<p>2 rows × 24 columns</p>\n",
              "</div>\n",
              "      <button class=\"colab-df-convert\" onclick=\"convertToInteractive('df-a528539b-3854-4cda-9beb-359c543d0144')\"\n",
              "              title=\"Convert this dataframe to an interactive table.\"\n",
              "              style=\"display:none;\">\n",
              "        \n",
              "  <svg xmlns=\"http://www.w3.org/2000/svg\" height=\"24px\"viewBox=\"0 0 24 24\"\n",
              "       width=\"24px\">\n",
              "    <path d=\"M0 0h24v24H0V0z\" fill=\"none\"/>\n",
              "    <path d=\"M18.56 5.44l.94 2.06.94-2.06 2.06-.94-2.06-.94-.94-2.06-.94 2.06-2.06.94zm-11 1L8.5 8.5l.94-2.06 2.06-.94-2.06-.94L8.5 2.5l-.94 2.06-2.06.94zm10 10l.94 2.06.94-2.06 2.06-.94-2.06-.94-.94-2.06-.94 2.06-2.06.94z\"/><path d=\"M17.41 7.96l-1.37-1.37c-.4-.4-.92-.59-1.43-.59-.52 0-1.04.2-1.43.59L10.3 9.45l-7.72 7.72c-.78.78-.78 2.05 0 2.83L4 21.41c.39.39.9.59 1.41.59.51 0 1.02-.2 1.41-.59l7.78-7.78 2.81-2.81c.8-.78.8-2.07 0-2.86zM5.41 20L4 18.59l7.72-7.72 1.47 1.35L5.41 20z\"/>\n",
              "  </svg>\n",
              "      </button>\n",
              "      \n",
              "  <style>\n",
              "    .colab-df-container {\n",
              "      display:flex;\n",
              "      flex-wrap:wrap;\n",
              "      gap: 12px;\n",
              "    }\n",
              "\n",
              "    .colab-df-convert {\n",
              "      background-color: #E8F0FE;\n",
              "      border: none;\n",
              "      border-radius: 50%;\n",
              "      cursor: pointer;\n",
              "      display: none;\n",
              "      fill: #1967D2;\n",
              "      height: 32px;\n",
              "      padding: 0 0 0 0;\n",
              "      width: 32px;\n",
              "    }\n",
              "\n",
              "    .colab-df-convert:hover {\n",
              "      background-color: #E2EBFA;\n",
              "      box-shadow: 0px 1px 2px rgba(60, 64, 67, 0.3), 0px 1px 3px 1px rgba(60, 64, 67, 0.15);\n",
              "      fill: #174EA6;\n",
              "    }\n",
              "\n",
              "    [theme=dark] .colab-df-convert {\n",
              "      background-color: #3B4455;\n",
              "      fill: #D2E3FC;\n",
              "    }\n",
              "\n",
              "    [theme=dark] .colab-df-convert:hover {\n",
              "      background-color: #434B5C;\n",
              "      box-shadow: 0px 1px 3px 1px rgba(0, 0, 0, 0.15);\n",
              "      filter: drop-shadow(0px 1px 2px rgba(0, 0, 0, 0.3));\n",
              "      fill: #FFFFFF;\n",
              "    }\n",
              "  </style>\n",
              "\n",
              "      <script>\n",
              "        const buttonEl =\n",
              "          document.querySelector('#df-a528539b-3854-4cda-9beb-359c543d0144 button.colab-df-convert');\n",
              "        buttonEl.style.display =\n",
              "          google.colab.kernel.accessAllowed ? 'block' : 'none';\n",
              "\n",
              "        async function convertToInteractive(key) {\n",
              "          const element = document.querySelector('#df-a528539b-3854-4cda-9beb-359c543d0144');\n",
              "          const dataTable =\n",
              "            await google.colab.kernel.invokeFunction('convertToInteractive',\n",
              "                                                     [key], {});\n",
              "          if (!dataTable) return;\n",
              "\n",
              "          const docLinkHtml = 'Like what you see? Visit the ' +\n",
              "            '<a target=\"_blank\" href=https://colab.research.google.com/notebooks/data_table.ipynb>data table notebook</a>'\n",
              "            + ' to learn more about interactive tables.';\n",
              "          element.innerHTML = '';\n",
              "          dataTable['output_type'] = 'display_data';\n",
              "          await google.colab.output.renderOutput(dataTable, element);\n",
              "          const docLink = document.createElement('div');\n",
              "          docLink.innerHTML = docLinkHtml;\n",
              "          element.appendChild(docLink);\n",
              "        }\n",
              "      </script>\n",
              "    </div>\n",
              "  </div>\n",
              "  "
            ]
          },
          "metadata": {},
          "execution_count": 41
        }
      ],
      "source": [
        "df_all.groupby(\"ocurrencia\").count()"
      ]
    },
    {
      "cell_type": "code",
      "execution_count": null,
      "metadata": {
        "id": "N3ThLMLMojup",
        "colab": {
          "base_uri": "https://localhost:8080/"
        },
        "outputId": "58925617-3846-4caf-c578-9cc197a85053"
      },
      "outputs": [
        {
          "output_type": "execute_result",
          "data": {
            "text/plain": [
              "Index(['indicativo', 'prec', 'tmax', 'tmed', 'tmin', 'velmedia', 'racha',\n",
              "       'sol', 'presMax', 'presMin', 'rhum', 'altitud',\n",
              "       'porcentaje_pendiente_total', 'alto_riesgo', 'peligro', 'vulner',\n",
              "       'municipio', 'cod_municipio', 'total_viajes_estacion',\n",
              "       'total_viajes_km_estacion', 'laborable', 'dayofyear', 'weekend', 'mes'],\n",
              "      dtype='object')"
            ]
          },
          "metadata": {},
          "execution_count": 42
        }
      ],
      "source": [
        "df_all.groupby(\"ocurrencia\").count().columns"
      ]
    },
    {
      "cell_type": "code",
      "execution_count": null,
      "metadata": {
        "id": "fo93_QVUoMdW"
      },
      "outputs": [],
      "source": [
        "df_ocurrencia_0 = df_all[df_all[\"ocurrencia\"]==0].sample(3029)"
      ]
    },
    {
      "cell_type": "code",
      "execution_count": null,
      "metadata": {
        "id": "mBeER96doMoo"
      },
      "outputs": [],
      "source": [
        "df_ocurrencia_1 = df_all[df_all[\"ocurrencia\"]==1]"
      ]
    },
    {
      "cell_type": "code",
      "execution_count": null,
      "metadata": {
        "id": "kBbioEtwoMrd",
        "colab": {
          "base_uri": "https://localhost:8080/"
        },
        "outputId": "a9841f38-9fbb-45a5-8afc-c3577b2c6c8d"
      },
      "outputs": [
        {
          "output_type": "execute_result",
          "data": {
            "text/plain": [
              "(6058, 25)"
            ]
          },
          "metadata": {},
          "execution_count": 45
        }
      ],
      "source": [
        "df_all =  pd.concat([df_ocurrencia_0, df_ocurrencia_1])\n",
        "df_all.shape"
      ]
    },
    {
      "cell_type": "code",
      "execution_count": null,
      "metadata": {
        "id": "PMdoute6oWOH",
        "colab": {
          "base_uri": "https://localhost:8080/"
        },
        "outputId": "0200630e-3527-4d28-c26a-8db445d7062b"
      },
      "outputs": [
        {
          "output_type": "execute_result",
          "data": {
            "text/plain": [
              "197"
            ]
          },
          "metadata": {},
          "execution_count": 46
        }
      ],
      "source": [
        "x = df_all['indicativo'].unique()\n",
        "len(x)"
      ]
    },
    {
      "cell_type": "code",
      "execution_count": null,
      "metadata": {
        "id": "K3_OIoIXpEAi"
      },
      "outputs": [],
      "source": [
        "X = df_all.drop( ['ocurrencia', 'municipio', 'cod_municipio', 'indicativo', 'total_viajes_km_estacion'], axis=1)\n",
        "y = df_all['ocurrencia']"
      ]
    },
    {
      "cell_type": "code",
      "execution_count": null,
      "metadata": {
        "id": "8wOJ8_L3rWIF",
        "colab": {
          "base_uri": "https://localhost:8080/",
          "height": 455
        },
        "outputId": "5598c410-15a2-46fb-82a0-1c1f36bf3822"
      },
      "outputs": [
        {
          "output_type": "execute_result",
          "data": {
            "text/plain": [
              "            prec  tmax  tmed  tmin  velmedia  racha    sol  presMax  presMin  \\\n",
              "fecha                                                                          \n",
              "2016-02-06   0.0  17.6  16.8  16.0       3.8    7.0  598.0   1018.0   1017.3   \n",
              "2018-11-06   0.0  12.7  12.3  12.0       2.7    5.0  371.0   1009.5   1009.1   \n",
              "2020-05-08   0.0  21.6  21.1  20.5       4.8    7.5  759.0   1017.1   1016.1   \n",
              "2018-12-24   0.0  17.4  17.1  16.7       0.5    2.0  405.0    998.3    997.9   \n",
              "2019-12-08   0.0  13.8  13.6  13.2       3.5    7.4  428.0   1021.9   1021.5   \n",
              "...          ...   ...   ...   ...       ...    ...    ...      ...      ...   \n",
              "2019-03-06   2.0  14.0   9.2   4.4       2.2    8.1    0.0    980.8    970.9   \n",
              "2019-03-06   0.0  16.0  15.4  15.2       0.9    2.9  173.0   1001.4   1000.8   \n",
              "2019-03-07   0.0  13.9  13.4  13.0       2.1    5.7  745.0    935.4    935.0   \n",
              "2019-03-07   0.0  19.6  19.3  18.9       1.7    4.2  730.0    993.0    992.7   \n",
              "2019-03-08   0.0  13.4  13.1  12.8       3.0    5.4  721.0   1002.3   1002.1   \n",
              "\n",
              "            rhum  altitud  porcentaje_pendiente_total alto_riesgo   peligro  \\\n",
              "fecha                                                                         \n",
              "2016-02-06  60.0     73.0                        1.70          Sí  Molt Alt   \n",
              "2018-11-06  68.0    381.0                        6.80          Sí  Molt Alt   \n",
              "2020-05-08  78.0     11.0                        3.50          Sí       Alt   \n",
              "2018-12-24  49.0    348.0                        3.50          Sí    Exclos   \n",
              "2019-12-08  64.0     73.0                        1.70          Sí  Molt Alt   \n",
              "...          ...      ...                         ...         ...       ...   \n",
              "2019-03-06  94.0    277.0                        3.22          Sí       Alt   \n",
              "2019-03-06  83.0     87.0                        1.70          Sí  Molt Alt   \n",
              "2019-03-07  43.0    376.0                        2.80          Sí  Molt Alt   \n",
              "2019-03-07  32.0     87.0                        1.70          Sí  Molt Alt   \n",
              "2019-03-08  44.0    452.0                        6.80          Sí    Exclos   \n",
              "\n",
              "               vulner  total_viajes_estacion  laborable  dayofyear  weekend  \\\n",
              "fecha                                                                         \n",
              "2016-02-06   Moderada                   0.00          5         37        1   \n",
              "2018-11-06   Moderada                   0.00          1        310        0   \n",
              "2020-05-08      Baixa               20907.26          4        129        0   \n",
              "2018-12-24   Moderada                   0.00          0        358        0   \n",
              "2019-12-08   Moderada                   0.00          6        342        1   \n",
              "...               ...                    ...        ...        ...      ...   \n",
              "2019-03-06      Mitja                   0.00          2         65        0   \n",
              "2019-03-06  Molt Alta                   0.00          2         65        0   \n",
              "2019-03-07   Moderada                   0.00          3         66        0   \n",
              "2019-03-07  Molt Alta                   0.00          3         66        0   \n",
              "2019-03-08   Moderada                   0.00          4         67        0   \n",
              "\n",
              "            mes  \n",
              "fecha            \n",
              "2016-02-06    2  \n",
              "2018-11-06   11  \n",
              "2020-05-08    5  \n",
              "2018-12-24   12  \n",
              "2019-12-08   12  \n",
              "...         ...  \n",
              "2019-03-06    3  \n",
              "2019-03-06    3  \n",
              "2019-03-07    3  \n",
              "2019-03-07    3  \n",
              "2019-03-08    3  \n",
              "\n",
              "[4846 rows x 20 columns]"
            ],
            "text/html": [
              "\n",
              "  <div id=\"df-711b71fd-c14f-478d-839a-7f1b1f065dd0\">\n",
              "    <div class=\"colab-df-container\">\n",
              "      <div>\n",
              "<style scoped>\n",
              "    .dataframe tbody tr th:only-of-type {\n",
              "        vertical-align: middle;\n",
              "    }\n",
              "\n",
              "    .dataframe tbody tr th {\n",
              "        vertical-align: top;\n",
              "    }\n",
              "\n",
              "    .dataframe thead th {\n",
              "        text-align: right;\n",
              "    }\n",
              "</style>\n",
              "<table border=\"1\" class=\"dataframe\">\n",
              "  <thead>\n",
              "    <tr style=\"text-align: right;\">\n",
              "      <th></th>\n",
              "      <th>prec</th>\n",
              "      <th>tmax</th>\n",
              "      <th>tmed</th>\n",
              "      <th>tmin</th>\n",
              "      <th>velmedia</th>\n",
              "      <th>racha</th>\n",
              "      <th>sol</th>\n",
              "      <th>presMax</th>\n",
              "      <th>presMin</th>\n",
              "      <th>rhum</th>\n",
              "      <th>altitud</th>\n",
              "      <th>porcentaje_pendiente_total</th>\n",
              "      <th>alto_riesgo</th>\n",
              "      <th>peligro</th>\n",
              "      <th>vulner</th>\n",
              "      <th>total_viajes_estacion</th>\n",
              "      <th>laborable</th>\n",
              "      <th>dayofyear</th>\n",
              "      <th>weekend</th>\n",
              "      <th>mes</th>\n",
              "    </tr>\n",
              "    <tr>\n",
              "      <th>fecha</th>\n",
              "      <th></th>\n",
              "      <th></th>\n",
              "      <th></th>\n",
              "      <th></th>\n",
              "      <th></th>\n",
              "      <th></th>\n",
              "      <th></th>\n",
              "      <th></th>\n",
              "      <th></th>\n",
              "      <th></th>\n",
              "      <th></th>\n",
              "      <th></th>\n",
              "      <th></th>\n",
              "      <th></th>\n",
              "      <th></th>\n",
              "      <th></th>\n",
              "      <th></th>\n",
              "      <th></th>\n",
              "      <th></th>\n",
              "      <th></th>\n",
              "    </tr>\n",
              "  </thead>\n",
              "  <tbody>\n",
              "    <tr>\n",
              "      <th>2016-02-06</th>\n",
              "      <td>0.0</td>\n",
              "      <td>17.6</td>\n",
              "      <td>16.8</td>\n",
              "      <td>16.0</td>\n",
              "      <td>3.8</td>\n",
              "      <td>7.0</td>\n",
              "      <td>598.0</td>\n",
              "      <td>1018.0</td>\n",
              "      <td>1017.3</td>\n",
              "      <td>60.0</td>\n",
              "      <td>73.0</td>\n",
              "      <td>1.70</td>\n",
              "      <td>Sí</td>\n",
              "      <td>Molt Alt</td>\n",
              "      <td>Moderada</td>\n",
              "      <td>0.00</td>\n",
              "      <td>5</td>\n",
              "      <td>37</td>\n",
              "      <td>1</td>\n",
              "      <td>2</td>\n",
              "    </tr>\n",
              "    <tr>\n",
              "      <th>2018-11-06</th>\n",
              "      <td>0.0</td>\n",
              "      <td>12.7</td>\n",
              "      <td>12.3</td>\n",
              "      <td>12.0</td>\n",
              "      <td>2.7</td>\n",
              "      <td>5.0</td>\n",
              "      <td>371.0</td>\n",
              "      <td>1009.5</td>\n",
              "      <td>1009.1</td>\n",
              "      <td>68.0</td>\n",
              "      <td>381.0</td>\n",
              "      <td>6.80</td>\n",
              "      <td>Sí</td>\n",
              "      <td>Molt Alt</td>\n",
              "      <td>Moderada</td>\n",
              "      <td>0.00</td>\n",
              "      <td>1</td>\n",
              "      <td>310</td>\n",
              "      <td>0</td>\n",
              "      <td>11</td>\n",
              "    </tr>\n",
              "    <tr>\n",
              "      <th>2020-05-08</th>\n",
              "      <td>0.0</td>\n",
              "      <td>21.6</td>\n",
              "      <td>21.1</td>\n",
              "      <td>20.5</td>\n",
              "      <td>4.8</td>\n",
              "      <td>7.5</td>\n",
              "      <td>759.0</td>\n",
              "      <td>1017.1</td>\n",
              "      <td>1016.1</td>\n",
              "      <td>78.0</td>\n",
              "      <td>11.0</td>\n",
              "      <td>3.50</td>\n",
              "      <td>Sí</td>\n",
              "      <td>Alt</td>\n",
              "      <td>Baixa</td>\n",
              "      <td>20907.26</td>\n",
              "      <td>4</td>\n",
              "      <td>129</td>\n",
              "      <td>0</td>\n",
              "      <td>5</td>\n",
              "    </tr>\n",
              "    <tr>\n",
              "      <th>2018-12-24</th>\n",
              "      <td>0.0</td>\n",
              "      <td>17.4</td>\n",
              "      <td>17.1</td>\n",
              "      <td>16.7</td>\n",
              "      <td>0.5</td>\n",
              "      <td>2.0</td>\n",
              "      <td>405.0</td>\n",
              "      <td>998.3</td>\n",
              "      <td>997.9</td>\n",
              "      <td>49.0</td>\n",
              "      <td>348.0</td>\n",
              "      <td>3.50</td>\n",
              "      <td>Sí</td>\n",
              "      <td>Exclos</td>\n",
              "      <td>Moderada</td>\n",
              "      <td>0.00</td>\n",
              "      <td>0</td>\n",
              "      <td>358</td>\n",
              "      <td>0</td>\n",
              "      <td>12</td>\n",
              "    </tr>\n",
              "    <tr>\n",
              "      <th>2019-12-08</th>\n",
              "      <td>0.0</td>\n",
              "      <td>13.8</td>\n",
              "      <td>13.6</td>\n",
              "      <td>13.2</td>\n",
              "      <td>3.5</td>\n",
              "      <td>7.4</td>\n",
              "      <td>428.0</td>\n",
              "      <td>1021.9</td>\n",
              "      <td>1021.5</td>\n",
              "      <td>64.0</td>\n",
              "      <td>73.0</td>\n",
              "      <td>1.70</td>\n",
              "      <td>Sí</td>\n",
              "      <td>Molt Alt</td>\n",
              "      <td>Moderada</td>\n",
              "      <td>0.00</td>\n",
              "      <td>6</td>\n",
              "      <td>342</td>\n",
              "      <td>1</td>\n",
              "      <td>12</td>\n",
              "    </tr>\n",
              "    <tr>\n",
              "      <th>...</th>\n",
              "      <td>...</td>\n",
              "      <td>...</td>\n",
              "      <td>...</td>\n",
              "      <td>...</td>\n",
              "      <td>...</td>\n",
              "      <td>...</td>\n",
              "      <td>...</td>\n",
              "      <td>...</td>\n",
              "      <td>...</td>\n",
              "      <td>...</td>\n",
              "      <td>...</td>\n",
              "      <td>...</td>\n",
              "      <td>...</td>\n",
              "      <td>...</td>\n",
              "      <td>...</td>\n",
              "      <td>...</td>\n",
              "      <td>...</td>\n",
              "      <td>...</td>\n",
              "      <td>...</td>\n",
              "      <td>...</td>\n",
              "    </tr>\n",
              "    <tr>\n",
              "      <th>2019-03-06</th>\n",
              "      <td>2.0</td>\n",
              "      <td>14.0</td>\n",
              "      <td>9.2</td>\n",
              "      <td>4.4</td>\n",
              "      <td>2.2</td>\n",
              "      <td>8.1</td>\n",
              "      <td>0.0</td>\n",
              "      <td>980.8</td>\n",
              "      <td>970.9</td>\n",
              "      <td>94.0</td>\n",
              "      <td>277.0</td>\n",
              "      <td>3.22</td>\n",
              "      <td>Sí</td>\n",
              "      <td>Alt</td>\n",
              "      <td>Mitja</td>\n",
              "      <td>0.00</td>\n",
              "      <td>2</td>\n",
              "      <td>65</td>\n",
              "      <td>0</td>\n",
              "      <td>3</td>\n",
              "    </tr>\n",
              "    <tr>\n",
              "      <th>2019-03-06</th>\n",
              "      <td>0.0</td>\n",
              "      <td>16.0</td>\n",
              "      <td>15.4</td>\n",
              "      <td>15.2</td>\n",
              "      <td>0.9</td>\n",
              "      <td>2.9</td>\n",
              "      <td>173.0</td>\n",
              "      <td>1001.4</td>\n",
              "      <td>1000.8</td>\n",
              "      <td>83.0</td>\n",
              "      <td>87.0</td>\n",
              "      <td>1.70</td>\n",
              "      <td>Sí</td>\n",
              "      <td>Molt Alt</td>\n",
              "      <td>Molt Alta</td>\n",
              "      <td>0.00</td>\n",
              "      <td>2</td>\n",
              "      <td>65</td>\n",
              "      <td>0</td>\n",
              "      <td>3</td>\n",
              "    </tr>\n",
              "    <tr>\n",
              "      <th>2019-03-07</th>\n",
              "      <td>0.0</td>\n",
              "      <td>13.9</td>\n",
              "      <td>13.4</td>\n",
              "      <td>13.0</td>\n",
              "      <td>2.1</td>\n",
              "      <td>5.7</td>\n",
              "      <td>745.0</td>\n",
              "      <td>935.4</td>\n",
              "      <td>935.0</td>\n",
              "      <td>43.0</td>\n",
              "      <td>376.0</td>\n",
              "      <td>2.80</td>\n",
              "      <td>Sí</td>\n",
              "      <td>Molt Alt</td>\n",
              "      <td>Moderada</td>\n",
              "      <td>0.00</td>\n",
              "      <td>3</td>\n",
              "      <td>66</td>\n",
              "      <td>0</td>\n",
              "      <td>3</td>\n",
              "    </tr>\n",
              "    <tr>\n",
              "      <th>2019-03-07</th>\n",
              "      <td>0.0</td>\n",
              "      <td>19.6</td>\n",
              "      <td>19.3</td>\n",
              "      <td>18.9</td>\n",
              "      <td>1.7</td>\n",
              "      <td>4.2</td>\n",
              "      <td>730.0</td>\n",
              "      <td>993.0</td>\n",
              "      <td>992.7</td>\n",
              "      <td>32.0</td>\n",
              "      <td>87.0</td>\n",
              "      <td>1.70</td>\n",
              "      <td>Sí</td>\n",
              "      <td>Molt Alt</td>\n",
              "      <td>Molt Alta</td>\n",
              "      <td>0.00</td>\n",
              "      <td>3</td>\n",
              "      <td>66</td>\n",
              "      <td>0</td>\n",
              "      <td>3</td>\n",
              "    </tr>\n",
              "    <tr>\n",
              "      <th>2019-03-08</th>\n",
              "      <td>0.0</td>\n",
              "      <td>13.4</td>\n",
              "      <td>13.1</td>\n",
              "      <td>12.8</td>\n",
              "      <td>3.0</td>\n",
              "      <td>5.4</td>\n",
              "      <td>721.0</td>\n",
              "      <td>1002.3</td>\n",
              "      <td>1002.1</td>\n",
              "      <td>44.0</td>\n",
              "      <td>452.0</td>\n",
              "      <td>6.80</td>\n",
              "      <td>Sí</td>\n",
              "      <td>Exclos</td>\n",
              "      <td>Moderada</td>\n",
              "      <td>0.00</td>\n",
              "      <td>4</td>\n",
              "      <td>67</td>\n",
              "      <td>0</td>\n",
              "      <td>3</td>\n",
              "    </tr>\n",
              "  </tbody>\n",
              "</table>\n",
              "<p>4846 rows × 20 columns</p>\n",
              "</div>\n",
              "      <button class=\"colab-df-convert\" onclick=\"convertToInteractive('df-711b71fd-c14f-478d-839a-7f1b1f065dd0')\"\n",
              "              title=\"Convert this dataframe to an interactive table.\"\n",
              "              style=\"display:none;\">\n",
              "        \n",
              "  <svg xmlns=\"http://www.w3.org/2000/svg\" height=\"24px\"viewBox=\"0 0 24 24\"\n",
              "       width=\"24px\">\n",
              "    <path d=\"M0 0h24v24H0V0z\" fill=\"none\"/>\n",
              "    <path d=\"M18.56 5.44l.94 2.06.94-2.06 2.06-.94-2.06-.94-.94-2.06-.94 2.06-2.06.94zm-11 1L8.5 8.5l.94-2.06 2.06-.94-2.06-.94L8.5 2.5l-.94 2.06-2.06.94zm10 10l.94 2.06.94-2.06 2.06-.94-2.06-.94-.94-2.06-.94 2.06-2.06.94z\"/><path d=\"M17.41 7.96l-1.37-1.37c-.4-.4-.92-.59-1.43-.59-.52 0-1.04.2-1.43.59L10.3 9.45l-7.72 7.72c-.78.78-.78 2.05 0 2.83L4 21.41c.39.39.9.59 1.41.59.51 0 1.02-.2 1.41-.59l7.78-7.78 2.81-2.81c.8-.78.8-2.07 0-2.86zM5.41 20L4 18.59l7.72-7.72 1.47 1.35L5.41 20z\"/>\n",
              "  </svg>\n",
              "      </button>\n",
              "      \n",
              "  <style>\n",
              "    .colab-df-container {\n",
              "      display:flex;\n",
              "      flex-wrap:wrap;\n",
              "      gap: 12px;\n",
              "    }\n",
              "\n",
              "    .colab-df-convert {\n",
              "      background-color: #E8F0FE;\n",
              "      border: none;\n",
              "      border-radius: 50%;\n",
              "      cursor: pointer;\n",
              "      display: none;\n",
              "      fill: #1967D2;\n",
              "      height: 32px;\n",
              "      padding: 0 0 0 0;\n",
              "      width: 32px;\n",
              "    }\n",
              "\n",
              "    .colab-df-convert:hover {\n",
              "      background-color: #E2EBFA;\n",
              "      box-shadow: 0px 1px 2px rgba(60, 64, 67, 0.3), 0px 1px 3px 1px rgba(60, 64, 67, 0.15);\n",
              "      fill: #174EA6;\n",
              "    }\n",
              "\n",
              "    [theme=dark] .colab-df-convert {\n",
              "      background-color: #3B4455;\n",
              "      fill: #D2E3FC;\n",
              "    }\n",
              "\n",
              "    [theme=dark] .colab-df-convert:hover {\n",
              "      background-color: #434B5C;\n",
              "      box-shadow: 0px 1px 3px 1px rgba(0, 0, 0, 0.15);\n",
              "      filter: drop-shadow(0px 1px 2px rgba(0, 0, 0, 0.3));\n",
              "      fill: #FFFFFF;\n",
              "    }\n",
              "  </style>\n",
              "\n",
              "      <script>\n",
              "        const buttonEl =\n",
              "          document.querySelector('#df-711b71fd-c14f-478d-839a-7f1b1f065dd0 button.colab-df-convert');\n",
              "        buttonEl.style.display =\n",
              "          google.colab.kernel.accessAllowed ? 'block' : 'none';\n",
              "\n",
              "        async function convertToInteractive(key) {\n",
              "          const element = document.querySelector('#df-711b71fd-c14f-478d-839a-7f1b1f065dd0');\n",
              "          const dataTable =\n",
              "            await google.colab.kernel.invokeFunction('convertToInteractive',\n",
              "                                                     [key], {});\n",
              "          if (!dataTable) return;\n",
              "\n",
              "          const docLinkHtml = 'Like what you see? Visit the ' +\n",
              "            '<a target=\"_blank\" href=https://colab.research.google.com/notebooks/data_table.ipynb>data table notebook</a>'\n",
              "            + ' to learn more about interactive tables.';\n",
              "          element.innerHTML = '';\n",
              "          dataTable['output_type'] = 'display_data';\n",
              "          await google.colab.output.renderOutput(dataTable, element);\n",
              "          const docLink = document.createElement('div');\n",
              "          docLink.innerHTML = docLinkHtml;\n",
              "          element.appendChild(docLink);\n",
              "        }\n",
              "      </script>\n",
              "    </div>\n",
              "  </div>\n",
              "  "
            ]
          },
          "metadata": {},
          "execution_count": 60
        }
      ],
      "source": [
        "X_train, X_test, y_train, y_test = train_test_split(X, y, test_size=0.2, shuffle=False)\n",
        "X_train"
      ]
    },
    {
      "cell_type": "markdown",
      "metadata": {
        "id": "0ZquA5iHguHF"
      },
      "source": [
        "# 1.2. Normalizacion datos\n",
        "\n"
      ]
    },
    {
      "cell_type": "code",
      "execution_count": null,
      "metadata": {
        "id": "LlUojZYvguHK",
        "colab": {
          "base_uri": "https://localhost:8080/"
        },
        "outputId": "ba81c198-c713-4e5c-fbe2-e9694c6ac6bd"
      },
      "outputs": [
        {
          "output_type": "execute_result",
          "data": {
            "text/plain": [
              "((4846, 13), (1212, 13))"
            ]
          },
          "metadata": {},
          "execution_count": 61
        }
      ],
      "source": [
        "# normalizacion de los datos numericos\n",
        "numericalCols_train = X_train[[\"prec\", \"tmax\",  \"tmed\",  \"tmin\",  \"velmedia\",  \"racha\",  \"sol\",  \"presMax\",  \"presMin\",  \"rhum\",  \"altitud\", \"porcentaje_pendiente_total\", \"total_viajes_estacion\"]]  \n",
        "numericalCols_test = X_test[[\"prec\", \"tmax\",  \"tmed\",  \"tmin\",  \"velmedia\",  \"racha\",  \"sol\",  \"presMax\",  \"presMin\",  \"rhum\",  \"altitud\", \"porcentaje_pendiente_total\", \"total_viajes_estacion\"]]  \n",
        "\n",
        "scaler = StandardScaler()\n",
        "scaler.fit(numericalCols_train)\n",
        "\n",
        "numericalCols_train_scaled = scaler.transform(numericalCols_train)\n",
        "numericalCols_test_scaled = scaler.transform(numericalCols_test)\n",
        "\n",
        "numericalCols_train_scaled.shape , numericalCols_test_scaled.shape"
      ]
    },
    {
      "cell_type": "code",
      "execution_count": null,
      "metadata": {
        "id": "uqwyUuQSguHN",
        "colab": {
          "base_uri": "https://localhost:8080/"
        },
        "outputId": "5a6dfabd-9757-44d2-d831-5e64fb28d65c"
      },
      "outputs": [
        {
          "output_type": "execute_result",
          "data": {
            "text/plain": [
              "((4846, 12), (1212, 12))"
            ]
          },
          "metadata": {},
          "execution_count": 62
        }
      ],
      "source": [
        "# normalizacion de los datos categoricos , sin la ocurrencia\n",
        "categoricalCols_train = X_train[['alto_riesgo',\t'peligro',\t'vulner']]  #alto_riesgo\tpeligro\tvulner\n",
        "categoricalCols_train = OneHotEncoder().fit_transform(categoricalCols_train).toarray()\n",
        "\n",
        "# normalizacion de los datos categoricos , sin la ocurrencia\n",
        "categoricalCols_test = X_test[['alto_riesgo',\t'peligro',\t'vulner']]  #alto_riesgo\tpeligro\t y vulner\n",
        "categoricalCols_test = OneHotEncoder().fit_transform(categoricalCols_test).toarray()\n",
        "\n",
        "categoricalCols_train.shape, categoricalCols_test.shape"
      ]
    },
    {
      "cell_type": "code",
      "execution_count": null,
      "metadata": {
        "id": "1R4uBaja-9ZE"
      },
      "outputs": [],
      "source": [
        "Other_var_train = X_train[['laborable', \t'dayofyear', \t'weekend', \t'mes']]\n",
        "Other_var_test = X_test[['laborable', \t'dayofyear', \t'weekend', \t'mes']]  #alto_riesgo\tpeligro\t y vulner"
      ]
    },
    {
      "cell_type": "code",
      "execution_count": null,
      "metadata": {
        "id": "FxiJHaOo-9gc"
      },
      "outputs": [],
      "source": [
        "df_train_scaled = np.concatenate((numericalCols_train_scaled , categoricalCols_train, Other_var_train), axis=1)\n",
        "df_test_scaled = np.concatenate((numericalCols_test_scaled , categoricalCols_test, Other_var_test), axis=1)"
      ]
    },
    {
      "cell_type": "code",
      "execution_count": null,
      "metadata": {
        "id": "wS6ZYCiGguHR",
        "colab": {
          "base_uri": "https://localhost:8080/"
        },
        "outputId": "12a04af8-6cdd-44c5-f963-7b959ed82c17"
      },
      "outputs": [
        {
          "output_type": "execute_result",
          "data": {
            "text/plain": [
              "((4846, 29), (4846,), (1212, 29), (1212,))"
            ]
          },
          "metadata": {},
          "execution_count": 65
        }
      ],
      "source": [
        "df_train_scaled.shape, y_train.shape, df_test_scaled.shape, y_test.shape"
      ]
    },
    {
      "cell_type": "code",
      "execution_count": null,
      "metadata": {
        "id": "TOUerF64guHT",
        "colab": {
          "base_uri": "https://localhost:8080/"
        },
        "outputId": "7cacf507-e47b-451c-c7ef-47d20006beef"
      },
      "outputs": [
        {
          "output_type": "execute_result",
          "data": {
            "text/plain": [
              "((4846, 29, 1), (4846,))"
            ]
          },
          "metadata": {},
          "execution_count": 66
        }
      ],
      "source": [
        "X_train = df_train_scaled.reshape(df_train_scaled.shape[0],df_train_scaled.shape[1],1)\n",
        "X_train.shape, y_train.shape"
      ]
    },
    {
      "cell_type": "code",
      "execution_count": null,
      "metadata": {
        "id": "IrGQZoJ4guHW",
        "colab": {
          "base_uri": "https://localhost:8080/"
        },
        "outputId": "3b7274f4-a747-4cad-bf75-bb64e3cd7b30"
      },
      "outputs": [
        {
          "output_type": "execute_result",
          "data": {
            "text/plain": [
              "((1212, 29, 1), (1212,))"
            ]
          },
          "metadata": {},
          "execution_count": 67
        }
      ],
      "source": [
        "X_test = df_test_scaled.reshape(df_test_scaled.shape[0],df_test_scaled.shape[1],1)\n",
        "X_test.shape, y_test.shape"
      ]
    },
    {
      "cell_type": "markdown",
      "metadata": {
        "id": "CE03LeA2guHm"
      },
      "source": [
        "# 1.3. Model LSTM (df_all-  UnderSampling Manual)"
      ]
    },
    {
      "cell_type": "markdown",
      "metadata": {
        "id": "YQDwQbTMU0Iz"
      },
      "source": [
        "Vamos a generar una LSTM con dos capas\n",
        "\n",
        "1. LSTM - Es la capa que trabaja en la clasificación. Donde se indica el numero de neuronas\n",
        "2. Capa de dropout (apagado de neuronas)\n",
        "3. Capa de activacion sigmoide ya que estamos ante una clasificación biaria (0-1)\n",
        "4. Una única neurona de salida con un sigmoide"
      ]
    },
    {
      "cell_type": "code",
      "execution_count": null,
      "metadata": {
        "id": "vu0MVkiXguHt"
      },
      "outputs": [],
      "source": [
        "from tensorflow.keras.layers import Dropout\n",
        "from keras.models import Sequential\n",
        "from keras.layers import Dense, LSTM\n",
        "from tensorflow.keras.layers import InputLayer\n",
        "\n",
        "def modelLSTM(n_lstm = 200, activation = 'sigmoid',dropout_rate =0.2, optimizer='adam', batch_size = 32):\n",
        "    model=Sequential()\n",
        "    model.add(InputLayer((29,1)))\n",
        "    model.add(LSTM(n_lstm))\n",
        "    model.add(Dropout(dropout_rate))\n",
        "    model.add(Dense(29, activation=activation))\n",
        "    model.add(Dropout(dropout_rate))\n",
        "    model.add(Dense(1, activation=activation))\n",
        "    model.compile(loss='binary_crossentropy', optimizer=optimizer, metrics=['accuracy'])\n",
        "    return model\n"
      ]
    },
    {
      "cell_type": "code",
      "execution_count": null,
      "metadata": {
        "id": "jxjxMgmxguH-"
      },
      "outputs": [],
      "source": [
        "model = modelLSTM()"
      ]
    },
    {
      "cell_type": "code",
      "execution_count": null,
      "metadata": {
        "colab": {
          "base_uri": "https://localhost:8080/"
        },
        "id": "aungy6UPdrcB",
        "outputId": "9d09bd82-db6f-48c1-b871-33c8e4779766"
      },
      "outputs": [
        {
          "output_type": "stream",
          "name": "stdout",
          "text": [
            "Model: \"sequential_2\"\n",
            "_________________________________________________________________\n",
            " Layer (type)                Output Shape              Param #   \n",
            "=================================================================\n",
            " lstm_2 (LSTM)               (None, 200)               161600    \n",
            "                                                                 \n",
            " dropout_4 (Dropout)         (None, 200)               0         \n",
            "                                                                 \n",
            " dense_4 (Dense)             (None, 29)                5829      \n",
            "                                                                 \n",
            " dropout_5 (Dropout)         (None, 29)                0         \n",
            "                                                                 \n",
            " dense_5 (Dense)             (None, 1)                 30        \n",
            "                                                                 \n",
            "=================================================================\n",
            "Total params: 167,459\n",
            "Trainable params: 167,459\n",
            "Non-trainable params: 0\n",
            "_________________________________________________________________\n"
          ]
        }
      ],
      "source": [
        "model.summary()"
      ]
    },
    {
      "cell_type": "code",
      "execution_count": null,
      "metadata": {
        "colab": {
          "base_uri": "https://localhost:8080/"
        },
        "id": "09lROvGHguIG",
        "outputId": "83927131-6dd9-42fb-d3e1-5eb48514cab5"
      },
      "outputs": [
        {
          "output_type": "stream",
          "name": "stdout",
          "text": [
            "Epoch 1/20\n",
            "152/152 [==============================] - ETA: 0s - loss: 0.6422 - accuracy: 0.6209"
          ]
        },
        {
          "output_type": "stream",
          "name": "stderr",
          "text": [
            "WARNING:absl:Found untraced functions such as lstm_cell_2_layer_call_fn, lstm_cell_2_layer_call_and_return_conditional_losses while saving (showing 2 of 2). These functions will not be directly callable after loading.\n"
          ]
        },
        {
          "output_type": "stream",
          "name": "stdout",
          "text": [
            "\b\b\b\b\b\b\b\b\b\b\b\b\b\b\b\b\b\b\b\b\b\b\b\b\b\b\b\b\b\b\b\b\b\b\b\b\b\b\b\b\b\b\b\b\b\b\b\b\b\b\b\b\b\b\b\b\b\b\b\b\b\b\b\b\b\b\b\b\b\b\b\b\b\b\b\b\b\b\b\b\b\b\b\b\r152/152 [==============================] - 7s 33ms/step - loss: 0.6422 - accuracy: 0.6209 - val_loss: 0.8278 - val_accuracy: 0.6411\n",
            "Epoch 2/20\n",
            "152/152 [==============================] - 1s 6ms/step - loss: 0.6289 - accuracy: 0.6341 - val_loss: 0.8473 - val_accuracy: 0.5536\n",
            "Epoch 3/20\n",
            "152/152 [==============================] - 1s 5ms/step - loss: 0.6201 - accuracy: 0.6432 - val_loss: 0.8790 - val_accuracy: 0.5561\n",
            "Epoch 4/20\n",
            "152/152 [==============================] - 1s 5ms/step - loss: 0.6237 - accuracy: 0.6428 - val_loss: 0.8850 - val_accuracy: 0.2492\n",
            "Epoch 5/20\n",
            "152/152 [==============================] - 1s 5ms/step - loss: 0.6167 - accuracy: 0.6416 - val_loss: 0.8772 - val_accuracy: 0.5132\n",
            "Epoch 6/20\n",
            "149/152 [============================>.] - ETA: 0s - loss: 0.6160 - accuracy: 0.6470"
          ]
        },
        {
          "output_type": "stream",
          "name": "stderr",
          "text": [
            "WARNING:absl:Found untraced functions such as lstm_cell_2_layer_call_fn, lstm_cell_2_layer_call_and_return_conditional_losses while saving (showing 2 of 2). These functions will not be directly callable after loading.\n"
          ]
        },
        {
          "output_type": "stream",
          "name": "stdout",
          "text": [
            "\b\b\b\b\b\b\b\b\b\b\b\b\b\b\b\b\b\b\b\b\b\b\b\b\b\b\b\b\b\b\b\b\b\b\b\b\b\b\b\b\b\b\b\b\b\b\b\b\b\b\b\b\b\b\b\b\b\b\b\b\b\b\b\b\b\b\b\b\b\b\b\b\b\b\b\b\b\b\b\b\b\b\b\b\r152/152 [==============================] - 5s 32ms/step - loss: 0.6155 - accuracy: 0.6486 - val_loss: 0.7661 - val_accuracy: 0.6683\n",
            "Epoch 7/20\n",
            "152/152 [==============================] - 1s 9ms/step - loss: 0.6138 - accuracy: 0.6428 - val_loss: 1.0628 - val_accuracy: 0.0124\n",
            "Epoch 8/20\n",
            "152/152 [==============================] - 1s 9ms/step - loss: 0.6137 - accuracy: 0.6463 - val_loss: 0.8938 - val_accuracy: 0.5998\n",
            "Epoch 9/20\n",
            "152/152 [==============================] - 1s 5ms/step - loss: 0.6147 - accuracy: 0.6548 - val_loss: 1.0132 - val_accuracy: 0.0734\n",
            "Epoch 10/20\n",
            "149/152 [============================>.] - ETA: 0s - loss: 0.6148 - accuracy: 0.6516"
          ]
        },
        {
          "output_type": "stream",
          "name": "stderr",
          "text": [
            "WARNING:absl:Found untraced functions such as lstm_cell_2_layer_call_fn, lstm_cell_2_layer_call_and_return_conditional_losses while saving (showing 2 of 2). These functions will not be directly callable after loading.\n"
          ]
        },
        {
          "output_type": "stream",
          "name": "stdout",
          "text": [
            "\b\b\b\b\b\b\b\b\b\b\b\b\b\b\b\b\b\b\b\b\b\b\b\b\b\b\b\b\b\b\b\b\b\b\b\b\b\b\b\b\b\b\b\b\b\b\b\b\b\b\b\b\b\b\b\b\b\b\b\b\b\b\b\b\b\b\b\b\b\b\b\b\b\b\b\b\b\b\b\b\b\b\b\b\r152/152 [==============================] - 5s 31ms/step - loss: 0.6159 - accuracy: 0.6513 - val_loss: 0.6988 - val_accuracy: 0.6452\n",
            "Epoch 11/20\n",
            "152/152 [==============================] - 1s 5ms/step - loss: 0.6117 - accuracy: 0.6554 - val_loss: 0.9168 - val_accuracy: 0.5487\n",
            "Epoch 12/20\n",
            "152/152 [==============================] - 1s 5ms/step - loss: 0.6082 - accuracy: 0.6643 - val_loss: 0.8526 - val_accuracy: 0.4761\n",
            "Epoch 13/20\n",
            "152/152 [==============================] - 1s 5ms/step - loss: 0.6070 - accuracy: 0.6552 - val_loss: 0.8197 - val_accuracy: 0.6304\n",
            "Epoch 14/20\n",
            "152/152 [==============================] - 1s 5ms/step - loss: 0.6074 - accuracy: 0.6558 - val_loss: 1.0156 - val_accuracy: 0.0413\n",
            "Epoch 15/20\n",
            "152/152 [==============================] - 1s 5ms/step - loss: 0.6014 - accuracy: 0.6579 - val_loss: 0.9360 - val_accuracy: 0.4711\n",
            "Epoch 16/20\n",
            "152/152 [==============================] - 1s 5ms/step - loss: 0.6023 - accuracy: 0.6649 - val_loss: 0.9819 - val_accuracy: 0.3119\n",
            "Epoch 17/20\n",
            "152/152 [==============================] - 1s 5ms/step - loss: 0.6008 - accuracy: 0.6562 - val_loss: 0.9903 - val_accuracy: 0.3969\n",
            "Epoch 18/20\n",
            "152/152 [==============================] - 1s 5ms/step - loss: 0.6053 - accuracy: 0.6566 - val_loss: 0.9148 - val_accuracy: 0.5536\n",
            "Epoch 19/20\n",
            "152/152 [==============================] - 1s 5ms/step - loss: 0.6071 - accuracy: 0.6583 - val_loss: 1.0194 - val_accuracy: 0.1832\n",
            "Epoch 20/20\n",
            "152/152 [==============================] - 1s 5ms/step - loss: 0.6003 - accuracy: 0.6632 - val_loss: 0.7869 - val_accuracy: 0.5479\n",
            "Epoch 20: early stopping\n"
          ]
        },
        {
          "output_type": "execute_result",
          "data": {
            "text/plain": [
              "<keras.callbacks.History at 0x7fe6d70b5e50>"
            ]
          },
          "metadata": {},
          "execution_count": 71
        }
      ],
      "source": [
        "#Entrenamos el modelo\n",
        "cp = ModelCheckpoint('model/', save_best_only=True)\n",
        "earlyStop=EarlyStopping(monitor=\"val_loss\",verbose=3, patience=10)\n",
        "\n",
        "model.fit(X_train, y_train,validation_data=(X_test, y_test),epochs=20, callbacks=[cp, earlyStop])"
      ]
    },
    {
      "cell_type": "code",
      "execution_count": null,
      "metadata": {
        "colab": {
          "base_uri": "https://localhost:8080/"
        },
        "id": "_tDM5NPUt6pq",
        "outputId": "c4b4cae1-22f6-435a-8310-a6a31e19d531"
      },
      "outputs": [
        {
          "output_type": "stream",
          "name": "stdout",
          "text": [
            "38/38 - 0s - loss: 0.7869 - accuracy: 0.5479 - 101ms/epoch - 3ms/step\n",
            "accuracy: 54.79%\n"
          ]
        }
      ],
      "source": [
        "scores = model.evaluate(X_test, y_test, verbose=2)\n",
        "print(\"%s: %.2f%%\" % (model.metrics_names[1], scores[1] * 100))"
      ]
    },
    {
      "cell_type": "code",
      "execution_count": null,
      "metadata": {
        "colab": {
          "base_uri": "https://localhost:8080/"
        },
        "id": "DRijGHxfguIM",
        "outputId": "19666448-3de3-417b-8908-77cc8c1e2e1b"
      },
      "outputs": [
        {
          "output_type": "stream",
          "name": "stdout",
          "text": [
            "38/38 [==============================] - 0s 2ms/step\n"
          ]
        }
      ],
      "source": [
        "y_pred_model_1 = model.predict(X_test)"
      ]
    },
    {
      "cell_type": "code",
      "execution_count": null,
      "metadata": {
        "colab": {
          "base_uri": "https://localhost:8080/"
        },
        "id": "UxEXla3h6C10",
        "outputId": "6ac472a1-becb-4426-8695-9ce19127880c"
      },
      "outputs": [
        {
          "output_type": "stream",
          "name": "stdout",
          "text": [
            "              precision    recall  f1-score   support\n",
            "\n",
            "           0       0.00      0.00      0.00       0.0\n",
            "           1       0.00      0.00      0.00    1212.0\n",
            "\n",
            "    accuracy                           0.00    1212.0\n",
            "   macro avg       0.00      0.00      0.00    1212.0\n",
            "weighted avg       0.00      0.00      0.00    1212.0\n",
            "\n"
          ]
        },
        {
          "output_type": "stream",
          "name": "stderr",
          "text": [
            "/usr/local/lib/python3.8/dist-packages/sklearn/metrics/_classification.py:1318: UndefinedMetricWarning: Precision and F-score are ill-defined and being set to 0.0 in labels with no predicted samples. Use `zero_division` parameter to control this behavior.\n",
            "  _warn_prf(average, modifier, msg_start, len(result))\n",
            "/usr/local/lib/python3.8/dist-packages/sklearn/metrics/_classification.py:1318: UndefinedMetricWarning: Recall and F-score are ill-defined and being set to 0.0 in labels with no true samples. Use `zero_division` parameter to control this behavior.\n",
            "  _warn_prf(average, modifier, msg_start, len(result))\n",
            "/usr/local/lib/python3.8/dist-packages/sklearn/metrics/_classification.py:1318: UndefinedMetricWarning: Precision and F-score are ill-defined and being set to 0.0 in labels with no predicted samples. Use `zero_division` parameter to control this behavior.\n",
            "  _warn_prf(average, modifier, msg_start, len(result))\n",
            "/usr/local/lib/python3.8/dist-packages/sklearn/metrics/_classification.py:1318: UndefinedMetricWarning: Recall and F-score are ill-defined and being set to 0.0 in labels with no true samples. Use `zero_division` parameter to control this behavior.\n",
            "  _warn_prf(average, modifier, msg_start, len(result))\n",
            "/usr/local/lib/python3.8/dist-packages/sklearn/metrics/_classification.py:1318: UndefinedMetricWarning: Precision and F-score are ill-defined and being set to 0.0 in labels with no predicted samples. Use `zero_division` parameter to control this behavior.\n",
            "  _warn_prf(average, modifier, msg_start, len(result))\n",
            "/usr/local/lib/python3.8/dist-packages/sklearn/metrics/_classification.py:1318: UndefinedMetricWarning: Recall and F-score are ill-defined and being set to 0.0 in labels with no true samples. Use `zero_division` parameter to control this behavior.\n",
            "  _warn_prf(average, modifier, msg_start, len(result))\n"
          ]
        }
      ],
      "source": [
        "# print classification report\n",
        "y_pred_model1 = np.argmax(y_pred_model_1, axis=1)\n",
        "print(classification_report(y_test, y_pred_model1))"
      ]
    },
    {
      "cell_type": "code",
      "execution_count": null,
      "metadata": {
        "colab": {
          "base_uri": "https://localhost:8080/",
          "height": 319
        },
        "id": "SBmUvZtANJxa",
        "outputId": "a7f076ad-2209-4785-ee9d-20f0674fb905"
      },
      "outputs": [
        {
          "output_type": "stream",
          "name": "stdout",
          "text": [
            "[[   0    0]\n",
            " [1212    0]]\n"
          ]
        },
        {
          "output_type": "execute_result",
          "data": {
            "text/plain": [
              "<matplotlib.axes._subplots.AxesSubplot at 0x7fe6d784d460>"
            ]
          },
          "metadata": {},
          "execution_count": 75
        },
        {
          "output_type": "display_data",
          "data": {
            "text/plain": [
              "<Figure size 432x288 with 2 Axes>"
            ],
            "image/png": "[encoded data removed]"
          },
          "metadata": {
            "needs_background": "light"
          }
        }
      ],
      "source": [
        "#Get the confusion matrix\n",
        "cf_matrix = confusion_matrix(y_test, y_pred_model1)\n",
        "print(cf_matrix)\n",
        "\n",
        "sns.heatmap(cf_matrix, annot=True, cmap='Blues')"
      ]
    },
    {
      "cell_type": "code",
      "execution_count": null,
      "metadata": {
        "colab": {
          "base_uri": "https://localhost:8080/",
          "height": 286
        },
        "id": "CYoa-LQa8bPj",
        "outputId": "33492fe7-012f-4a68-9402-7f03464f3988"
      },
      "outputs": [
        {
          "output_type": "execute_result",
          "data": {
            "text/plain": [
              "<matplotlib.axes._subplots.AxesSubplot at 0x7fe6d62d2670>"
            ]
          },
          "metadata": {},
          "execution_count": 76
        },
        {
          "output_type": "display_data",
          "data": {
            "text/plain": [
              "<Figure size 432x288 with 2 Axes>"
            ],
            "image/png": "[encoded data removed]"
          },
          "metadata": {
            "needs_background": "light"
          }
        }
      ],
      "source": [
        "sns.heatmap(cf_matrix/np.sum(cf_matrix), annot=True, \n",
        "            fmt='.2%', cmap='Blues')"
      ]
    },
    {
      "cell_type": "markdown",
      "metadata": {
        "id": "D3JSsr2ZFgeO"
      },
      "source": [
        "# 1.3.1 GridSearch -  Modelo LSTM con division manual (X_train y_train)"
      ]
    },
    {
      "cell_type": "code",
      "execution_count": null,
      "metadata": {
        "id": "_SImc632FgeP",
        "colab": {
          "base_uri": "https://localhost:8080/"
        },
        "outputId": "c485bbd8-029d-47d6-bbc7-3312ce4dfe82"
      },
      "outputs": [
        {
          "output_type": "stream",
          "name": "stdout",
          "text": [
            "Looking in indexes: https://pypi.org/simple, https://us-python.pkg.dev/colab-wheels/public/simple/\n",
            "Requirement already satisfied: scikeras in /usr/local/lib/python3.8/dist-packages (0.10.0)\n",
            "Requirement already satisfied: scikit-learn>=1.0.0 in /usr/local/lib/python3.8/dist-packages (from scikeras) (1.0.2)\n",
            "Requirement already satisfied: packaging>=0.21 in /usr/local/lib/python3.8/dist-packages (from scikeras) (21.3)\n",
            "Requirement already satisfied: pyparsing!=3.0.5,>=2.0.2 in /usr/local/lib/python3.8/dist-packages (from packaging>=0.21->scikeras) (3.0.9)\n",
            "Requirement already satisfied: scipy>=1.1.0 in /usr/local/lib/python3.8/dist-packages (from scikit-learn>=1.0.0->scikeras) (1.7.3)\n",
            "Requirement already satisfied: joblib>=0.11 in /usr/local/lib/python3.8/dist-packages (from scikit-learn>=1.0.0->scikeras) (1.2.0)\n",
            "Requirement already satisfied: threadpoolctl>=2.0.0 in /usr/local/lib/python3.8/dist-packages (from scikit-learn>=1.0.0->scikeras) (3.1.0)\n",
            "Requirement already satisfied: numpy>=1.14.6 in /usr/local/lib/python3.8/dist-packages (from scikit-learn>=1.0.0->scikeras) (1.21.6)\n"
          ]
        }
      ],
      "source": [
        "!pip install scikeras"
      ]
    },
    {
      "cell_type": "code",
      "execution_count": null,
      "metadata": {
        "id": "I_fWrAvTFgeQ",
        "colab": {
          "base_uri": "https://localhost:8080/"
        },
        "outputId": "cd20a517-9bf4-46ea-da1a-98c99f9d26a2"
      },
      "outputs": [
        {
          "output_type": "stream",
          "name": "stdout",
          "text": [
            "Epoch 1/20\n",
            "Epoch 2/20\n",
            "Epoch 3/20\n",
            "Epoch 4/20\n",
            "Epoch 5/20\n",
            "Epoch 6/20\n",
            "Epoch 7/20\n",
            "Epoch 8/20\n",
            "Epoch 9/20\n",
            "Epoch 10/20\n",
            "Epoch 11/20\n",
            "Epoch 12/20\n",
            "Epoch 13/20\n",
            "Epoch 14/20\n",
            "Epoch 15/20\n",
            "Epoch 16/20\n",
            "Epoch 17/20\n",
            "Epoch 18/20\n",
            "Epoch 19/20\n",
            "Epoch 20/20\n",
            "Best: 0.643619 using {'batch_size': 16, 'class_weight': {0: 1, 1: 1}, 'epochs': 20, 'optimizer': 'adam'}\n",
            "0.643619 (0.017591) with: {'batch_size': 16, 'class_weight': {0: 1, 1: 1}, 'epochs': 20, 'optimizer': 'adam'}\n",
            "0.455650 (0.066721) with: {'batch_size': 16, 'class_weight': {0: 1, 1: 5}, 'epochs': 20, 'optimizer': 'adam'}\n",
            "0.396207 (0.028737) with: {'batch_size': 16, 'class_weight': {0: 1, 1: 10}, 'epochs': 20, 'optimizer': 'adam'}\n",
            "0.638264 (0.031182) with: {'batch_size': 32, 'class_weight': {0: 1, 1: 1}, 'epochs': 20, 'optimizer': 'adam'}\n",
            "0.440583 (0.054462) with: {'batch_size': 32, 'class_weight': {0: 1, 1: 5}, 'epochs': 20, 'optimizer': 'adam'}\n",
            "0.376600 (0.003159) with: {'batch_size': 32, 'class_weight': {0: 1, 1: 10}, 'epochs': 20, 'optimizer': 'adam'}\n",
            "0.637019 (0.025899) with: {'batch_size': 64, 'class_weight': {0: 1, 1: 1}, 'epochs': 20, 'optimizer': 'adam'}\n",
            "0.505778 (0.013909) with: {'batch_size': 64, 'class_weight': {0: 1, 1: 5}, 'epochs': 20, 'optimizer': 'adam'}\n",
            "0.384649 (0.020273) with: {'batch_size': 64, 'class_weight': {0: 1, 1: 10}, 'epochs': 20, 'optimizer': 'adam'}\n"
          ]
        }
      ],
      "source": [
        "# create model\n",
        "model = KerasClassifier(model=modelLSTM, verbose=3, loss=\"binary_crossentropy\", epochs=20, batch_size=32)\n",
        "\n",
        "# define the grid search parameters\n",
        "batch_size = [16, 32, 64]\n",
        "epochs = [20]\n",
        "optimizer = ['adam']\n",
        "class_weight = [{0: 1, 1: 1}, {0: 1, 1: 5}, {0: 1, 1: 10}]\n",
        "\n",
        "\n",
        "param_grid = dict(batch_size=batch_size,\n",
        "                  epochs=epochs,\n",
        "                  optimizer=optimizer,\n",
        "                  class_weight= class_weight\n",
        "                  )\n",
        "#Grid\n",
        "grid = GridSearchCV(estimator=model, \n",
        "                    param_grid=param_grid, \n",
        "                    n_jobs=-1, \n",
        "                    cv=5)\n",
        "\n",
        "grid_result = grid.fit(X_train, y_train)\n",
        "\n",
        "# summarize results\n",
        "print(\"Best: %f using %s\" % (grid_result.best_score_, grid_result.best_params_))\n",
        "means = grid_result.cv_results_['mean_test_score']\n",
        "stds = grid_result.cv_results_['std_test_score']\n",
        "params = grid_result.cv_results_['params']\n",
        "for mean, stdev, param in zip(means, stds, params):\n",
        "  print(\"%f (%f) with: %r\" % (mean, stdev, param))"
      ]
    },
    {
      "cell_type": "code",
      "execution_count": null,
      "metadata": {
        "id": "IqZiP5UXFgeR",
        "colab": {
          "base_uri": "https://localhost:8080/"
        },
        "outputId": "badfbf0b-bf2d-4b0e-d6ef-4da1d5cacd4d"
      },
      "outputs": [
        {
          "output_type": "execute_result",
          "data": {
            "text/plain": [
              "KerasClassifier(\n",
              "\tmodel=<function modelLSTM at 0x7fe6d70111f0>\n",
              "\tbuild_fn=None\n",
              "\twarm_start=False\n",
              "\trandom_state=None\n",
              "\toptimizer=adam\n",
              "\tloss=binary_crossentropy\n",
              "\tmetrics=None\n",
              "\tbatch_size=16\n",
              "\tvalidation_batch_size=None\n",
              "\tverbose=3\n",
              "\tcallbacks=None\n",
              "\tvalidation_split=0.0\n",
              "\tshuffle=True\n",
              "\trun_eagerly=False\n",
              "\tepochs=20\n",
              "\tclass_weight={0: 1, 1: 1}\n",
              ")"
            ]
          },
          "metadata": {},
          "execution_count": 79
        }
      ],
      "source": [
        "final_model = grid_result.best_estimator_\n",
        "final_model"
      ]
    },
    {
      "cell_type": "code",
      "execution_count": null,
      "metadata": {
        "id": "bOMzLzANFgeR",
        "colab": {
          "base_uri": "https://localhost:8080/",
          "height": 317
        },
        "outputId": "9e158219-6027-4cf7-b29b-8a2d6d2581a9"
      },
      "outputs": [
        {
          "output_type": "stream",
          "name": "stdout",
          "text": [
            "[[  0   0]\n",
            " [684 528]]\n"
          ]
        },
        {
          "output_type": "execute_result",
          "data": {
            "text/plain": [
              "<matplotlib.axes._subplots.AxesSubplot at 0x7fe6d62ca8b0>"
            ]
          },
          "metadata": {},
          "execution_count": 80
        },
        {
          "output_type": "display_data",
          "data": {
            "text/plain": [
              "<Figure size 432x288 with 2 Axes>"
            ],
            "image/png": "[encoded data removed]"
          },
          "metadata": {
            "needs_background": "light"
          }
        }
      ],
      "source": [
        "y_pred = final_model.predict(X_test)\n",
        "\n",
        "cm = confusion_matrix(y_test, y_pred)\n",
        "print(cm)\n",
        "sns.heatmap(cm, cmap = 'Blues', annot=True)"
      ]
    },
    {
      "cell_type": "code",
      "source": [
        "print(classification_report(y_test, y_pred))"
      ],
      "metadata": {
        "colab": {
          "base_uri": "https://localhost:8080/"
        },
        "id": "hPCdBgeZD1AM",
        "outputId": "1b490c2f-0f1b-4bb0-9196-524d0891c23c"
      },
      "execution_count": null,
      "outputs": [
        {
          "output_type": "stream",
          "name": "stdout",
          "text": [
            "              precision    recall  f1-score   support\n",
            "\n",
            "           0       0.00      0.00      0.00         0\n",
            "           1       1.00      0.42      0.59      1212\n",
            "\n",
            "    accuracy                           0.42      1212\n",
            "   macro avg       0.50      0.21      0.29      1212\n",
            "weighted avg       1.00      0.42      0.59      1212\n",
            "\n"
          ]
        },
        {
          "output_type": "stream",
          "name": "stderr",
          "text": [
            "/usr/local/lib/python3.8/dist-packages/sklearn/metrics/_classification.py:1318: UndefinedMetricWarning: Recall and F-score are ill-defined and being set to 0.0 in labels with no true samples. Use `zero_division` parameter to control this behavior.\n",
            "  _warn_prf(average, modifier, msg_start, len(result))\n",
            "/usr/local/lib/python3.8/dist-packages/sklearn/metrics/_classification.py:1318: UndefinedMetricWarning: Recall and F-score are ill-defined and being set to 0.0 in labels with no true samples. Use `zero_division` parameter to control this behavior.\n",
            "  _warn_prf(average, modifier, msg_start, len(result))\n",
            "/usr/local/lib/python3.8/dist-packages/sklearn/metrics/_classification.py:1318: UndefinedMetricWarning: Recall and F-score are ill-defined and being set to 0.0 in labels with no true samples. Use `zero_division` parameter to control this behavior.\n",
            "  _warn_prf(average, modifier, msg_start, len(result))\n"
          ]
        }
      ]
    },
    {
      "cell_type": "code",
      "execution_count": null,
      "metadata": {
        "id": "uI01_3ssFgeS",
        "colab": {
          "base_uri": "https://localhost:8080/",
          "height": 285
        },
        "outputId": "4e86b967-a148-468e-a082-822a496c441c"
      },
      "outputs": [
        {
          "output_type": "execute_result",
          "data": {
            "text/plain": [
              "<matplotlib.axes._subplots.AxesSubplot at 0x7fe6d7845220>"
            ]
          },
          "metadata": {},
          "execution_count": 88
        },
        {
          "output_type": "display_data",
          "data": {
            "text/plain": [
              "<Figure size 432x288 with 2 Axes>"
            ],
            "image/png": "[encoded data removed]"
          },
          "metadata": {
            "needs_background": "light"
          }
        }
      ],
      "source": [
        "y_pred = (final_model.predict_proba(X_test)[:,1] >= 0.41).astype(bool)\n",
        "cm = confusion_matrix(y_test, y_pred)\n",
        "sns.heatmap(cm, cmap = 'Blues', annot=True)"
      ]
    },
    {
      "cell_type": "code",
      "source": [
        "print(classification_report(y_test, y_pred))"
      ],
      "metadata": {
        "colab": {
          "base_uri": "https://localhost:8080/"
        },
        "id": "JeBdK60qD4Dd",
        "outputId": "80dedc92-38cb-4527-a9b1-fbb5b7f36039"
      },
      "execution_count": null,
      "outputs": [
        {
          "output_type": "stream",
          "name": "stdout",
          "text": [
            "              precision    recall  f1-score   support\n",
            "\n",
            "           0       0.00      0.00      0.00         0\n",
            "           1       1.00      0.67      0.80      1212\n",
            "\n",
            "    accuracy                           0.67      1212\n",
            "   macro avg       0.50      0.33      0.40      1212\n",
            "weighted avg       1.00      0.67      0.80      1212\n",
            "\n"
          ]
        },
        {
          "output_type": "stream",
          "name": "stderr",
          "text": [
            "/usr/local/lib/python3.8/dist-packages/sklearn/metrics/_classification.py:1318: UndefinedMetricWarning: Recall and F-score are ill-defined and being set to 0.0 in labels with no true samples. Use `zero_division` parameter to control this behavior.\n",
            "  _warn_prf(average, modifier, msg_start, len(result))\n",
            "/usr/local/lib/python3.8/dist-packages/sklearn/metrics/_classification.py:1318: UndefinedMetricWarning: Recall and F-score are ill-defined and being set to 0.0 in labels with no true samples. Use `zero_division` parameter to control this behavior.\n",
            "  _warn_prf(average, modifier, msg_start, len(result))\n",
            "/usr/local/lib/python3.8/dist-packages/sklearn/metrics/_classification.py:1318: UndefinedMetricWarning: Recall and F-score are ill-defined and being set to 0.0 in labels with no true samples. Use `zero_division` parameter to control this behavior.\n",
            "  _warn_prf(average, modifier, msg_start, len(result))\n"
          ]
        }
      ]
    },
    {
      "cell_type": "markdown",
      "metadata": {
        "id": "SCM8wbEoguHY"
      },
      "source": [
        "# 1.4. Model LSTM clases balanceadas con SMOTE"
      ]
    },
    {
      "cell_type": "code",
      "execution_count": null,
      "metadata": {
        "colab": {
          "base_uri": "https://localhost:8080/"
        },
        "id": "dOq9RcI7guHa",
        "outputId": "b1d515f0-c70c-4dc7-e6fd-3bf4d698efec"
      },
      "outputs": [
        {
          "output_type": "stream",
          "name": "stdout",
          "text": [
            "Before OverSampling, counts of label '1': 1817\n",
            "Before OverSampling, counts of label '0': 3029 \n",
            "\n",
            "After OverSampling, the shape of train_X: (6058, 29)\n",
            "After OverSampling, the shape of train_y: (6058,) \n",
            "\n",
            "After OverSampling, counts of label '1': 3029\n",
            "After OverSampling, counts of label '0': 3029\n"
          ]
        }
      ],
      "source": [
        "from imblearn.over_sampling import SMOTE \n",
        "X_smote , y_smote = SMOTE().fit_resample( df_train_scaled, y_train)\n",
        "\n",
        "print(\"Before OverSampling, counts of label '1': {}\".format(sum(y_train == 1)))\n",
        "print(\"Before OverSampling, counts of label '0': {} \\n\".format(sum(y_train == 0)))\n",
        "\n",
        "print('After OverSampling, the shape of train_X: {}'.format(X_smote.shape))\n",
        "print('After OverSampling, the shape of train_y: {} \\n'.format(y_smote.shape))\n",
        "  \n",
        "print(\"After OverSampling, counts of label '1': {}\".format(sum(y_smote == 1)))\n",
        "print(\"After OverSampling, counts of label '0': {}\".format(sum(y_smote == 0)))"
      ]
    },
    {
      "cell_type": "code",
      "execution_count": null,
      "metadata": {
        "colab": {
          "base_uri": "https://localhost:8080/",
          "height": 295
        },
        "id": "4deY4vic-bUE",
        "outputId": "8b648307-e4a8-465c-be7a-985dda107600"
      },
      "outputs": [
        {
          "output_type": "execute_result",
          "data": {
            "text/plain": [
              "<matplotlib.axes._subplots.AxesSubplot at 0x7fe6d6ada6a0>"
            ]
          },
          "metadata": {},
          "execution_count": 91
        },
        {
          "output_type": "display_data",
          "data": {
            "text/plain": [
              "<Figure size 432x288 with 1 Axes>"
            ],
            "image/png": "[encoded data removed]"
          },
          "metadata": {
            "needs_background": "light"
          }
        }
      ],
      "source": [
        "pd.Series(y_smote).value_counts().plot(kind='bar', title='Distribucion de clases aplicando SMOTE')"
      ]
    },
    {
      "cell_type": "markdown",
      "metadata": {
        "id": "kYr-rDy_-zle"
      },
      "source": [
        "Este gráfico muestra claramente que ahora tenemos una gran cantidad de incendios que antes no teníamos. Esos son todos los puntos de datos sintéticos que se ha creado con SMOTE.\n",
        "\n"
      ]
    },
    {
      "cell_type": "code",
      "execution_count": null,
      "metadata": {
        "colab": {
          "base_uri": "https://localhost:8080/"
        },
        "id": "oV9-BS1FguHl",
        "outputId": "a45c1fa2-88f1-4585-a63d-ee431f7a3f7f"
      },
      "outputs": [
        {
          "output_type": "execute_result",
          "data": {
            "text/plain": [
              "((6058, 29, 1), (6058,))"
            ]
          },
          "metadata": {},
          "execution_count": 92
        }
      ],
      "source": [
        "#Escalamos los datos de smote para que tengan la dimension correcta para el modelo\n",
        "X_smote = X_smote.reshape(X_smote.shape[0],X_smote.shape[1],1)\n",
        "X_smote.shape, y_smote.shape"
      ]
    },
    {
      "cell_type": "code",
      "execution_count": null,
      "metadata": {
        "id": "Lea8W4YbguIf"
      },
      "outputs": [],
      "source": [
        "X_smote_float=X_smote.astype(np.float32)"
      ]
    },
    {
      "cell_type": "code",
      "execution_count": null,
      "metadata": {
        "id": "tReCF7IQguIg"
      },
      "outputs": [],
      "source": [
        "y_smote_int = y_smote.astype(np.int32)"
      ]
    },
    {
      "cell_type": "code",
      "execution_count": null,
      "metadata": {
        "colab": {
          "base_uri": "https://localhost:8080/"
        },
        "id": "TSvG2DdeguIh",
        "outputId": "5088a659-0505-45d4-daf8-988ab29b8dce"
      },
      "outputs": [
        {
          "output_type": "stream",
          "name": "stdout",
          "text": [
            "Epoch 1/20\n",
            "184/190 [============================>.] - ETA: 0s - loss: 0.6761 - accuracy: 0.5853"
          ]
        },
        {
          "output_type": "stream",
          "name": "stderr",
          "text": [
            "WARNING:absl:Found untraced functions such as lstm_cell_4_layer_call_fn, lstm_cell_4_layer_call_and_return_conditional_losses while saving (showing 2 of 2). These functions will not be directly callable after loading.\n"
          ]
        },
        {
          "output_type": "stream",
          "name": "stdout",
          "text": [
            "\b\b\b\b\b\b\b\b\b\b\b\b\b\b\b\b\b\b\b\b\b\b\b\b\b\b\b\b\b\b\b\b\b\b\b\b\b\b\b\b\b\b\b\b\b\b\b\b\b\b\b\b\b\b\b\b\b\b\b\b\b\b\b\b\b\b\b\b\b\b\b\b\b\b\b\b\b\b\b\b\b\b\b\b\r190/190 [==============================] - 7s 31ms/step - loss: 0.6742 - accuracy: 0.5881 - val_loss: 0.5867 - val_accuracy: 0.8185\n",
            "Epoch 2/20\n",
            "190/190 [==============================] - 1s 5ms/step - loss: 0.6503 - accuracy: 0.6312 - val_loss: 0.7395 - val_accuracy: 0.6304\n",
            "Epoch 3/20\n",
            "189/190 [============================>.] - ETA: 0s - loss: 0.6667 - accuracy: 0.5848"
          ]
        },
        {
          "output_type": "stream",
          "name": "stderr",
          "text": [
            "WARNING:absl:Found untraced functions such as lstm_cell_4_layer_call_fn, lstm_cell_4_layer_call_and_return_conditional_losses while saving (showing 2 of 2). These functions will not be directly callable after loading.\n"
          ]
        },
        {
          "output_type": "stream",
          "name": "stdout",
          "text": [
            "\b\b\b\b\b\b\b\b\b\b\b\b\b\b\b\b\b\b\b\b\b\b\b\b\b\b\b\b\b\b\b\b\b\b\b\b\b\b\b\b\b\b\b\b\b\b\b\b\b\b\b\b\b\b\b\b\b\b\b\b\b\b\b\b\b\b\b\b\b\b\b\b\b\b\b\b\b\b\b\b\b\b\b\b\r190/190 [==============================] - 6s 33ms/step - loss: 0.6667 - accuracy: 0.5848 - val_loss: 0.5854 - val_accuracy: 0.8960\n",
            "Epoch 4/20\n",
            "190/190 [==============================] - 1s 6ms/step - loss: 0.6695 - accuracy: 0.5746 - val_loss: 0.6755 - val_accuracy: 0.6650\n",
            "Epoch 5/20\n",
            "189/190 [============================>.] - ETA: 0s - loss: 0.6580 - accuracy: 0.6088"
          ]
        },
        {
          "output_type": "stream",
          "name": "stderr",
          "text": [
            "WARNING:absl:Found untraced functions such as lstm_cell_4_layer_call_fn, lstm_cell_4_layer_call_and_return_conditional_losses while saving (showing 2 of 2). These functions will not be directly callable after loading.\n"
          ]
        },
        {
          "output_type": "stream",
          "name": "stdout",
          "text": [
            "\b\b\b\b\b\b\b\b\b\b\b\b\b\b\b\b\b\b\b\b\b\b\b\b\b\b\b\b\b\b\b\b\b\b\b\b\b\b\b\b\b\b\b\b\b\b\b\b\b\b\b\b\b\b\b\b\b\b\b\b\b\b\b\b\b\b\b\b\b\b\b\b\b\b\b\b\b\b\b\b\b\b\b\b\r190/190 [==============================] - 5s 26ms/step - loss: 0.6580 - accuracy: 0.6091 - val_loss: 0.5804 - val_accuracy: 0.8003\n",
            "Epoch 6/20\n",
            "190/190 [==============================] - 1s 5ms/step - loss: 0.6420 - accuracy: 0.6397 - val_loss: 0.6057 - val_accuracy: 0.7211\n",
            "Epoch 7/20\n",
            "190/190 [==============================] - 1s 5ms/step - loss: 0.6332 - accuracy: 0.6555 - val_loss: 0.6049 - val_accuracy: 0.7459\n",
            "Epoch 8/20\n",
            "190/190 [==============================] - 1s 7ms/step - loss: 0.6275 - accuracy: 0.6527 - val_loss: 0.5946 - val_accuracy: 0.7483\n",
            "Epoch 9/20\n",
            "190/190 [==============================] - 1s 5ms/step - loss: 0.6285 - accuracy: 0.6601 - val_loss: 0.5933 - val_accuracy: 0.7294\n",
            "Epoch 10/20\n",
            "190/190 [==============================] - 1s 5ms/step - loss: 0.6277 - accuracy: 0.6590 - val_loss: 0.7079 - val_accuracy: 0.6477\n",
            "Epoch 10: early stopping\n"
          ]
        },
        {
          "output_type": "execute_result",
          "data": {
            "text/plain": [
              "<keras.callbacks.History at 0x7fe6d55b53d0>"
            ]
          },
          "metadata": {},
          "execution_count": 95
        }
      ],
      "source": [
        "#Entrenamos el modelo\n",
        "cp = ModelCheckpoint('model/', save_best_only=True)\n",
        "earlyStop=EarlyStopping(monitor=\"val_loss\",verbose=2, patience=5)\n",
        "\n",
        "model_smote = modelLSTM(200, 'sigmoid', 0.2,'adam')\n",
        "\n",
        "model_smote.fit(X_smote_float, y_smote_int,validation_data=(X_test, y_test),epochs=20,callbacks=[cp, earlyStop])"
      ]
    },
    {
      "cell_type": "code",
      "execution_count": null,
      "metadata": {
        "colab": {
          "base_uri": "https://localhost:8080/"
        },
        "id": "4Z18UURgguIh",
        "outputId": "84756f9b-0fab-4395-acc4-9c90c0369e44"
      },
      "outputs": [
        {
          "output_type": "stream",
          "name": "stdout",
          "text": [
            "38/38 - 0s - loss: 0.7079 - accuracy: 0.6477 - 100ms/epoch - 3ms/step\n",
            "accuracy: 64.77%\n"
          ]
        }
      ],
      "source": [
        "scores = model_smote.evaluate(X_test, y_test, verbose=2)\n",
        "print(\"%s: %.2f%%\" % (model_smote.metrics_names[1], scores[1] * 100))\n"
      ]
    },
    {
      "cell_type": "code",
      "execution_count": null,
      "metadata": {
        "colab": {
          "base_uri": "https://localhost:8080/"
        },
        "id": "PZ6zcootguIi",
        "outputId": "8fdd7397-ddca-4666-fdd6-a5ff388acd5b"
      },
      "outputs": [
        {
          "output_type": "stream",
          "name": "stdout",
          "text": [
            "38/38 [==============================] - 0s 2ms/step\n",
            "              precision    recall  f1-score   support\n",
            "\n",
            "           0       0.00      0.00      0.00       0.0\n",
            "           1       0.00      0.00      0.00    1212.0\n",
            "\n",
            "    accuracy                           0.00    1212.0\n",
            "   macro avg       0.00      0.00      0.00    1212.0\n",
            "weighted avg       0.00      0.00      0.00    1212.0\n",
            "\n"
          ]
        },
        {
          "output_type": "stream",
          "name": "stderr",
          "text": [
            "/usr/local/lib/python3.8/dist-packages/sklearn/metrics/_classification.py:1318: UndefinedMetricWarning: Precision and F-score are ill-defined and being set to 0.0 in labels with no predicted samples. Use `zero_division` parameter to control this behavior.\n",
            "  _warn_prf(average, modifier, msg_start, len(result))\n",
            "/usr/local/lib/python3.8/dist-packages/sklearn/metrics/_classification.py:1318: UndefinedMetricWarning: Recall and F-score are ill-defined and being set to 0.0 in labels with no true samples. Use `zero_division` parameter to control this behavior.\n",
            "  _warn_prf(average, modifier, msg_start, len(result))\n",
            "/usr/local/lib/python3.8/dist-packages/sklearn/metrics/_classification.py:1318: UndefinedMetricWarning: Precision and F-score are ill-defined and being set to 0.0 in labels with no predicted samples. Use `zero_division` parameter to control this behavior.\n",
            "  _warn_prf(average, modifier, msg_start, len(result))\n",
            "/usr/local/lib/python3.8/dist-packages/sklearn/metrics/_classification.py:1318: UndefinedMetricWarning: Recall and F-score are ill-defined and being set to 0.0 in labels with no true samples. Use `zero_division` parameter to control this behavior.\n",
            "  _warn_prf(average, modifier, msg_start, len(result))\n",
            "/usr/local/lib/python3.8/dist-packages/sklearn/metrics/_classification.py:1318: UndefinedMetricWarning: Precision and F-score are ill-defined and being set to 0.0 in labels with no predicted samples. Use `zero_division` parameter to control this behavior.\n",
            "  _warn_prf(average, modifier, msg_start, len(result))\n",
            "/usr/local/lib/python3.8/dist-packages/sklearn/metrics/_classification.py:1318: UndefinedMetricWarning: Recall and F-score are ill-defined and being set to 0.0 in labels with no true samples. Use `zero_division` parameter to control this behavior.\n",
            "  _warn_prf(average, modifier, msg_start, len(result))\n"
          ]
        }
      ],
      "source": [
        "# print classification report\n",
        "y_pred_model_bal = model_smote.predict(X_test)\n",
        "\n",
        "y_pred_model_bal_1 = np.argmax(y_pred_model_bal, axis=1)\n",
        "print(classification_report(y_test, y_pred_model_bal_1))"
      ]
    },
    {
      "cell_type": "code",
      "execution_count": null,
      "metadata": {
        "colab": {
          "base_uri": "https://localhost:8080/",
          "height": 319
        },
        "id": "zIvYb22ZKJT3",
        "outputId": "fc204766-41de-453f-efa2-40ab696454ab"
      },
      "outputs": [
        {
          "output_type": "stream",
          "name": "stdout",
          "text": [
            "[[   0    0]\n",
            " [1212    0]]\n"
          ]
        },
        {
          "output_type": "execute_result",
          "data": {
            "text/plain": [
              "<matplotlib.axes._subplots.AxesSubplot at 0x7fe684198130>"
            ]
          },
          "metadata": {},
          "execution_count": 98
        },
        {
          "output_type": "display_data",
          "data": {
            "text/plain": [
              "<Figure size 432x288 with 2 Axes>"
            ],
            "image/png": "[encoded data removed]"
          },
          "metadata": {
            "needs_background": "light"
          }
        }
      ],
      "source": [
        "#Get the confusion matrix\n",
        "cf_matrix = confusion_matrix(y_test, y_pred_model_bal_1)\n",
        "print(cf_matrix)\n",
        "\n",
        "sns.heatmap(cf_matrix, annot=True,  cmap='Blues')"
      ]
    },
    {
      "cell_type": "markdown",
      "metadata": {
        "id": "WV19DrpLGHB7"
      },
      "source": [
        "# 1.4.1 GridSearch - Modelo LSTM con division manual (X_smote_float, y_smote_int)"
      ]
    },
    {
      "cell_type": "code",
      "execution_count": null,
      "metadata": {
        "id": "R7xe0vYHGHB8",
        "colab": {
          "base_uri": "https://localhost:8080/"
        },
        "outputId": "07ac4400-f114-46af-a7cd-7615fb1b2ca8"
      },
      "outputs": [
        {
          "output_type": "stream",
          "name": "stdout",
          "text": [
            "Epoch 1/20\n",
            "Epoch 2/20\n",
            "Epoch 3/20\n",
            "Epoch 4/20\n",
            "Epoch 5/20\n",
            "Epoch 6/20\n",
            "Epoch 7/20\n",
            "Epoch 8/20\n",
            "Epoch 9/20\n",
            "Epoch 10/20\n",
            "Epoch 11/20\n",
            "Epoch 12/20\n",
            "Epoch 13/20\n",
            "Epoch 14/20\n",
            "Epoch 15/20\n",
            "Epoch 16/20\n",
            "Epoch 17/20\n",
            "Epoch 18/20\n",
            "Epoch 19/20\n",
            "Epoch 20/20\n",
            "Best: 0.662768 using {'batch_size': 32, 'class_weight': {0: 1, 1: 1}, 'epochs': 20, 'optimizer': 'adam'}\n",
            "0.647419 (0.047939) with: {'batch_size': 16, 'class_weight': {0: 1, 1: 1}, 'epochs': 20, 'optimizer': 'adam'}\n",
            "0.556952 (0.029519) with: {'batch_size': 16, 'class_weight': {0: 1, 1: 5}, 'epochs': 20, 'optimizer': 'adam'}\n",
            "0.513036 (0.015112) with: {'batch_size': 16, 'class_weight': {0: 1, 1: 10}, 'epochs': 20, 'optimizer': 'adam'}\n",
            "0.662768 (0.031586) with: {'batch_size': 32, 'class_weight': {0: 1, 1: 1}, 'epochs': 20, 'optimizer': 'adam'}\n",
            "0.529716 (0.028847) with: {'batch_size': 32, 'class_weight': {0: 1, 1: 5}, 'epochs': 20, 'optimizer': 'adam'}\n",
            "0.503795 (0.007595) with: {'batch_size': 32, 'class_weight': {0: 1, 1: 10}, 'epochs': 20, 'optimizer': 'adam'}\n",
            "0.644452 (0.056830) with: {'batch_size': 64, 'class_weight': {0: 1, 1: 1}, 'epochs': 20, 'optimizer': 'adam'}\n",
            "0.551660 (0.020448) with: {'batch_size': 64, 'class_weight': {0: 1, 1: 5}, 'epochs': 20, 'optimizer': 'adam'}\n",
            "0.503136 (0.003244) with: {'batch_size': 64, 'class_weight': {0: 1, 1: 10}, 'epochs': 20, 'optimizer': 'adam'}\n"
          ]
        }
      ],
      "source": [
        "# create model\n",
        "model = KerasClassifier(model=modelLSTM, verbose=3, loss=\"binary_crossentropy\", epochs=20, batch_size=32)\n",
        "\n",
        "# define the grid search parameters\n",
        "batch_size = [16, 32, 64]\n",
        "epochs = [20]\n",
        "optimizer = ['adam']\n",
        "class_weight = [{0: 1, 1: 1}, {0: 1, 1: 5}, {0: 1, 1: 10}]\n",
        "\n",
        "\n",
        "param_grid = dict(batch_size=batch_size,\n",
        "                  epochs=epochs,\n",
        "                  optimizer=optimizer,\n",
        "                  class_weight= class_weight\n",
        "                  )\n",
        "#Grid\n",
        "grid = GridSearchCV(estimator=model, \n",
        "                    param_grid=param_grid, \n",
        "                    n_jobs=-1, \n",
        "                    cv=5)\n",
        "\n",
        "grid_result = grid.fit(X_smote_float, y_smote_int)\n",
        "\n",
        "# summarize results\n",
        "print(\"Best: %f using %s\" % (grid_result.best_score_, grid_result.best_params_))\n",
        "means = grid_result.cv_results_['mean_test_score']\n",
        "stds = grid_result.cv_results_['std_test_score']\n",
        "params = grid_result.cv_results_['params']\n",
        "for mean, stdev, param in zip(means, stds, params):\n",
        "  print(\"%f (%f) with: %r\" % (mean, stdev, param))"
      ]
    },
    {
      "cell_type": "code",
      "execution_count": null,
      "metadata": {
        "id": "0maRo9lHGHB9",
        "colab": {
          "base_uri": "https://localhost:8080/"
        },
        "outputId": "5a54be54-6fbc-4d85-c11d-2b234bb0c45a"
      },
      "outputs": [
        {
          "output_type": "execute_result",
          "data": {
            "text/plain": [
              "KerasClassifier(\n",
              "\tmodel=<function modelLSTM at 0x7fe6d70111f0>\n",
              "\tbuild_fn=None\n",
              "\twarm_start=False\n",
              "\trandom_state=None\n",
              "\toptimizer=adam\n",
              "\tloss=binary_crossentropy\n",
              "\tmetrics=None\n",
              "\tbatch_size=32\n",
              "\tvalidation_batch_size=None\n",
              "\tverbose=3\n",
              "\tcallbacks=None\n",
              "\tvalidation_split=0.0\n",
              "\tshuffle=True\n",
              "\trun_eagerly=False\n",
              "\tepochs=20\n",
              "\tclass_weight={0: 1, 1: 1}\n",
              ")"
            ]
          },
          "metadata": {},
          "execution_count": 100
        }
      ],
      "source": [
        "final_model = grid_result.best_estimator_\n",
        "final_model"
      ]
    },
    {
      "cell_type": "code",
      "execution_count": null,
      "metadata": {
        "id": "UclMddDPGHB9",
        "colab": {
          "base_uri": "https://localhost:8080/",
          "height": 317
        },
        "outputId": "daf6777a-11aa-4d86-c191-beb4065ae614"
      },
      "outputs": [
        {
          "output_type": "stream",
          "name": "stdout",
          "text": [
            "[[  0   0]\n",
            " [542 670]]\n"
          ]
        },
        {
          "output_type": "execute_result",
          "data": {
            "text/plain": [
              "<matplotlib.axes._subplots.AxesSubplot at 0x7fe6696f6fa0>"
            ]
          },
          "metadata": {},
          "execution_count": 101
        },
        {
          "output_type": "display_data",
          "data": {
            "text/plain": [
              "<Figure size 432x288 with 2 Axes>"
            ],
            "image/png": "[encoded data removed]"
          },
          "metadata": {
            "needs_background": "light"
          }
        }
      ],
      "source": [
        "y_pred = final_model.predict(X_test.astype('float32'))\n",
        "\n",
        "cm = confusion_matrix(y_test, y_pred)\n",
        "print(cm)\n",
        "sns.heatmap(cm, cmap = 'Blues', annot=True)"
      ]
    },
    {
      "cell_type": "code",
      "source": [
        "print(classification_report(y_test, y_pred))"
      ],
      "metadata": {
        "colab": {
          "base_uri": "https://localhost:8080/"
        },
        "id": "tt4Pqr-DEFeY",
        "outputId": "79f94021-b49c-414b-c6f7-5ea0d46a73c2"
      },
      "execution_count": null,
      "outputs": [
        {
          "output_type": "stream",
          "name": "stdout",
          "text": [
            "              precision    recall  f1-score   support\n",
            "\n",
            "           0       0.00      0.00      0.00         0\n",
            "           1       1.00      0.55      0.71      1212\n",
            "\n",
            "    accuracy                           0.55      1212\n",
            "   macro avg       0.50      0.28      0.36      1212\n",
            "weighted avg       1.00      0.55      0.71      1212\n",
            "\n"
          ]
        },
        {
          "output_type": "stream",
          "name": "stderr",
          "text": [
            "/usr/local/lib/python3.8/dist-packages/sklearn/metrics/_classification.py:1318: UndefinedMetricWarning: Recall and F-score are ill-defined and being set to 0.0 in labels with no true samples. Use `zero_division` parameter to control this behavior.\n",
            "  _warn_prf(average, modifier, msg_start, len(result))\n",
            "/usr/local/lib/python3.8/dist-packages/sklearn/metrics/_classification.py:1318: UndefinedMetricWarning: Recall and F-score are ill-defined and being set to 0.0 in labels with no true samples. Use `zero_division` parameter to control this behavior.\n",
            "  _warn_prf(average, modifier, msg_start, len(result))\n",
            "/usr/local/lib/python3.8/dist-packages/sklearn/metrics/_classification.py:1318: UndefinedMetricWarning: Recall and F-score are ill-defined and being set to 0.0 in labels with no true samples. Use `zero_division` parameter to control this behavior.\n",
            "  _warn_prf(average, modifier, msg_start, len(result))\n"
          ]
        }
      ]
    },
    {
      "cell_type": "code",
      "execution_count": null,
      "metadata": {
        "id": "_dmY4sd4GHB9",
        "colab": {
          "base_uri": "https://localhost:8080/",
          "height": 317
        },
        "outputId": "63e4f3ce-67c0-464c-cf1e-2b164b5e7fdb"
      },
      "outputs": [
        {
          "output_type": "stream",
          "name": "stdout",
          "text": [
            "[[  0   0]\n",
            " [554 658]]\n"
          ]
        },
        {
          "output_type": "execute_result",
          "data": {
            "text/plain": [
              "<matplotlib.axes._subplots.AxesSubplot at 0x7fe68437cb20>"
            ]
          },
          "metadata": {},
          "execution_count": 103
        },
        {
          "output_type": "display_data",
          "data": {
            "text/plain": [
              "<Figure size 432x288 with 2 Axes>"
            ],
            "image/png": "[encoded data removed]"
          },
          "metadata": {
            "needs_background": "light"
          }
        }
      ],
      "source": [
        "y_pred = (final_model.predict_proba(X_test.astype('float32'))[:,1] >= 0.51).astype(bool)\n",
        "cm = confusion_matrix(y_test, y_pred)\n",
        "print(cm)\n",
        "sns.heatmap(cm, cmap = 'Blues', annot=True)"
      ]
    },
    {
      "cell_type": "code",
      "source": [
        "print(classification_report(y_test, y_pred))"
      ],
      "metadata": {
        "colab": {
          "base_uri": "https://localhost:8080/"
        },
        "id": "hMytprRzEGFx",
        "outputId": "3e9a3474-1976-448b-e978-d2c8686896c6"
      },
      "execution_count": null,
      "outputs": [
        {
          "output_type": "stream",
          "name": "stdout",
          "text": [
            "              precision    recall  f1-score   support\n",
            "\n",
            "           0       0.00      0.00      0.00         0\n",
            "           1       1.00      0.54      0.70      1212\n",
            "\n",
            "    accuracy                           0.54      1212\n",
            "   macro avg       0.50      0.27      0.35      1212\n",
            "weighted avg       1.00      0.54      0.70      1212\n",
            "\n"
          ]
        },
        {
          "output_type": "stream",
          "name": "stderr",
          "text": [
            "/usr/local/lib/python3.8/dist-packages/sklearn/metrics/_classification.py:1318: UndefinedMetricWarning: Recall and F-score are ill-defined and being set to 0.0 in labels with no true samples. Use `zero_division` parameter to control this behavior.\n",
            "  _warn_prf(average, modifier, msg_start, len(result))\n",
            "/usr/local/lib/python3.8/dist-packages/sklearn/metrics/_classification.py:1318: UndefinedMetricWarning: Recall and F-score are ill-defined and being set to 0.0 in labels with no true samples. Use `zero_division` parameter to control this behavior.\n",
            "  _warn_prf(average, modifier, msg_start, len(result))\n",
            "/usr/local/lib/python3.8/dist-packages/sklearn/metrics/_classification.py:1318: UndefinedMetricWarning: Recall and F-score are ill-defined and being set to 0.0 in labels with no true samples. Use `zero_division` parameter to control this behavior.\n",
            "  _warn_prf(average, modifier, msg_start, len(result))\n"
          ]
        }
      ]
    },
    {
      "cell_type": "markdown",
      "metadata": {
        "id": "bNvTVIug3ujp"
      },
      "source": [
        "# 1.5. Model LSTM clases balanceadas con RandomUnderSampler (y_train)\n"
      ]
    },
    {
      "cell_type": "code",
      "execution_count": null,
      "metadata": {
        "colab": {
          "base_uri": "https://localhost:8080/"
        },
        "id": "CwyEHoEz3ujt",
        "outputId": "6a2c03be-12d4-47e1-c75f-1448bff5a188"
      },
      "outputs": [
        {
          "output_type": "stream",
          "name": "stdout",
          "text": [
            "Before OverSampling, counts of label '1': 1817\n",
            "Before OverSampling, counts of label '0': 3029 \n",
            "\n",
            "After OverSampling, the shape of train_X: (3634, 29)\n",
            "After OverSampling, the shape of train_y: (3634,) \n",
            "\n",
            "After OverSampling, counts of label '1': 1817\n",
            "After OverSampling, counts of label '0': 1817\n"
          ]
        }
      ],
      "source": [
        "from imblearn.under_sampling import RandomUnderSampler\n",
        "\n",
        "X_rus , y_rus = RandomUnderSampler().fit_resample(df_train_scaled, y_train)\n",
        "\n",
        "\n",
        "print(\"Before OverSampling, counts of label '1': {}\".format(sum(y_train == 1)))\n",
        "print(\"Before OverSampling, counts of label '0': {} \\n\".format(sum(y_train == 0)))\n",
        "\n",
        "print('After OverSampling, the shape of train_X: {}'.format(X_rus.shape))\n",
        "print('After OverSampling, the shape of train_y: {} \\n'.format(y_rus.shape))\n",
        "  \n",
        "print(\"After OverSampling, counts of label '1': {}\".format(sum(y_rus == 1)))\n",
        "print(\"After OverSampling, counts of label '0': {}\".format(sum(y_rus == 0)))"
      ]
    },
    {
      "cell_type": "code",
      "execution_count": null,
      "metadata": {
        "colab": {
          "base_uri": "https://localhost:8080/",
          "height": 295
        },
        "id": "m7wvZ_Hthac-",
        "outputId": "014d9c42-c9f4-437d-bca6-a594d7cf9b48"
      },
      "outputs": [
        {
          "output_type": "execute_result",
          "data": {
            "text/plain": [
              "<matplotlib.axes._subplots.AxesSubplot at 0x7fe66932ad00>"
            ]
          },
          "metadata": {},
          "execution_count": 106
        },
        {
          "output_type": "display_data",
          "data": {
            "text/plain": [
              "<Figure size 432x288 with 1 Axes>"
            ],
            "image/png": "[encoded data removed]"
          },
          "metadata": {
            "needs_background": "light"
          }
        }
      ],
      "source": [
        "pd.Series(y_rus).value_counts().plot(kind='bar', title='Distribucion de clases aplicando RUS')"
      ]
    },
    {
      "cell_type": "code",
      "execution_count": null,
      "metadata": {
        "colab": {
          "base_uri": "https://localhost:8080/"
        },
        "id": "m9dPT7bqh97g",
        "outputId": "b520d227-e6e5-4163-c27a-72e48d1bfc2e"
      },
      "outputs": [
        {
          "output_type": "execute_result",
          "data": {
            "text/plain": [
              "((3634, 29, 1), (3634,))"
            ]
          },
          "metadata": {},
          "execution_count": 107
        }
      ],
      "source": [
        "#Escalamos los datos de smote para que tengan la dimension correcta para el modelo\n",
        "X_rus = X_rus.reshape(X_rus.shape[0],X_rus.shape[1],1)\n",
        "X_rus.shape, y_rus.shape"
      ]
    },
    {
      "cell_type": "code",
      "execution_count": null,
      "metadata": {
        "id": "875SuxFbh-A_"
      },
      "outputs": [],
      "source": [
        "X_rus_float=X_rus.astype(np.float32)"
      ]
    },
    {
      "cell_type": "code",
      "execution_count": null,
      "metadata": {
        "id": "P0q7zDWwh-Hj"
      },
      "outputs": [],
      "source": [
        "y_rus_int = y_rus.astype(np.int32)"
      ]
    },
    {
      "cell_type": "code",
      "execution_count": null,
      "metadata": {
        "colab": {
          "base_uri": "https://localhost:8080/"
        },
        "id": "4Tn027iW3ujx",
        "outputId": "860e2de3-0ab1-439a-8818-c9e549f91f11"
      },
      "outputs": [
        {
          "output_type": "stream",
          "name": "stdout",
          "text": [
            "Epoch 1/20\n",
            "114/114 [==============================] - ETA: 0s - loss: 0.6850 - accuracy: 0.5669"
          ]
        },
        {
          "output_type": "stream",
          "name": "stderr",
          "text": [
            "WARNING:absl:Found untraced functions such as lstm_cell_6_layer_call_fn, lstm_cell_6_layer_call_and_return_conditional_losses while saving (showing 2 of 2). These functions will not be directly callable after loading.\n"
          ]
        },
        {
          "output_type": "stream",
          "name": "stdout",
          "text": [
            "\b\b\b\b\b\b\b\b\b\b\b\b\b\b\b\b\b\b\b\b\b\b\b\b\b\b\b\b\b\b\b\b\b\b\b\b\b\b\b\b\b\b\b\b\b\b\b\b\b\b\b\b\b\b\b\b\b\b\b\b\b\b\b\b\b\b\b\b\b\b\b\b\b\b\b\b\b\b\b\b\b\b\b\b\r114/114 [==============================] - 6s 43ms/step - loss: 0.6850 - accuracy: 0.5669 - val_loss: 0.5925 - val_accuracy: 0.8399\n",
            "Epoch 2/20\n",
            "114/114 [==============================] - 1s 6ms/step - loss: 0.6628 - accuracy: 0.6068 - val_loss: 0.7154 - val_accuracy: 0.7756\n",
            "Epoch 3/20\n",
            "114/114 [==============================] - 1s 6ms/step - loss: 0.6575 - accuracy: 0.6219 - val_loss: 0.6842 - val_accuracy: 0.7459\n",
            "Epoch 4/20\n",
            "114/114 [==============================] - 1s 6ms/step - loss: 0.6499 - accuracy: 0.6241 - val_loss: 0.6729 - val_accuracy: 0.6584\n",
            "Epoch 5/20\n",
            "114/114 [==============================] - 1s 6ms/step - loss: 0.6609 - accuracy: 0.6233 - val_loss: 0.6764 - val_accuracy: 0.6312\n",
            "Epoch 6/20\n",
            "114/114 [==============================] - 1s 6ms/step - loss: 0.6524 - accuracy: 0.6227 - val_loss: 0.6653 - val_accuracy: 0.5866\n",
            "Epoch 7/20\n",
            "114/114 [==============================] - 1s 6ms/step - loss: 0.6582 - accuracy: 0.6046 - val_loss: 0.6339 - val_accuracy: 0.5602\n",
            "Epoch 8/20\n",
            "114/114 [==============================] - 1s 6ms/step - loss: 0.6560 - accuracy: 0.6101 - val_loss: 0.6533 - val_accuracy: 0.5949\n",
            "Epoch 9/20\n",
            "114/114 [==============================] - 1s 5ms/step - loss: 0.6759 - accuracy: 0.5784 - val_loss: 0.7203 - val_accuracy: 0.6279\n",
            "Epoch 10/20\n",
            "114/114 [==============================] - 1s 6ms/step - loss: 0.6717 - accuracy: 0.5894 - val_loss: 0.6557 - val_accuracy: 0.8548\n",
            "Epoch 11/20\n",
            "114/114 [==============================] - 1s 6ms/step - loss: 0.6652 - accuracy: 0.6013 - val_loss: 0.6825 - val_accuracy: 0.7533\n",
            "Epoch 11: early stopping\n"
          ]
        },
        {
          "output_type": "execute_result",
          "data": {
            "text/plain": [
              "<keras.callbacks.History at 0x7fe6d7df4af0>"
            ]
          },
          "metadata": {},
          "execution_count": 110
        }
      ],
      "source": [
        "#Entrenamos el modelo\n",
        "cp = ModelCheckpoint('model/', save_best_only=True)\n",
        "earlyStop=EarlyStopping(monitor=\"val_loss\",verbose=2, patience=10)\n",
        "\n",
        "model_rus = modelLSTM(200, 'sigmoid', 0.2, 'adam')\n",
        "\n",
        "model_rus.fit(X_rus_float, y_rus_int, validation_data=(X_test, y_test),epochs=20,callbacks=[cp, earlyStop])\n"
      ]
    },
    {
      "cell_type": "code",
      "execution_count": null,
      "metadata": {
        "colab": {
          "base_uri": "https://localhost:8080/"
        },
        "id": "X5lZywwB3uj4",
        "outputId": "cc493966-96e7-4b6e-cfaf-9c74e68786ec"
      },
      "outputs": [
        {
          "output_type": "stream",
          "name": "stdout",
          "text": [
            "38/38 - 0s - loss: 0.6825 - accuracy: 0.7533 - 112ms/epoch - 3ms/step\n",
            "accuracy: 75.33%\n"
          ]
        }
      ],
      "source": [
        "scores = model_rus.evaluate(X_test, y_test, verbose=2)\n",
        "print(\"%s: %.2f%%\" % (model_rus.metrics_names[1], scores[1] * 100))\n"
      ]
    },
    {
      "cell_type": "code",
      "execution_count": null,
      "metadata": {
        "colab": {
          "base_uri": "https://localhost:8080/"
        },
        "id": "si71J9N1mkgb",
        "outputId": "f5ebe0a3-cb8d-4ed7-ad6f-8195c7607155"
      },
      "outputs": [
        {
          "output_type": "stream",
          "name": "stdout",
          "text": [
            "38/38 [==============================] - 0s 2ms/step\n",
            "              precision    recall  f1-score   support\n",
            "\n",
            "           0       0.00      0.00      0.00       0.0\n",
            "           1       0.00      0.00      0.00    1212.0\n",
            "\n",
            "    accuracy                           0.00    1212.0\n",
            "   macro avg       0.00      0.00      0.00    1212.0\n",
            "weighted avg       0.00      0.00      0.00    1212.0\n",
            "\n"
          ]
        },
        {
          "output_type": "stream",
          "name": "stderr",
          "text": [
            "/usr/local/lib/python3.8/dist-packages/sklearn/metrics/_classification.py:1318: UndefinedMetricWarning: Precision and F-score are ill-defined and being set to 0.0 in labels with no predicted samples. Use `zero_division` parameter to control this behavior.\n",
            "  _warn_prf(average, modifier, msg_start, len(result))\n",
            "/usr/local/lib/python3.8/dist-packages/sklearn/metrics/_classification.py:1318: UndefinedMetricWarning: Recall and F-score are ill-defined and being set to 0.0 in labels with no true samples. Use `zero_division` parameter to control this behavior.\n",
            "  _warn_prf(average, modifier, msg_start, len(result))\n",
            "/usr/local/lib/python3.8/dist-packages/sklearn/metrics/_classification.py:1318: UndefinedMetricWarning: Precision and F-score are ill-defined and being set to 0.0 in labels with no predicted samples. Use `zero_division` parameter to control this behavior.\n",
            "  _warn_prf(average, modifier, msg_start, len(result))\n",
            "/usr/local/lib/python3.8/dist-packages/sklearn/metrics/_classification.py:1318: UndefinedMetricWarning: Recall and F-score are ill-defined and being set to 0.0 in labels with no true samples. Use `zero_division` parameter to control this behavior.\n",
            "  _warn_prf(average, modifier, msg_start, len(result))\n",
            "/usr/local/lib/python3.8/dist-packages/sklearn/metrics/_classification.py:1318: UndefinedMetricWarning: Precision and F-score are ill-defined and being set to 0.0 in labels with no predicted samples. Use `zero_division` parameter to control this behavior.\n",
            "  _warn_prf(average, modifier, msg_start, len(result))\n",
            "/usr/local/lib/python3.8/dist-packages/sklearn/metrics/_classification.py:1318: UndefinedMetricWarning: Recall and F-score are ill-defined and being set to 0.0 in labels with no true samples. Use `zero_division` parameter to control this behavior.\n",
            "  _warn_prf(average, modifier, msg_start, len(result))\n"
          ]
        }
      ],
      "source": [
        "# print classification report\n",
        "y_pred_model_rus = model_rus.predict(X_test)\n",
        "\n",
        "y_pred_model_rus_1 = np.argmax(y_pred_model_rus, axis=1)\n",
        "print(classification_report(y_test, y_pred_model_rus_1))"
      ]
    },
    {
      "cell_type": "code",
      "execution_count": null,
      "metadata": {
        "colab": {
          "base_uri": "https://localhost:8080/",
          "height": 321
        },
        "id": "ycegl_rV_ePI",
        "outputId": "57885e03-77cc-41d7-93e2-48b8eb100a44"
      },
      "outputs": [
        {
          "output_type": "stream",
          "name": "stdout",
          "text": [
            "[[   0    0]\n",
            " [1212    0]]\n"
          ]
        },
        {
          "output_type": "execute_result",
          "data": {
            "text/plain": [
              "<matplotlib.axes._subplots.AxesSubplot at 0x7fe6c22e2b20>"
            ]
          },
          "metadata": {},
          "execution_count": 113
        },
        {
          "output_type": "display_data",
          "data": {
            "text/plain": [
              "<Figure size 432x288 with 2 Axes>"
            ],
            "image/png": "[encoded data removed]"
          },
          "metadata": {
            "needs_background": "light"
          }
        }
      ],
      "source": [
        "#Get the confusion matrix\n",
        "cf_matrix = confusion_matrix(y_test, y_pred_model_rus_1)\n",
        "print(cf_matrix)\n",
        "\n",
        "sns.heatmap(cf_matrix/np.sum(cf_matrix), annot=True, \n",
        "            fmt='.2%', cmap='Blues')"
      ]
    },
    {
      "cell_type": "markdown",
      "metadata": {
        "id": "9PrMZX9bGpbf"
      },
      "source": [
        "# 1.5.1 GridSearch - Modelo LSTM con division manual (X_rus_float, y_rus_int)\n",
        "\n",
        "\n"
      ]
    },
    {
      "cell_type": "code",
      "execution_count": null,
      "metadata": {
        "id": "_7txZD0bGpbg",
        "colab": {
          "base_uri": "https://localhost:8080/"
        },
        "outputId": "1223fe40-907f-46df-bae1-38eb3a5f5adc"
      },
      "outputs": [
        {
          "output_type": "stream",
          "name": "stdout",
          "text": [
            "Epoch 1/20\n",
            "Epoch 2/20\n",
            "Epoch 3/20\n",
            "Epoch 4/20\n",
            "Epoch 5/20\n",
            "Epoch 6/20\n",
            "Epoch 7/20\n",
            "Epoch 8/20\n",
            "Epoch 9/20\n",
            "Epoch 10/20\n",
            "Epoch 11/20\n",
            "Epoch 12/20\n",
            "Epoch 13/20\n",
            "Epoch 14/20\n",
            "Epoch 15/20\n",
            "Epoch 16/20\n",
            "Epoch 17/20\n",
            "Epoch 18/20\n",
            "Epoch 19/20\n",
            "Epoch 20/20\n",
            "Best: 0.635938 using {'batch_size': 64, 'class_weight': {0: 1, 1: 1}, 'epochs': 20, 'optimizer': 'adam'}\n",
            "0.607036 (0.041587) with: {'batch_size': 16, 'class_weight': {0: 1, 1: 1}, 'epochs': 20, 'optimizer': 'adam'}\n",
            "0.509629 (0.012303) with: {'batch_size': 16, 'class_weight': {0: 1, 1: 5}, 'epochs': 20, 'optimizer': 'adam'}\n",
            "0.501376 (0.003137) with: {'batch_size': 16, 'class_weight': {0: 1, 1: 10}, 'epochs': 20, 'optimizer': 'adam'}\n",
            "0.603735 (0.061024) with: {'batch_size': 32, 'class_weight': {0: 1, 1: 1}, 'epochs': 20, 'optimizer': 'adam'}\n",
            "0.507428 (0.015208) with: {'batch_size': 32, 'class_weight': {0: 1, 1: 5}, 'epochs': 20, 'optimizer': 'adam'}\n",
            "0.500000 (0.000615) with: {'batch_size': 32, 'class_weight': {0: 1, 1: 10}, 'epochs': 20, 'optimizer': 'adam'}\n",
            "0.635938 (0.035168) with: {'batch_size': 64, 'class_weight': {0: 1, 1: 1}, 'epochs': 20, 'optimizer': 'adam'}\n",
            "0.515140 (0.011671) with: {'batch_size': 64, 'class_weight': {0: 1, 1: 5}, 'epochs': 20, 'optimizer': 'adam'}\n",
            "0.500275 (0.001718) with: {'batch_size': 64, 'class_weight': {0: 1, 1: 10}, 'epochs': 20, 'optimizer': 'adam'}\n"
          ]
        }
      ],
      "source": [
        "# create model\n",
        "model = KerasClassifier(model=modelLSTM, verbose=3, loss=\"binary_crossentropy\", epochs=20, batch_size=32)\n",
        "\n",
        "# define the grid search parameters\n",
        "batch_size = [16, 32, 64]\n",
        "epochs = [20]\n",
        "optimizer = ['adam']\n",
        "class_weight = [{0: 1, 1: 1}, {0: 1, 1: 5}, {0: 1, 1: 10}]\n",
        "\n",
        "\n",
        "param_grid = dict(batch_size=batch_size,\n",
        "                  epochs=epochs,\n",
        "                  optimizer=optimizer,\n",
        "                  class_weight= class_weight\n",
        "                  )\n",
        "#Grid\n",
        "grid = GridSearchCV(estimator=model, \n",
        "                    param_grid=param_grid, \n",
        "                    n_jobs=-1, \n",
        "                    cv=5)\n",
        "\n",
        "grid_result = grid.fit(X_rus_float, y_rus_int)\n",
        "\n",
        "# summarize results\n",
        "print(\"Best: %f using %s\" % (grid_result.best_score_, grid_result.best_params_))\n",
        "means = grid_result.cv_results_['mean_test_score']\n",
        "stds = grid_result.cv_results_['std_test_score']\n",
        "params = grid_result.cv_results_['params']\n",
        "for mean, stdev, param in zip(means, stds, params):\n",
        "  print(\"%f (%f) with: %r\" % (mean, stdev, param))"
      ]
    },
    {
      "cell_type": "code",
      "execution_count": null,
      "metadata": {
        "id": "Dcl1x_zbGpbh",
        "colab": {
          "base_uri": "https://localhost:8080/"
        },
        "outputId": "4e8d5c22-d191-4515-b389-73f7928bcafa"
      },
      "outputs": [
        {
          "output_type": "execute_result",
          "data": {
            "text/plain": [
              "KerasClassifier(\n",
              "\tmodel=<function modelLSTM at 0x7fe6d70111f0>\n",
              "\tbuild_fn=None\n",
              "\twarm_start=False\n",
              "\trandom_state=None\n",
              "\toptimizer=adam\n",
              "\tloss=binary_crossentropy\n",
              "\tmetrics=None\n",
              "\tbatch_size=64\n",
              "\tvalidation_batch_size=None\n",
              "\tverbose=3\n",
              "\tcallbacks=None\n",
              "\tvalidation_split=0.0\n",
              "\tshuffle=True\n",
              "\trun_eagerly=False\n",
              "\tepochs=20\n",
              "\tclass_weight={0: 1, 1: 1}\n",
              ")"
            ]
          },
          "metadata": {},
          "execution_count": 115
        }
      ],
      "source": [
        "final_model = grid_result.best_estimator_\n",
        "final_model"
      ]
    },
    {
      "cell_type": "code",
      "execution_count": null,
      "metadata": {
        "id": "1NEFbVRFGpbi",
        "colab": {
          "base_uri": "https://localhost:8080/",
          "height": 282
        },
        "outputId": "170b4083-e1fc-45c7-928b-c6176eb518f6"
      },
      "outputs": [
        {
          "output_type": "execute_result",
          "data": {
            "text/plain": [
              "<matplotlib.axes._subplots.AxesSubplot at 0x7fe6d550b040>"
            ]
          },
          "metadata": {},
          "execution_count": 116
        },
        {
          "output_type": "display_data",
          "data": {
            "text/plain": [
              "<Figure size 432x288 with 2 Axes>"
            ],
            "image/png": "[encoded data removed]"
          },
          "metadata": {
            "needs_background": "light"
          }
        }
      ],
      "source": [
        "y_pred = final_model.predict(X_test.astype('float32'))\n",
        "\n",
        "cm = confusion_matrix(y_test, y_pred)\n",
        "sns.heatmap(cm, cmap = 'Blues', annot=True)"
      ]
    },
    {
      "cell_type": "code",
      "source": [
        "print(classification_report(y_test, y_pred))"
      ],
      "metadata": {
        "colab": {
          "base_uri": "https://localhost:8080/"
        },
        "id": "hODN1QlzEfeE",
        "outputId": "834f7cd8-e8d8-43a5-e2cb-94a722ea7e80"
      },
      "execution_count": null,
      "outputs": [
        {
          "output_type": "stream",
          "name": "stdout",
          "text": [
            "              precision    recall  f1-score   support\n",
            "\n",
            "           0       0.00      0.00      0.00         0\n",
            "           1       1.00      0.70      0.83      1212\n",
            "\n",
            "    accuracy                           0.70      1212\n",
            "   macro avg       0.50      0.35      0.41      1212\n",
            "weighted avg       1.00      0.70      0.83      1212\n",
            "\n"
          ]
        },
        {
          "output_type": "stream",
          "name": "stderr",
          "text": [
            "/usr/local/lib/python3.8/dist-packages/sklearn/metrics/_classification.py:1318: UndefinedMetricWarning: Recall and F-score are ill-defined and being set to 0.0 in labels with no true samples. Use `zero_division` parameter to control this behavior.\n",
            "  _warn_prf(average, modifier, msg_start, len(result))\n",
            "/usr/local/lib/python3.8/dist-packages/sklearn/metrics/_classification.py:1318: UndefinedMetricWarning: Recall and F-score are ill-defined and being set to 0.0 in labels with no true samples. Use `zero_division` parameter to control this behavior.\n",
            "  _warn_prf(average, modifier, msg_start, len(result))\n",
            "/usr/local/lib/python3.8/dist-packages/sklearn/metrics/_classification.py:1318: UndefinedMetricWarning: Recall and F-score are ill-defined and being set to 0.0 in labels with no true samples. Use `zero_division` parameter to control this behavior.\n",
            "  _warn_prf(average, modifier, msg_start, len(result))\n"
          ]
        }
      ]
    },
    {
      "cell_type": "code",
      "execution_count": null,
      "metadata": {
        "id": "DcC7iTWtGpbi",
        "colab": {
          "base_uri": "https://localhost:8080/",
          "height": 282
        },
        "outputId": "4649a9ed-da19-4604-96ff-c7125d74bd68"
      },
      "outputs": [
        {
          "output_type": "execute_result",
          "data": {
            "text/plain": [
              "<matplotlib.axes._subplots.AxesSubplot at 0x7fe6a0223d60>"
            ]
          },
          "metadata": {},
          "execution_count": 118
        },
        {
          "output_type": "display_data",
          "data": {
            "text/plain": [
              "<Figure size 432x288 with 2 Axes>"
            ],
            "image/png": "[encoded data removed]"
          },
          "metadata": {
            "needs_background": "light"
          }
        }
      ],
      "source": [
        "y_pred = (final_model.predict_proba(X_test.astype('float32'))[:,1] >= 0.51).astype(bool)\n",
        "cm = confusion_matrix(y_test, y_pred)\n",
        "sns.heatmap(cm, cmap = 'Blues', annot=True)"
      ]
    },
    {
      "cell_type": "code",
      "source": [
        "print(classification_report(y_test, y_pred))"
      ],
      "metadata": {
        "colab": {
          "base_uri": "https://localhost:8080/"
        },
        "id": "8GqBznuGEgBM",
        "outputId": "10a02f46-2e8b-4b05-9637-6dc352ccc441"
      },
      "execution_count": null,
      "outputs": [
        {
          "output_type": "stream",
          "name": "stdout",
          "text": [
            "              precision    recall  f1-score   support\n",
            "\n",
            "           0       0.00      0.00      0.00         0\n",
            "           1       1.00      0.68      0.81      1212\n",
            "\n",
            "    accuracy                           0.68      1212\n",
            "   macro avg       0.50      0.34      0.41      1212\n",
            "weighted avg       1.00      0.68      0.81      1212\n",
            "\n"
          ]
        },
        {
          "output_type": "stream",
          "name": "stderr",
          "text": [
            "/usr/local/lib/python3.8/dist-packages/sklearn/metrics/_classification.py:1318: UndefinedMetricWarning: Recall and F-score are ill-defined and being set to 0.0 in labels with no true samples. Use `zero_division` parameter to control this behavior.\n",
            "  _warn_prf(average, modifier, msg_start, len(result))\n",
            "/usr/local/lib/python3.8/dist-packages/sklearn/metrics/_classification.py:1318: UndefinedMetricWarning: Recall and F-score are ill-defined and being set to 0.0 in labels with no true samples. Use `zero_division` parameter to control this behavior.\n",
            "  _warn_prf(average, modifier, msg_start, len(result))\n",
            "/usr/local/lib/python3.8/dist-packages/sklearn/metrics/_classification.py:1318: UndefinedMetricWarning: Recall and F-score are ill-defined and being set to 0.0 in labels with no true samples. Use `zero_division` parameter to control this behavior.\n",
            "  _warn_prf(average, modifier, msg_start, len(result))\n"
          ]
        }
      ]
    },
    {
      "cell_type": "markdown",
      "metadata": {
        "id": "HyMmHFG4guIO"
      },
      "source": [
        "# 1.6. Model LSTM con pesos definidos por class_weight"
      ]
    },
    {
      "cell_type": "code",
      "execution_count": null,
      "metadata": {
        "colab": {
          "base_uri": "https://localhost:8080/"
        },
        "id": "8P-EGLgMguIO",
        "outputId": "6da14050-7d15-4b8b-a522-573c7426b40a"
      },
      "outputs": [
        {
          "output_type": "stream",
          "name": "stdout",
          "text": [
            "{0: 0.7999339716077913, 1: 1.333516785910842}\n"
          ]
        }
      ],
      "source": [
        "#Definimos los pesos para el balanceo de clases.\n",
        "from sklearn.utils.class_weight import compute_class_weight\n",
        "class_weights = compute_class_weight(class_weight = \"balanced\", classes= np.unique(y_train), y= y_train)\n",
        "class_weights = dict(enumerate(class_weights))\n",
        "\n",
        "print(class_weights)"
      ]
    },
    {
      "cell_type": "code",
      "execution_count": null,
      "metadata": {
        "colab": {
          "base_uri": "https://localhost:8080/"
        },
        "id": "8EOdxTlJguIO",
        "outputId": "65a89c6c-794a-4c9e-b90d-abcf8d9a5f86"
      },
      "outputs": [
        {
          "output_type": "stream",
          "name": "stdout",
          "text": [
            "Epoch 1/20\n",
            "144/152 [===========================>..] - ETA: 0s - loss: 0.6903 - accuracy: 0.5625"
          ]
        },
        {
          "output_type": "stream",
          "name": "stderr",
          "text": [
            "WARNING:absl:Found untraced functions such as lstm_cell_8_layer_call_fn, lstm_cell_8_layer_call_and_return_conditional_losses while saving (showing 2 of 2). These functions will not be directly callable after loading.\n"
          ]
        },
        {
          "output_type": "stream",
          "name": "stdout",
          "text": [
            "\b\b\b\b\b\b\b\b\b\b\b\b\b\b\b\b\b\b\b\b\b\b\b\b\b\b\b\b\b\b\b\b\b\b\b\b\b\b\b\b\b\b\b\b\b\b\b\b\b\b\b\b\b\b\b\b\b\b\b\b\b\b\b\b\b\b\b\b\b\b\b\b\b\b\b\b\b\b\b\b\b\b\b\b\r152/152 [==============================] - 6s 33ms/step - loss: 0.6887 - accuracy: 0.5640 - val_loss: 0.6465 - val_accuracy: 0.7616\n",
            "Epoch 2/20\n",
            "152/152 [==============================] - 1s 5ms/step - loss: 0.6599 - accuracy: 0.6096 - val_loss: 0.6729 - val_accuracy: 0.4200\n",
            "Epoch 3/20\n",
            "143/152 [===========================>..] - ETA: 0s - loss: 0.6768 - accuracy: 0.5699"
          ]
        },
        {
          "output_type": "stream",
          "name": "stderr",
          "text": [
            "WARNING:absl:Found untraced functions such as lstm_cell_8_layer_call_fn, lstm_cell_8_layer_call_and_return_conditional_losses while saving (showing 2 of 2). These functions will not be directly callable after loading.\n"
          ]
        },
        {
          "output_type": "stream",
          "name": "stdout",
          "text": [
            "\b\b\b\b\b\b\b\b\b\b\b\b\b\b\b\b\b\b\b\b\b\b\b\b\b\b\b\b\b\b\b\b\b\b\b\b\b\b\b\b\b\b\b\b\b\b\b\b\b\b\b\b\b\b\b\b\b\b\b\b\b\b\b\b\b\b\b\b\b\b\b\b\b\b\b\b\b\b\b\b\b\b\b\b\r152/152 [==============================] - 5s 33ms/step - loss: 0.6765 - accuracy: 0.5733 - val_loss: 0.5870 - val_accuracy: 0.8936\n",
            "Epoch 4/20\n",
            "143/152 [===========================>..] - ETA: 0s - loss: 0.6721 - accuracy: 0.5503"
          ]
        },
        {
          "output_type": "stream",
          "name": "stderr",
          "text": [
            "WARNING:absl:Found untraced functions such as lstm_cell_8_layer_call_fn, lstm_cell_8_layer_call_and_return_conditional_losses while saving (showing 2 of 2). These functions will not be directly callable after loading.\n"
          ]
        },
        {
          "output_type": "stream",
          "name": "stdout",
          "text": [
            "\b\b\b\b\b\b\b\b\b\b\b\b\b\b\b\b\b\b\b\b\b\b\b\b\b\b\b\b\b\b\b\b\b\b\b\b\b\b\b\b\b\b\b\b\b\b\b\b\b\b\b\b\b\b\b\b\b\b\b\b\b\b\b\b\b\b\b\b\b\b\b\b\b\b\b\b\b\b\b\b\b\b\b\b\r152/152 [==============================] - 5s 31ms/step - loss: 0.6730 - accuracy: 0.5518 - val_loss: 0.5673 - val_accuracy: 0.8795\n",
            "Epoch 5/20\n",
            "152/152 [==============================] - 1s 5ms/step - loss: 0.6658 - accuracy: 0.5543 - val_loss: 0.7033 - val_accuracy: 0.7830\n",
            "Epoch 6/20\n",
            "152/152 [==============================] - 1s 5ms/step - loss: 0.6652 - accuracy: 0.5518 - val_loss: 0.6754 - val_accuracy: 0.7937\n",
            "Epoch 7/20\n",
            "152/152 [==============================] - 1s 6ms/step - loss: 0.6626 - accuracy: 0.5584 - val_loss: 0.5729 - val_accuracy: 0.8647\n",
            "Epoch 8/20\n",
            "152/152 [==============================] - 1s 7ms/step - loss: 0.6620 - accuracy: 0.5739 - val_loss: 0.8173 - val_accuracy: 0.4868\n",
            "Epoch 9/20\n",
            "152/152 [==============================] - 1s 6ms/step - loss: 0.6619 - accuracy: 0.5613 - val_loss: 0.6914 - val_accuracy: 0.6667\n",
            "Epoch 10/20\n",
            "152/152 [==============================] - 1s 5ms/step - loss: 0.6619 - accuracy: 0.5592 - val_loss: 0.5896 - val_accuracy: 0.8556\n",
            "Epoch 11/20\n",
            "152/152 [==============================] - 1s 5ms/step - loss: 0.6601 - accuracy: 0.5745 - val_loss: 0.5868 - val_accuracy: 0.8581\n",
            "Epoch 12/20\n",
            "152/152 [==============================] - 1s 5ms/step - loss: 0.6593 - accuracy: 0.5629 - val_loss: 0.6411 - val_accuracy: 0.7929\n",
            "Epoch 12: early stopping\n"
          ]
        },
        {
          "output_type": "execute_result",
          "data": {
            "text/plain": [
              "<keras.callbacks.History at 0x7fe6c2131a60>"
            ]
          },
          "metadata": {},
          "execution_count": 121
        }
      ],
      "source": [
        "#Entrenamos el modelo\n",
        "cp = ModelCheckpoint('model/', save_best_only=True)\n",
        "earlyStop=EarlyStopping(monitor=\"val_loss\",verbose=2, patience=8)\n",
        "\n",
        "model_1 = modelLSTM(150, 'sigmoid', 0.3, 'adam')\n",
        "\n",
        "model_1.fit(X_train, y_train,validation_data=(X_test, y_test),epochs=20,class_weight=class_weights, callbacks=[cp, earlyStop])"
      ]
    },
    {
      "cell_type": "code",
      "execution_count": null,
      "metadata": {
        "colab": {
          "base_uri": "https://localhost:8080/"
        },
        "id": "X1kthK39guIZ",
        "outputId": "881c203b-c27c-4d31-e6cb-d1fff8b20e87"
      },
      "outputs": [
        {
          "output_type": "stream",
          "name": "stdout",
          "text": [
            "38/38 [==============================] - 0s 3ms/step - loss: 0.6411 - accuracy: 0.7929\n",
            "Accuracy: 79.29%\n"
          ]
        }
      ],
      "source": [
        "scores = model_1.evaluate(X_test, y_test, verbose=1)\n",
        "print(\"Accuracy: %.2f%%\" % (scores[1]*100))"
      ]
    },
    {
      "cell_type": "code",
      "execution_count": null,
      "metadata": {
        "colab": {
          "base_uri": "https://localhost:8080/"
        },
        "id": "CTtNI4b4guIb",
        "outputId": "105093d3-22b5-42c1-9f53-3fe984e0853a"
      },
      "outputs": [
        {
          "output_type": "stream",
          "name": "stdout",
          "text": [
            "38/38 [==============================] - 0s 2ms/step\n"
          ]
        }
      ],
      "source": [
        "y_pred_model_2 = model_1.predict(X_test.astype('float32'))"
      ]
    },
    {
      "cell_type": "code",
      "execution_count": null,
      "metadata": {
        "colab": {
          "base_uri": "https://localhost:8080/"
        },
        "id": "SNxy9aj5guIb",
        "outputId": "91f578f7-65e5-4ff5-def4-a1ce7ecb4fc6"
      },
      "outputs": [
        {
          "output_type": "stream",
          "name": "stdout",
          "text": [
            "              precision    recall  f1-score   support\n",
            "\n",
            "           0       0.00      0.00      0.00       0.0\n",
            "           1       0.00      0.00      0.00    1212.0\n",
            "\n",
            "    accuracy                           0.00    1212.0\n",
            "   macro avg       0.00      0.00      0.00    1212.0\n",
            "weighted avg       0.00      0.00      0.00    1212.0\n",
            "\n"
          ]
        },
        {
          "output_type": "stream",
          "name": "stderr",
          "text": [
            "/usr/local/lib/python3.8/dist-packages/sklearn/metrics/_classification.py:1318: UndefinedMetricWarning: Precision and F-score are ill-defined and being set to 0.0 in labels with no predicted samples. Use `zero_division` parameter to control this behavior.\n",
            "  _warn_prf(average, modifier, msg_start, len(result))\n",
            "/usr/local/lib/python3.8/dist-packages/sklearn/metrics/_classification.py:1318: UndefinedMetricWarning: Recall and F-score are ill-defined and being set to 0.0 in labels with no true samples. Use `zero_division` parameter to control this behavior.\n",
            "  _warn_prf(average, modifier, msg_start, len(result))\n",
            "/usr/local/lib/python3.8/dist-packages/sklearn/metrics/_classification.py:1318: UndefinedMetricWarning: Precision and F-score are ill-defined and being set to 0.0 in labels with no predicted samples. Use `zero_division` parameter to control this behavior.\n",
            "  _warn_prf(average, modifier, msg_start, len(result))\n",
            "/usr/local/lib/python3.8/dist-packages/sklearn/metrics/_classification.py:1318: UndefinedMetricWarning: Recall and F-score are ill-defined and being set to 0.0 in labels with no true samples. Use `zero_division` parameter to control this behavior.\n",
            "  _warn_prf(average, modifier, msg_start, len(result))\n",
            "/usr/local/lib/python3.8/dist-packages/sklearn/metrics/_classification.py:1318: UndefinedMetricWarning: Precision and F-score are ill-defined and being set to 0.0 in labels with no predicted samples. Use `zero_division` parameter to control this behavior.\n",
            "  _warn_prf(average, modifier, msg_start, len(result))\n",
            "/usr/local/lib/python3.8/dist-packages/sklearn/metrics/_classification.py:1318: UndefinedMetricWarning: Recall and F-score are ill-defined and being set to 0.0 in labels with no true samples. Use `zero_division` parameter to control this behavior.\n",
            "  _warn_prf(average, modifier, msg_start, len(result))\n"
          ]
        }
      ],
      "source": [
        "# print classification report\n",
        "y_pred_model2 = np.argmax(y_pred_model_2, axis=1)\n",
        "print(classification_report(y_test, y_pred_model2))"
      ]
    },
    {
      "cell_type": "code",
      "execution_count": null,
      "metadata": {
        "colab": {
          "base_uri": "https://localhost:8080/",
          "height": 321
        },
        "id": "0Bs_kDgd8YXv",
        "outputId": "44af2987-bceb-4d40-802d-c09f9c68c46e"
      },
      "outputs": [
        {
          "output_type": "stream",
          "name": "stdout",
          "text": [
            "[[   0    0]\n",
            " [1212    0]]\n"
          ]
        },
        {
          "output_type": "execute_result",
          "data": {
            "text/plain": [
              "<matplotlib.axes._subplots.AxesSubplot at 0x7fe660c9f520>"
            ]
          },
          "metadata": {},
          "execution_count": 125
        },
        {
          "output_type": "display_data",
          "data": {
            "text/plain": [
              "<Figure size 432x288 with 2 Axes>"
            ],
            "image/png": "[encoded data removed]"
          },
          "metadata": {
            "needs_background": "light"
          }
        }
      ],
      "source": [
        "#Get the confusion matrix\n",
        "cf_matrix = confusion_matrix(y_test, y_pred_model2)\n",
        "print(cf_matrix)\n",
        "\n",
        "sns.heatmap(cf_matrix/np.sum(cf_matrix), annot=True, \n",
        "            fmt='.2%', cmap='Blues')"
      ]
    },
    {
      "cell_type": "markdown",
      "metadata": {
        "id": "OpYzLr8X_57b"
      },
      "source": [
        "# 2. Division de datos (Aleatoria)\n",
        "\n",
        "---\n",
        "\n"
      ]
    },
    {
      "cell_type": "code",
      "execution_count": 51,
      "metadata": {
        "id": "_xavb5aiIBPP"
      },
      "outputs": [],
      "source": [
        "from sklearn.model_selection import train_test_split\n",
        "\n",
        "df_all = pd.read_csv(\"/content/drive/MyDrive/TFM/datos/df_all.csv\", sep = \";\")\n",
        "df_all.index = df_all.fecha  ##Set_index('fecha')\n",
        "df_all = df_all.drop('fecha', axis=1)"
      ]
    },
    {
      "cell_type": "code",
      "execution_count": 52,
      "metadata": {
        "colab": {
          "base_uri": "https://localhost:8080/"
        },
        "id": "LKAyiHhLAMxR",
        "outputId": "42f3a31d-25d4-4548-98b1-ebd4dfa5da37"
      },
      "outputs": [
        {
          "output_type": "stream",
          "name": "stdout",
          "text": [
            "(488345, 25)\n"
          ]
        }
      ],
      "source": [
        "df_all = df_all.loc['2015-01-01':'2022-12-31']\n",
        "print(df_all.shape)"
      ]
    },
    {
      "cell_type": "code",
      "source": [
        "df_all.groupby(\"ocurrencia\").count()"
      ],
      "metadata": {
        "colab": {
          "base_uri": "https://localhost:8080/",
          "height": 0
        },
        "id": "C-EvB609d2AL",
        "outputId": "d5bd6872-9b0b-4bfc-cfbf-0c78fa6e145b"
      },
      "execution_count": 53,
      "outputs": [
        {
          "output_type": "execute_result",
          "data": {
            "text/plain": [
              "            indicativo    prec    tmax    tmed    tmin  velmedia   racha  \\\n",
              "ocurrencia                                                                 \n",
              "0               485316  485316  485316  485316  485316    485316  485316   \n",
              "1                 3029    3029    3029    3029    3029      3029    3029   \n",
              "\n",
              "               sol  presMax  presMin  ...  peligro  vulner  municipio  \\\n",
              "ocurrencia                            ...                               \n",
              "0           485316   485316   485316  ...   485316  485316     485316   \n",
              "1             3029     3029     3029  ...     3029    3029       3029   \n",
              "\n",
              "            cod_municipio  total_viajes_estacion  total_viajes_km_estacion  \\\n",
              "ocurrencia                                                                   \n",
              "0                  485316                 485316                    485316   \n",
              "1                    3029                   3029                      3029   \n",
              "\n",
              "            laborable  dayofyear  weekend     mes  \n",
              "ocurrencia                                         \n",
              "0              485316     485316   485316  485316  \n",
              "1                3029       3029     3029    3029  \n",
              "\n",
              "[2 rows x 24 columns]"
            ],
            "text/html": [
              "\n",
              "  <div id=\"df-7de80b59-e9fb-46bc-9a28-fb4237656b9d\">\n",
              "    <div class=\"colab-df-container\">\n",
              "      <div>\n",
              "<style scoped>\n",
              "    .dataframe tbody tr th:only-of-type {\n",
              "        vertical-align: middle;\n",
              "    }\n",
              "\n",
              "    .dataframe tbody tr th {\n",
              "        vertical-align: top;\n",
              "    }\n",
              "\n",
              "    .dataframe thead th {\n",
              "        text-align: right;\n",
              "    }\n",
              "</style>\n",
              "<table border=\"1\" class=\"dataframe\">\n",
              "  <thead>\n",
              "    <tr style=\"text-align: right;\">\n",
              "      <th></th>\n",
              "      <th>indicativo</th>\n",
              "      <th>prec</th>\n",
              "      <th>tmax</th>\n",
              "      <th>tmed</th>\n",
              "      <th>tmin</th>\n",
              "      <th>velmedia</th>\n",
              "      <th>racha</th>\n",
              "      <th>sol</th>\n",
              "      <th>presMax</th>\n",
              "      <th>presMin</th>\n",
              "      <th>...</th>\n",
              "      <th>peligro</th>\n",
              "      <th>vulner</th>\n",
              "      <th>municipio</th>\n",
              "      <th>cod_municipio</th>\n",
              "      <th>total_viajes_estacion</th>\n",
              "      <th>total_viajes_km_estacion</th>\n",
              "      <th>laborable</th>\n",
              "      <th>dayofyear</th>\n",
              "      <th>weekend</th>\n",
              "      <th>mes</th>\n",
              "    </tr>\n",
              "    <tr>\n",
              "      <th>ocurrencia</th>\n",
              "      <th></th>\n",
              "      <th></th>\n",
              "      <th></th>\n",
              "      <th></th>\n",
              "      <th></th>\n",
              "      <th></th>\n",
              "      <th></th>\n",
              "      <th></th>\n",
              "      <th></th>\n",
              "      <th></th>\n",
              "      <th></th>\n",
              "      <th></th>\n",
              "      <th></th>\n",
              "      <th></th>\n",
              "      <th></th>\n",
              "      <th></th>\n",
              "      <th></th>\n",
              "      <th></th>\n",
              "      <th></th>\n",
              "      <th></th>\n",
              "      <th></th>\n",
              "    </tr>\n",
              "  </thead>\n",
              "  <tbody>\n",
              "    <tr>\n",
              "      <th>0</th>\n",
              "      <td>485316</td>\n",
              "      <td>485316</td>\n",
              "      <td>485316</td>\n",
              "      <td>485316</td>\n",
              "      <td>485316</td>\n",
              "      <td>485316</td>\n",
              "      <td>485316</td>\n",
              "      <td>485316</td>\n",
              "      <td>485316</td>\n",
              "      <td>485316</td>\n",
              "      <td>...</td>\n",
              "      <td>485316</td>\n",
              "      <td>485316</td>\n",
              "      <td>485316</td>\n",
              "      <td>485316</td>\n",
              "      <td>485316</td>\n",
              "      <td>485316</td>\n",
              "      <td>485316</td>\n",
              "      <td>485316</td>\n",
              "      <td>485316</td>\n",
              "      <td>485316</td>\n",
              "    </tr>\n",
              "    <tr>\n",
              "      <th>1</th>\n",
              "      <td>3029</td>\n",
              "      <td>3029</td>\n",
              "      <td>3029</td>\n",
              "      <td>3029</td>\n",
              "      <td>3029</td>\n",
              "      <td>3029</td>\n",
              "      <td>3029</td>\n",
              "      <td>3029</td>\n",
              "      <td>3029</td>\n",
              "      <td>3029</td>\n",
              "      <td>...</td>\n",
              "      <td>3029</td>\n",
              "      <td>3029</td>\n",
              "      <td>3029</td>\n",
              "      <td>3029</td>\n",
              "      <td>3029</td>\n",
              "      <td>3029</td>\n",
              "      <td>3029</td>\n",
              "      <td>3029</td>\n",
              "      <td>3029</td>\n",
              "      <td>3029</td>\n",
              "    </tr>\n",
              "  </tbody>\n",
              "</table>\n",
              "<p>2 rows × 24 columns</p>\n",
              "</div>\n",
              "      <button class=\"colab-df-convert\" onclick=\"convertToInteractive('df-7de80b59-e9fb-46bc-9a28-fb4237656b9d')\"\n",
              "              title=\"Convert this dataframe to an interactive table.\"\n",
              "              style=\"display:none;\">\n",
              "        \n",
              "  <svg xmlns=\"http://www.w3.org/2000/svg\" height=\"24px\"viewBox=\"0 0 24 24\"\n",
              "       width=\"24px\">\n",
              "    <path d=\"M0 0h24v24H0V0z\" fill=\"none\"/>\n",
              "    <path d=\"M18.56 5.44l.94 2.06.94-2.06 2.06-.94-2.06-.94-.94-2.06-.94 2.06-2.06.94zm-11 1L8.5 8.5l.94-2.06 2.06-.94-2.06-.94L8.5 2.5l-.94 2.06-2.06.94zm10 10l.94 2.06.94-2.06 2.06-.94-2.06-.94-.94-2.06-.94 2.06-2.06.94z\"/><path d=\"M17.41 7.96l-1.37-1.37c-.4-.4-.92-.59-1.43-.59-.52 0-1.04.2-1.43.59L10.3 9.45l-7.72 7.72c-.78.78-.78 2.05 0 2.83L4 21.41c.39.39.9.59 1.41.59.51 0 1.02-.2 1.41-.59l7.78-7.78 2.81-2.81c.8-.78.8-2.07 0-2.86zM5.41 20L4 18.59l7.72-7.72 1.47 1.35L5.41 20z\"/>\n",
              "  </svg>\n",
              "      </button>\n",
              "      \n",
              "  <style>\n",
              "    .colab-df-container {\n",
              "      display:flex;\n",
              "      flex-wrap:wrap;\n",
              "      gap: 12px;\n",
              "    }\n",
              "\n",
              "    .colab-df-convert {\n",
              "      background-color: #E8F0FE;\n",
              "      border: none;\n",
              "      border-radius: 50%;\n",
              "      cursor: pointer;\n",
              "      display: none;\n",
              "      fill: #1967D2;\n",
              "      height: 32px;\n",
              "      padding: 0 0 0 0;\n",
              "      width: 32px;\n",
              "    }\n",
              "\n",
              "    .colab-df-convert:hover {\n",
              "      background-color: #E2EBFA;\n",
              "      box-shadow: 0px 1px 2px rgba(60, 64, 67, 0.3), 0px 1px 3px 1px rgba(60, 64, 67, 0.15);\n",
              "      fill: #174EA6;\n",
              "    }\n",
              "\n",
              "    [theme=dark] .colab-df-convert {\n",
              "      background-color: #3B4455;\n",
              "      fill: #D2E3FC;\n",
              "    }\n",
              "\n",
              "    [theme=dark] .colab-df-convert:hover {\n",
              "      background-color: #434B5C;\n",
              "      box-shadow: 0px 1px 3px 1px rgba(0, 0, 0, 0.15);\n",
              "      filter: drop-shadow(0px 1px 2px rgba(0, 0, 0, 0.3));\n",
              "      fill: #FFFFFF;\n",
              "    }\n",
              "  </style>\n",
              "\n",
              "      <script>\n",
              "        const buttonEl =\n",
              "          document.querySelector('#df-7de80b59-e9fb-46bc-9a28-fb4237656b9d button.colab-df-convert');\n",
              "        buttonEl.style.display =\n",
              "          google.colab.kernel.accessAllowed ? 'block' : 'none';\n",
              "\n",
              "        async function convertToInteractive(key) {\n",
              "          const element = document.querySelector('#df-7de80b59-e9fb-46bc-9a28-fb4237656b9d');\n",
              "          const dataTable =\n",
              "            await google.colab.kernel.invokeFunction('convertToInteractive',\n",
              "                                                     [key], {});\n",
              "          if (!dataTable) return;\n",
              "\n",
              "          const docLinkHtml = 'Like what you see? Visit the ' +\n",
              "            '<a target=\"_blank\" href=https://colab.research.google.com/notebooks/data_table.ipynb>data table notebook</a>'\n",
              "            + ' to learn more about interactive tables.';\n",
              "          element.innerHTML = '';\n",
              "          dataTable['output_type'] = 'display_data';\n",
              "          await google.colab.output.renderOutput(dataTable, element);\n",
              "          const docLink = document.createElement('div');\n",
              "          docLink.innerHTML = docLinkHtml;\n",
              "          element.appendChild(docLink);\n",
              "        }\n",
              "      </script>\n",
              "    </div>\n",
              "  </div>\n",
              "  "
            ]
          },
          "metadata": {},
          "execution_count": 53
        }
      ]
    },
    {
      "cell_type": "code",
      "source": [
        "df_ocurrencia_0 = df_all[df_all[\"ocurrencia\"]==0].sample(3029)"
      ],
      "metadata": {
        "id": "GKBJ6l0Od2RY"
      },
      "execution_count": 54,
      "outputs": []
    },
    {
      "cell_type": "code",
      "execution_count": 55,
      "metadata": {
        "id": "DklxDufseCsm"
      },
      "outputs": [],
      "source": [
        "df_ocurrencia_1 = df_all[df_all[\"ocurrencia\"]==1]"
      ]
    },
    {
      "cell_type": "code",
      "execution_count": 56,
      "metadata": {
        "colab": {
          "base_uri": "https://localhost:8080/"
        },
        "id": "gba2kt5KeCsp",
        "outputId": "92401d71-bf3d-43d7-93e7-fe00ee9e5a89"
      },
      "outputs": [
        {
          "output_type": "execute_result",
          "data": {
            "text/plain": [
              "(6058, 25)"
            ]
          },
          "metadata": {},
          "execution_count": 56
        }
      ],
      "source": [
        "df_all =  pd.concat([df_ocurrencia_0, df_ocurrencia_1])\n",
        "df_all.shape"
      ]
    },
    {
      "cell_type": "code",
      "execution_count": 57,
      "metadata": {
        "id": "pdRqMRHMeCss"
      },
      "outputs": [],
      "source": [
        "X = df_all.drop( ['ocurrencia', 'municipio', 'cod_municipio', 'indicativo'], axis=1)\n",
        "y = df_all['ocurrencia']"
      ]
    },
    {
      "cell_type": "code",
      "execution_count": 58,
      "metadata": {
        "colab": {
          "base_uri": "https://localhost:8080/",
          "height": 0
        },
        "id": "TmTDLvHBeCsu",
        "outputId": "79ece6e9-371d-4cac-b449-b755a7b10c48"
      },
      "outputs": [
        {
          "output_type": "execute_result",
          "data": {
            "text/plain": [
              "            prec  tmax  tmed  tmin  velmedia  racha    sol  presMax  presMin  \\\n",
              "fecha                                                                          \n",
              "2019-01-09   0.0  15.8   9.3   2.8       9.7   23.6    9.1   1011.4   1002.5   \n",
              "2019-09-04   0.0  30.0  29.1  28.1       3.9    7.2  876.0    940.1    939.8   \n",
              "2016-12-13   0.0  10.5  10.1   9.8       3.8    5.1  409.0   1001.7   1001.5   \n",
              "2016-09-24   0.0  23.5  22.8  22.3       3.0    6.8  223.0    981.7    981.2   \n",
              "2020-05-08   0.0  26.0  25.5  24.5       1.9    4.8  980.0    997.0    996.7   \n",
              "...          ...   ...   ...   ...       ...    ...    ...      ...      ...   \n",
              "2016-05-16   0.0  23.3  22.8  22.5       3.9    8.3  990.0   1021.0   1020.7   \n",
              "2016-01-30   0.0  12.3  12.1  11.6       3.1    6.3  527.0    933.9    933.4   \n",
              "2022-01-23   0.0  11.9  11.1  10.2       0.4    2.2  515.0   1029.0   1028.7   \n",
              "2016-07-03   0.0  24.7  24.6  24.3       5.5    7.2  944.0   1021.4   1021.1   \n",
              "2017-08-05   0.0  35.0  34.4  33.9       3.8    8.1  930.0   1015.0   1014.7   \n",
              "\n",
              "            rhum  ...  porcentaje_pendiente_total  alto_riesgo   peligro  \\\n",
              "fecha             ...                                                      \n",
              "2019-01-09  92.0  ...                        2.50           Sí    Exclos   \n",
              "2019-09-04  29.0  ...                        5.00           Sí  Molt Alt   \n",
              "2016-12-13  75.0  ...                        5.10           Sí  Molt Alt   \n",
              "2016-09-24  65.0  ...                        3.22           Sí       Alt   \n",
              "2020-05-08  37.0  ...                        3.22           Sí       Alt   \n",
              "...          ...  ...                         ...          ...       ...   \n",
              "2016-05-16  32.0  ...                        2.50           Sí  Molt Alt   \n",
              "2016-01-30  55.0  ...                        0.10           No      Baix   \n",
              "2022-01-23  45.0  ...                        0.50           Sí  Molt Alt   \n",
              "2016-07-03  71.0  ...                        3.50           Sí    Exclos   \n",
              "2017-08-05  30.0  ...                        9.00           Sí  Molt Alt   \n",
              "\n",
              "               vulner total_viajes_estacion  total_viajes_km_estacion  \\\n",
              "fecha                                                                   \n",
              "2019-01-09   Moderada                  0.00                      0.00   \n",
              "2019-09-04   Moderada                  0.00                      0.00   \n",
              "2016-12-13  Molt Alta                  0.00                      0.00   \n",
              "2016-09-24  Molt Alta                  0.00                      0.00   \n",
              "2020-05-08  Molt Alta             155346.56                1164505.62   \n",
              "...               ...                   ...                       ...   \n",
              "2016-05-16   Moderada                  0.00                      0.00   \n",
              "2016-01-30       Alta                  0.00                      0.00   \n",
              "2022-01-23   Moderada                  0.00                      0.00   \n",
              "2016-07-03   Moderada                  0.00                      0.00   \n",
              "2017-08-05   Moderada                  0.00                      0.00   \n",
              "\n",
              "            laborable  dayofyear  weekend  mes  \n",
              "fecha                                           \n",
              "2019-01-09          2          9        0    1  \n",
              "2019-09-04          2        247        0    9  \n",
              "2016-12-13          1        348        0   12  \n",
              "2016-09-24          5        268        1    9  \n",
              "2020-05-08          4        129        0    5  \n",
              "...               ...        ...      ...  ...  \n",
              "2016-05-16          0        137        0    5  \n",
              "2016-01-30          5         30        1    1  \n",
              "2022-01-23          6         23        1    1  \n",
              "2016-07-03          6        185        1    7  \n",
              "2017-08-05          5        217        1    8  \n",
              "\n",
              "[4846 rows x 21 columns]"
            ],
            "text/html": [
              "\n",
              "  <div id=\"df-a70618a1-b389-48e9-a59b-b589c7b3a604\">\n",
              "    <div class=\"colab-df-container\">\n",
              "      <div>\n",
              "<style scoped>\n",
              "    .dataframe tbody tr th:only-of-type {\n",
              "        vertical-align: middle;\n",
              "    }\n",
              "\n",
              "    .dataframe tbody tr th {\n",
              "        vertical-align: top;\n",
              "    }\n",
              "\n",
              "    .dataframe thead th {\n",
              "        text-align: right;\n",
              "    }\n",
              "</style>\n",
              "<table border=\"1\" class=\"dataframe\">\n",
              "  <thead>\n",
              "    <tr style=\"text-align: right;\">\n",
              "      <th></th>\n",
              "      <th>prec</th>\n",
              "      <th>tmax</th>\n",
              "      <th>tmed</th>\n",
              "      <th>tmin</th>\n",
              "      <th>velmedia</th>\n",
              "      <th>racha</th>\n",
              "      <th>sol</th>\n",
              "      <th>presMax</th>\n",
              "      <th>presMin</th>\n",
              "      <th>rhum</th>\n",
              "      <th>...</th>\n",
              "      <th>porcentaje_pendiente_total</th>\n",
              "      <th>alto_riesgo</th>\n",
              "      <th>peligro</th>\n",
              "      <th>vulner</th>\n",
              "      <th>total_viajes_estacion</th>\n",
              "      <th>total_viajes_km_estacion</th>\n",
              "      <th>laborable</th>\n",
              "      <th>dayofyear</th>\n",
              "      <th>weekend</th>\n",
              "      <th>mes</th>\n",
              "    </tr>\n",
              "    <tr>\n",
              "      <th>fecha</th>\n",
              "      <th></th>\n",
              "      <th></th>\n",
              "      <th></th>\n",
              "      <th></th>\n",
              "      <th></th>\n",
              "      <th></th>\n",
              "      <th></th>\n",
              "      <th></th>\n",
              "      <th></th>\n",
              "      <th></th>\n",
              "      <th></th>\n",
              "      <th></th>\n",
              "      <th></th>\n",
              "      <th></th>\n",
              "      <th></th>\n",
              "      <th></th>\n",
              "      <th></th>\n",
              "      <th></th>\n",
              "      <th></th>\n",
              "      <th></th>\n",
              "      <th></th>\n",
              "    </tr>\n",
              "  </thead>\n",
              "  <tbody>\n",
              "    <tr>\n",
              "      <th>2019-01-09</th>\n",
              "      <td>0.0</td>\n",
              "      <td>15.8</td>\n",
              "      <td>9.3</td>\n",
              "      <td>2.8</td>\n",
              "      <td>9.7</td>\n",
              "      <td>23.6</td>\n",
              "      <td>9.1</td>\n",
              "      <td>1011.4</td>\n",
              "      <td>1002.5</td>\n",
              "      <td>92.0</td>\n",
              "      <td>...</td>\n",
              "      <td>2.50</td>\n",
              "      <td>Sí</td>\n",
              "      <td>Exclos</td>\n",
              "      <td>Moderada</td>\n",
              "      <td>0.00</td>\n",
              "      <td>0.00</td>\n",
              "      <td>2</td>\n",
              "      <td>9</td>\n",
              "      <td>0</td>\n",
              "      <td>1</td>\n",
              "    </tr>\n",
              "    <tr>\n",
              "      <th>2019-09-04</th>\n",
              "      <td>0.0</td>\n",
              "      <td>30.0</td>\n",
              "      <td>29.1</td>\n",
              "      <td>28.1</td>\n",
              "      <td>3.9</td>\n",
              "      <td>7.2</td>\n",
              "      <td>876.0</td>\n",
              "      <td>940.1</td>\n",
              "      <td>939.8</td>\n",
              "      <td>29.0</td>\n",
              "      <td>...</td>\n",
              "      <td>5.00</td>\n",
              "      <td>Sí</td>\n",
              "      <td>Molt Alt</td>\n",
              "      <td>Moderada</td>\n",
              "      <td>0.00</td>\n",
              "      <td>0.00</td>\n",
              "      <td>2</td>\n",
              "      <td>247</td>\n",
              "      <td>0</td>\n",
              "      <td>9</td>\n",
              "    </tr>\n",
              "    <tr>\n",
              "      <th>2016-12-13</th>\n",
              "      <td>0.0</td>\n",
              "      <td>10.5</td>\n",
              "      <td>10.1</td>\n",
              "      <td>9.8</td>\n",
              "      <td>3.8</td>\n",
              "      <td>5.1</td>\n",
              "      <td>409.0</td>\n",
              "      <td>1001.7</td>\n",
              "      <td>1001.5</td>\n",
              "      <td>75.0</td>\n",
              "      <td>...</td>\n",
              "      <td>5.10</td>\n",
              "      <td>Sí</td>\n",
              "      <td>Molt Alt</td>\n",
              "      <td>Molt Alta</td>\n",
              "      <td>0.00</td>\n",
              "      <td>0.00</td>\n",
              "      <td>1</td>\n",
              "      <td>348</td>\n",
              "      <td>0</td>\n",
              "      <td>12</td>\n",
              "    </tr>\n",
              "    <tr>\n",
              "      <th>2016-09-24</th>\n",
              "      <td>0.0</td>\n",
              "      <td>23.5</td>\n",
              "      <td>22.8</td>\n",
              "      <td>22.3</td>\n",
              "      <td>3.0</td>\n",
              "      <td>6.8</td>\n",
              "      <td>223.0</td>\n",
              "      <td>981.7</td>\n",
              "      <td>981.2</td>\n",
              "      <td>65.0</td>\n",
              "      <td>...</td>\n",
              "      <td>3.22</td>\n",
              "      <td>Sí</td>\n",
              "      <td>Alt</td>\n",
              "      <td>Molt Alta</td>\n",
              "      <td>0.00</td>\n",
              "      <td>0.00</td>\n",
              "      <td>5</td>\n",
              "      <td>268</td>\n",
              "      <td>1</td>\n",
              "      <td>9</td>\n",
              "    </tr>\n",
              "    <tr>\n",
              "      <th>2020-05-08</th>\n",
              "      <td>0.0</td>\n",
              "      <td>26.0</td>\n",
              "      <td>25.5</td>\n",
              "      <td>24.5</td>\n",
              "      <td>1.9</td>\n",
              "      <td>4.8</td>\n",
              "      <td>980.0</td>\n",
              "      <td>997.0</td>\n",
              "      <td>996.7</td>\n",
              "      <td>37.0</td>\n",
              "      <td>...</td>\n",
              "      <td>3.22</td>\n",
              "      <td>Sí</td>\n",
              "      <td>Alt</td>\n",
              "      <td>Molt Alta</td>\n",
              "      <td>155346.56</td>\n",
              "      <td>1164505.62</td>\n",
              "      <td>4</td>\n",
              "      <td>129</td>\n",
              "      <td>0</td>\n",
              "      <td>5</td>\n",
              "    </tr>\n",
              "    <tr>\n",
              "      <th>...</th>\n",
              "      <td>...</td>\n",
              "      <td>...</td>\n",
              "      <td>...</td>\n",
              "      <td>...</td>\n",
              "      <td>...</td>\n",
              "      <td>...</td>\n",
              "      <td>...</td>\n",
              "      <td>...</td>\n",
              "      <td>...</td>\n",
              "      <td>...</td>\n",
              "      <td>...</td>\n",
              "      <td>...</td>\n",
              "      <td>...</td>\n",
              "      <td>...</td>\n",
              "      <td>...</td>\n",
              "      <td>...</td>\n",
              "      <td>...</td>\n",
              "      <td>...</td>\n",
              "      <td>...</td>\n",
              "      <td>...</td>\n",
              "      <td>...</td>\n",
              "    </tr>\n",
              "    <tr>\n",
              "      <th>2016-05-16</th>\n",
              "      <td>0.0</td>\n",
              "      <td>23.3</td>\n",
              "      <td>22.8</td>\n",
              "      <td>22.5</td>\n",
              "      <td>3.9</td>\n",
              "      <td>8.3</td>\n",
              "      <td>990.0</td>\n",
              "      <td>1021.0</td>\n",
              "      <td>1020.7</td>\n",
              "      <td>32.0</td>\n",
              "      <td>...</td>\n",
              "      <td>2.50</td>\n",
              "      <td>Sí</td>\n",
              "      <td>Molt Alt</td>\n",
              "      <td>Moderada</td>\n",
              "      <td>0.00</td>\n",
              "      <td>0.00</td>\n",
              "      <td>0</td>\n",
              "      <td>137</td>\n",
              "      <td>0</td>\n",
              "      <td>5</td>\n",
              "    </tr>\n",
              "    <tr>\n",
              "      <th>2016-01-30</th>\n",
              "      <td>0.0</td>\n",
              "      <td>12.3</td>\n",
              "      <td>12.1</td>\n",
              "      <td>11.6</td>\n",
              "      <td>3.1</td>\n",
              "      <td>6.3</td>\n",
              "      <td>527.0</td>\n",
              "      <td>933.9</td>\n",
              "      <td>933.4</td>\n",
              "      <td>55.0</td>\n",
              "      <td>...</td>\n",
              "      <td>0.10</td>\n",
              "      <td>No</td>\n",
              "      <td>Baix</td>\n",
              "      <td>Alta</td>\n",
              "      <td>0.00</td>\n",
              "      <td>0.00</td>\n",
              "      <td>5</td>\n",
              "      <td>30</td>\n",
              "      <td>1</td>\n",
              "      <td>1</td>\n",
              "    </tr>\n",
              "    <tr>\n",
              "      <th>2022-01-23</th>\n",
              "      <td>0.0</td>\n",
              "      <td>11.9</td>\n",
              "      <td>11.1</td>\n",
              "      <td>10.2</td>\n",
              "      <td>0.4</td>\n",
              "      <td>2.2</td>\n",
              "      <td>515.0</td>\n",
              "      <td>1029.0</td>\n",
              "      <td>1028.7</td>\n",
              "      <td>45.0</td>\n",
              "      <td>...</td>\n",
              "      <td>0.50</td>\n",
              "      <td>Sí</td>\n",
              "      <td>Molt Alt</td>\n",
              "      <td>Moderada</td>\n",
              "      <td>0.00</td>\n",
              "      <td>0.00</td>\n",
              "      <td>6</td>\n",
              "      <td>23</td>\n",
              "      <td>1</td>\n",
              "      <td>1</td>\n",
              "    </tr>\n",
              "    <tr>\n",
              "      <th>2016-07-03</th>\n",
              "      <td>0.0</td>\n",
              "      <td>24.7</td>\n",
              "      <td>24.6</td>\n",
              "      <td>24.3</td>\n",
              "      <td>5.5</td>\n",
              "      <td>7.2</td>\n",
              "      <td>944.0</td>\n",
              "      <td>1021.4</td>\n",
              "      <td>1021.1</td>\n",
              "      <td>71.0</td>\n",
              "      <td>...</td>\n",
              "      <td>3.50</td>\n",
              "      <td>Sí</td>\n",
              "      <td>Exclos</td>\n",
              "      <td>Moderada</td>\n",
              "      <td>0.00</td>\n",
              "      <td>0.00</td>\n",
              "      <td>6</td>\n",
              "      <td>185</td>\n",
              "      <td>1</td>\n",
              "      <td>7</td>\n",
              "    </tr>\n",
              "    <tr>\n",
              "      <th>2017-08-05</th>\n",
              "      <td>0.0</td>\n",
              "      <td>35.0</td>\n",
              "      <td>34.4</td>\n",
              "      <td>33.9</td>\n",
              "      <td>3.8</td>\n",
              "      <td>8.1</td>\n",
              "      <td>930.0</td>\n",
              "      <td>1015.0</td>\n",
              "      <td>1014.7</td>\n",
              "      <td>30.0</td>\n",
              "      <td>...</td>\n",
              "      <td>9.00</td>\n",
              "      <td>Sí</td>\n",
              "      <td>Molt Alt</td>\n",
              "      <td>Moderada</td>\n",
              "      <td>0.00</td>\n",
              "      <td>0.00</td>\n",
              "      <td>5</td>\n",
              "      <td>217</td>\n",
              "      <td>1</td>\n",
              "      <td>8</td>\n",
              "    </tr>\n",
              "  </tbody>\n",
              "</table>\n",
              "<p>4846 rows × 21 columns</p>\n",
              "</div>\n",
              "      <button class=\"colab-df-convert\" onclick=\"convertToInteractive('df-a70618a1-b389-48e9-a59b-b589c7b3a604')\"\n",
              "              title=\"Convert this dataframe to an interactive table.\"\n",
              "              style=\"display:none;\">\n",
              "        \n",
              "  <svg xmlns=\"http://www.w3.org/2000/svg\" height=\"24px\"viewBox=\"0 0 24 24\"\n",
              "       width=\"24px\">\n",
              "    <path d=\"M0 0h24v24H0V0z\" fill=\"none\"/>\n",
              "    <path d=\"M18.56 5.44l.94 2.06.94-2.06 2.06-.94-2.06-.94-.94-2.06-.94 2.06-2.06.94zm-11 1L8.5 8.5l.94-2.06 2.06-.94-2.06-.94L8.5 2.5l-.94 2.06-2.06.94zm10 10l.94 2.06.94-2.06 2.06-.94-2.06-.94-.94-2.06-.94 2.06-2.06.94z\"/><path d=\"M17.41 7.96l-1.37-1.37c-.4-.4-.92-.59-1.43-.59-.52 0-1.04.2-1.43.59L10.3 9.45l-7.72 7.72c-.78.78-.78 2.05 0 2.83L4 21.41c.39.39.9.59 1.41.59.51 0 1.02-.2 1.41-.59l7.78-7.78 2.81-2.81c.8-.78.8-2.07 0-2.86zM5.41 20L4 18.59l7.72-7.72 1.47 1.35L5.41 20z\"/>\n",
              "  </svg>\n",
              "      </button>\n",
              "      \n",
              "  <style>\n",
              "    .colab-df-container {\n",
              "      display:flex;\n",
              "      flex-wrap:wrap;\n",
              "      gap: 12px;\n",
              "    }\n",
              "\n",
              "    .colab-df-convert {\n",
              "      background-color: #E8F0FE;\n",
              "      border: none;\n",
              "      border-radius: 50%;\n",
              "      cursor: pointer;\n",
              "      display: none;\n",
              "      fill: #1967D2;\n",
              "      height: 32px;\n",
              "      padding: 0 0 0 0;\n",
              "      width: 32px;\n",
              "    }\n",
              "\n",
              "    .colab-df-convert:hover {\n",
              "      background-color: #E2EBFA;\n",
              "      box-shadow: 0px 1px 2px rgba(60, 64, 67, 0.3), 0px 1px 3px 1px rgba(60, 64, 67, 0.15);\n",
              "      fill: #174EA6;\n",
              "    }\n",
              "\n",
              "    [theme=dark] .colab-df-convert {\n",
              "      background-color: #3B4455;\n",
              "      fill: #D2E3FC;\n",
              "    }\n",
              "\n",
              "    [theme=dark] .colab-df-convert:hover {\n",
              "      background-color: #434B5C;\n",
              "      box-shadow: 0px 1px 3px 1px rgba(0, 0, 0, 0.15);\n",
              "      filter: drop-shadow(0px 1px 2px rgba(0, 0, 0, 0.3));\n",
              "      fill: #FFFFFF;\n",
              "    }\n",
              "  </style>\n",
              "\n",
              "      <script>\n",
              "        const buttonEl =\n",
              "          document.querySelector('#df-a70618a1-b389-48e9-a59b-b589c7b3a604 button.colab-df-convert');\n",
              "        buttonEl.style.display =\n",
              "          google.colab.kernel.accessAllowed ? 'block' : 'none';\n",
              "\n",
              "        async function convertToInteractive(key) {\n",
              "          const element = document.querySelector('#df-a70618a1-b389-48e9-a59b-b589c7b3a604');\n",
              "          const dataTable =\n",
              "            await google.colab.kernel.invokeFunction('convertToInteractive',\n",
              "                                                     [key], {});\n",
              "          if (!dataTable) return;\n",
              "\n",
              "          const docLinkHtml = 'Like what you see? Visit the ' +\n",
              "            '<a target=\"_blank\" href=https://colab.research.google.com/notebooks/data_table.ipynb>data table notebook</a>'\n",
              "            + ' to learn more about interactive tables.';\n",
              "          element.innerHTML = '';\n",
              "          dataTable['output_type'] = 'display_data';\n",
              "          await google.colab.output.renderOutput(dataTable, element);\n",
              "          const docLink = document.createElement('div');\n",
              "          docLink.innerHTML = docLinkHtml;\n",
              "          element.appendChild(docLink);\n",
              "        }\n",
              "      </script>\n",
              "    </div>\n",
              "  </div>\n",
              "  "
            ]
          },
          "metadata": {},
          "execution_count": 58
        }
      ],
      "source": [
        "X_train_1, X_test_1, y_train_1, y_test_1 = train_test_split(X, y, test_size=0.2, shuffle=True)\n",
        "X_train_1"
      ]
    },
    {
      "cell_type": "markdown",
      "metadata": {
        "id": "n6rUkeacISae"
      },
      "source": [
        "#2.1 Normalizacion datos\n",
        "\n"
      ]
    },
    {
      "cell_type": "code",
      "execution_count": 59,
      "metadata": {
        "colab": {
          "base_uri": "https://localhost:8080/"
        },
        "id": "cgVfuUQmISae",
        "outputId": "9d4aa68e-a50d-4af9-aab4-7e0df61ef4c0"
      },
      "outputs": [
        {
          "output_type": "execute_result",
          "data": {
            "text/plain": [
              "((4846, 13), (1212, 13))"
            ]
          },
          "metadata": {},
          "execution_count": 59
        }
      ],
      "source": [
        "# normalizacion de los datos numericos\n",
        "from sklearn.preprocessing import StandardScaler\n",
        "numericalCols_train_1 = X_train_1[[\"prec\", \"tmax\",  \"tmed\",  \"tmin\",  \"velmedia\",  \"racha\",  \"sol\",  \"presMax\",  \"presMin\",  \"rhum\",  \"altitud\", \"porcentaje_pendiente_total\", \"total_viajes_estacion\" ]] \n",
        "numericalCols_test_1 = X_test_1[[\"prec\", \"tmax\",  \"tmed\",  \"tmin\",  \"velmedia\",  \"racha\",  \"sol\",  \"presMax\",  \"presMin\",  \"rhum\",  \"altitud\", \"porcentaje_pendiente_total\", \"total_viajes_estacion\" ]] \n",
        "\n",
        "scaler = StandardScaler()\n",
        "scaler.fit(numericalCols_train_1)\n",
        "\n",
        "numericalCols_train_scaled_1 = scaler.transform(numericalCols_train_1)\n",
        "numericalCols_test_scaled_1 = scaler.transform(numericalCols_test_1)\n",
        "\n",
        "numericalCols_train_scaled_1.shape , numericalCols_test_scaled_1.shape"
      ]
    },
    {
      "cell_type": "code",
      "execution_count": 60,
      "metadata": {
        "colab": {
          "base_uri": "https://localhost:8080/"
        },
        "id": "NZDIoQY_ISae",
        "outputId": "ae51ad3e-5968-407d-a7fc-d332b3d2e95a"
      },
      "outputs": [
        {
          "output_type": "execute_result",
          "data": {
            "text/plain": [
              "((4846, 12), (1212, 12))"
            ]
          },
          "metadata": {},
          "execution_count": 60
        }
      ],
      "source": [
        "# normalizacion de los datos categoricos , sin la ocurrencia\n",
        "categoricalCols_train_1 = X_train_1[['alto_riesgo',\t'peligro',\t'vulner']]  #alto_riesgo\tpeligro\tvulner\n",
        "categoricalCols_train_1 = OneHotEncoder().fit_transform(categoricalCols_train_1).toarray()\n",
        "\n",
        "# normalizacion de los datos categoricos , sin la ocurrencia\n",
        "categoricalCols_test_1 = X_test_1[['alto_riesgo',\t'peligro',\t'vulner']]  #alto_riesgo\tpeligro\t y vulner\n",
        "categoricalCols_test_1 = OneHotEncoder().fit_transform(categoricalCols_test_1).toarray()\n",
        "\n",
        "categoricalCols_train_1.shape, categoricalCols_test_1.shape"
      ]
    },
    {
      "cell_type": "code",
      "execution_count": 61,
      "metadata": {
        "id": "H3TxZqGQISaf"
      },
      "outputs": [],
      "source": [
        "Other_var_train_1 = X_train_1[['laborable', \t'dayofyear', \t'weekend', \t'mes']]\n",
        "Other_var_test_1 = X_test_1[['laborable', \t'dayofyear', \t'weekend', \t'mes']]  #alto_riesgo\tpeligro\t y vulner"
      ]
    },
    {
      "cell_type": "code",
      "execution_count": 62,
      "metadata": {
        "id": "bsIfSwXBISaf"
      },
      "outputs": [],
      "source": [
        "df_train_scaled_1 = np.concatenate((numericalCols_train_scaled_1 , categoricalCols_train_1, Other_var_train_1), axis=1)\n",
        "df_test_scaled_1 = np.concatenate((numericalCols_test_scaled_1 , categoricalCols_test_1, Other_var_test_1), axis=1)"
      ]
    },
    {
      "cell_type": "code",
      "execution_count": 63,
      "metadata": {
        "colab": {
          "base_uri": "https://localhost:8080/"
        },
        "id": "Fea8jI0kISaf",
        "outputId": "9536a25d-f784-4f02-bffd-ae3b0aae4277"
      },
      "outputs": [
        {
          "output_type": "execute_result",
          "data": {
            "text/plain": [
              "((4846, 29), (4846,), (1212, 29), (1212,))"
            ]
          },
          "metadata": {},
          "execution_count": 63
        }
      ],
      "source": [
        "df_train_scaled_1.shape, y_train_1.shape, df_test_scaled_1.shape, y_test_1.shape"
      ]
    },
    {
      "cell_type": "code",
      "execution_count": 64,
      "metadata": {
        "colab": {
          "base_uri": "https://localhost:8080/"
        },
        "id": "kxQGxvNLISaf",
        "outputId": "1c7af709-675c-454c-9c69-9bd1f2602e6c"
      },
      "outputs": [
        {
          "output_type": "execute_result",
          "data": {
            "text/plain": [
              "((4846, 29, 1), (4846,))"
            ]
          },
          "metadata": {},
          "execution_count": 64
        }
      ],
      "source": [
        "X_train_1 = df_train_scaled_1.reshape(df_train_scaled_1.shape[0],df_train_scaled_1.shape[1],1)\n",
        "X_train_1.shape, y_train_1.shape"
      ]
    },
    {
      "cell_type": "code",
      "execution_count": 65,
      "metadata": {
        "colab": {
          "base_uri": "https://localhost:8080/"
        },
        "id": "29EGZ-F3ISag",
        "outputId": "8b320e52-9cfb-4314-b4ca-4bc1ae0486da"
      },
      "outputs": [
        {
          "output_type": "execute_result",
          "data": {
            "text/plain": [
              "((1212, 29, 1), (1212,))"
            ]
          },
          "metadata": {},
          "execution_count": 65
        }
      ],
      "source": [
        "X_test_1 = df_test_scaled_1.reshape(df_test_scaled_1.shape[0],df_test_scaled_1.shape[1],1)\n",
        "X_test_1.shape, y_test_1.shape"
      ]
    },
    {
      "cell_type": "markdown",
      "metadata": {
        "id": "T2s07LbeIvzu"
      },
      "source": [
        "# 2.2 Model LSTM (df_sin_mov - Division Aleatoria)"
      ]
    },
    {
      "cell_type": "code",
      "execution_count": 35,
      "metadata": {
        "id": "Y07e3m38Ivzu"
      },
      "outputs": [],
      "source": [
        "from tensorflow.keras.layers import Dropout\n",
        "from keras.models import Sequential\n",
        "from keras.layers import Dense, LSTM\n",
        "from tensorflow.keras.layers import InputLayer\n",
        "\n",
        "\n",
        "def modelLSTM(n_lstm = 200, activation = 'sigmoid',dropout_rate =0.2, optimizer='adam', batch_size = 32):\n",
        "    model=Sequential()\n",
        "    model.add(InputLayer((29,1)))\n",
        "    model.add(LSTM(n_lstm))\n",
        "    model.add(Dropout(dropout_rate))\n",
        "    model.add(Dense(29, activation=activation))\n",
        "    model.add(Dropout(dropout_rate))\n",
        "    model.add(Dense(1, activation=activation))\n",
        "    model.compile(loss='binary_crossentropy', optimizer=optimizer, metrics=['accuracy'])\n",
        "    return model"
      ]
    },
    {
      "cell_type": "code",
      "execution_count": null,
      "metadata": {
        "id": "aWjTs-45Ivzv"
      },
      "outputs": [],
      "source": [
        "model_shuffle = modelLSTM()"
      ]
    },
    {
      "cell_type": "code",
      "execution_count": null,
      "metadata": {
        "colab": {
          "base_uri": "https://localhost:8080/"
        },
        "id": "hsF1gK-zIvzv",
        "outputId": "b80743d3-3bd4-497d-a05b-9279b38b9b65"
      },
      "outputs": [
        {
          "output_type": "stream",
          "name": "stdout",
          "text": [
            "Model: \"sequential_10\"\n",
            "_________________________________________________________________\n",
            " Layer (type)                Output Shape              Param #   \n",
            "=================================================================\n",
            " lstm_10 (LSTM)              (None, 200)               161600    \n",
            "                                                                 \n",
            " dropout_20 (Dropout)        (None, 200)               0         \n",
            "                                                                 \n",
            " dense_20 (Dense)            (None, 29)                5829      \n",
            "                                                                 \n",
            " dropout_21 (Dropout)        (None, 29)                0         \n",
            "                                                                 \n",
            " dense_21 (Dense)            (None, 1)                 30        \n",
            "                                                                 \n",
            "=================================================================\n",
            "Total params: 167,459\n",
            "Trainable params: 167,459\n",
            "Non-trainable params: 0\n",
            "_________________________________________________________________\n"
          ]
        }
      ],
      "source": [
        "model_shuffle.summary()"
      ]
    },
    {
      "cell_type": "code",
      "execution_count": null,
      "metadata": {
        "colab": {
          "base_uri": "https://localhost:8080/"
        },
        "id": "vxhDCreyXQRc",
        "outputId": "f528c391-d13a-40b1-fce2-bef02736c2a2"
      },
      "outputs": [
        {
          "output_type": "stream",
          "name": "stdout",
          "text": [
            "Epoch 1/20\n",
            "146/152 [===========================>..] - ETA: 0s - loss: 0.6759 - accuracy: 0.5756"
          ]
        },
        {
          "output_type": "stream",
          "name": "stderr",
          "text": [
            "WARNING:absl:Found untraced functions such as lstm_cell_10_layer_call_fn, lstm_cell_10_layer_call_and_return_conditional_losses while saving (showing 2 of 2). These functions will not be directly callable after loading.\n"
          ]
        },
        {
          "output_type": "stream",
          "name": "stdout",
          "text": [
            "\b\b\b\b\b\b\b\b\b\b\b\b\b\b\b\b\b\b\b\b\b\b\b\b\b\b\b\b\b\b\b\b\b\b\b\b\b\b\b\b\b\b\b\b\b\b\b\b\b\b\b\b\b\b\b\b\b\b\b\b\b\b\b\b\b\b\b\b\b\b\b\b\b\b\b\b\b\b\b\b\b\b\b\b\r152/152 [==============================] - 7s 37ms/step - loss: 0.6750 - accuracy: 0.5776 - val_loss: 0.6391 - val_accuracy: 0.6584\n",
            "Epoch 2/20\n",
            "150/152 [============================>.] - ETA: 0s - loss: 0.6516 - accuracy: 0.6348"
          ]
        },
        {
          "output_type": "stream",
          "name": "stderr",
          "text": [
            "WARNING:absl:Found untraced functions such as lstm_cell_10_layer_call_fn, lstm_cell_10_layer_call_and_return_conditional_losses while saving (showing 2 of 2). These functions will not be directly callable after loading.\n"
          ]
        },
        {
          "output_type": "stream",
          "name": "stdout",
          "text": [
            "\b\b\b\b\b\b\b\b\b\b\b\b\b\b\b\b\b\b\b\b\b\b\b\b\b\b\b\b\b\b\b\b\b\b\b\b\b\b\b\b\b\b\b\b\b\b\b\b\b\b\b\b\b\b\b\b\b\b\b\b\b\b\b\b\b\b\b\b\b\b\b\b\b\b\b\b\b\b\b\b\b\b\b\b\r152/152 [==============================] - 5s 31ms/step - loss: 0.6516 - accuracy: 0.6348 - val_loss: 0.6375 - val_accuracy: 0.6469\n",
            "Epoch 3/20\n",
            "150/152 [============================>.] - ETA: 0s - loss: 0.6543 - accuracy: 0.6273"
          ]
        },
        {
          "output_type": "stream",
          "name": "stderr",
          "text": [
            "WARNING:absl:Found untraced functions such as lstm_cell_10_layer_call_fn, lstm_cell_10_layer_call_and_return_conditional_losses while saving (showing 2 of 2). These functions will not be directly callable after loading.\n"
          ]
        },
        {
          "output_type": "stream",
          "name": "stdout",
          "text": [
            "\b\b\b\b\b\b\b\b\b\b\b\b\b\b\b\b\b\b\b\b\b\b\b\b\b\b\b\b\b\b\b\b\b\b\b\b\b\b\b\b\b\b\b\b\b\b\b\b\b\b\b\b\b\b\b\b\b\b\b\b\b\b\b\b\b\b\b\b\b\b\b\b\b\b\b\b\b\b\b\b\b\b\b\b\r152/152 [==============================] - 5s 31ms/step - loss: 0.6539 - accuracy: 0.6281 - val_loss: 0.6318 - val_accuracy: 0.6551\n",
            "Epoch 4/20\n",
            "152/152 [==============================] - 1s 6ms/step - loss: 0.6454 - accuracy: 0.6411 - val_loss: 0.6391 - val_accuracy: 0.6584\n",
            "Epoch 5/20\n",
            "152/152 [==============================] - 1s 5ms/step - loss: 0.6489 - accuracy: 0.6391 - val_loss: 0.6402 - val_accuracy: 0.6345\n",
            "Epoch 6/20\n",
            "152/152 [==============================] - 1s 5ms/step - loss: 0.6442 - accuracy: 0.6407 - val_loss: 0.6372 - val_accuracy: 0.6411\n",
            "Epoch 7/20\n",
            "152/152 [==============================] - 1s 5ms/step - loss: 0.6463 - accuracy: 0.6350 - val_loss: 0.6540 - val_accuracy: 0.6312\n",
            "Epoch 8/20\n",
            "152/152 [==============================] - 1s 5ms/step - loss: 0.6625 - accuracy: 0.5993 - val_loss: 0.6497 - val_accuracy: 0.6238\n",
            "Epoch 9/20\n",
            "152/152 [==============================] - 1s 5ms/step - loss: 0.6591 - accuracy: 0.6087 - val_loss: 0.6421 - val_accuracy: 0.6386\n",
            "Epoch 10/20\n",
            "152/152 [==============================] - 1s 5ms/step - loss: 0.6578 - accuracy: 0.6189 - val_loss: 0.6428 - val_accuracy: 0.6419\n",
            "Epoch 11/20\n",
            "152/152 [==============================] - 1s 6ms/step - loss: 0.6518 - accuracy: 0.6174 - val_loss: 0.6401 - val_accuracy: 0.6427\n",
            "Epoch 12/20\n",
            "152/152 [==============================] - 1s 6ms/step - loss: 0.6527 - accuracy: 0.6184 - val_loss: 0.6456 - val_accuracy: 0.6328\n",
            "Epoch 13/20\n",
            "152/152 [==============================] - 1s 5ms/step - loss: 0.6535 - accuracy: 0.6174 - val_loss: 0.6499 - val_accuracy: 0.6205\n",
            "Epoch 13: early stopping\n"
          ]
        },
        {
          "output_type": "execute_result",
          "data": {
            "text/plain": [
              "<keras.callbacks.History at 0x7fe668930a30>"
            ]
          },
          "metadata": {},
          "execution_count": 165
        }
      ],
      "source": [
        "#Entrenamos el modelo\n",
        "cp = ModelCheckpoint('model/', save_best_only=True)\n",
        "earlyStop=EarlyStopping(monitor=\"val_loss\",verbose=3, patience=10)\n",
        "\n",
        "model_shuffle.fit(X_train_1, y_train_1,validation_data=(X_test_1, y_test_1),epochs=20, callbacks=[cp, earlyStop])"
      ]
    },
    {
      "cell_type": "code",
      "execution_count": null,
      "metadata": {
        "colab": {
          "base_uri": "https://localhost:8080/"
        },
        "id": "kxQyHJwcXQUA",
        "outputId": "f292398f-e481-414a-a7d7-9092bf596dbd"
      },
      "outputs": [
        {
          "output_type": "stream",
          "name": "stdout",
          "text": [
            "38/38 - 0s - loss: 0.6499 - accuracy: 0.6205 - 100ms/epoch - 3ms/step\n",
            "accuracy: 62.05%\n"
          ]
        }
      ],
      "source": [
        "scores = model_shuffle.evaluate(X_test_1, y_test_1, verbose=2)\n",
        "print(\"%s: %.2f%%\" % (model_shuffle.metrics_names[1], scores[1] * 100))"
      ]
    },
    {
      "cell_type": "code",
      "execution_count": null,
      "metadata": {
        "colab": {
          "base_uri": "https://localhost:8080/"
        },
        "id": "dZlKVEm1XQWt",
        "outputId": "c82cfb6f-839f-4d26-8073-075e8203fffd"
      },
      "outputs": [
        {
          "output_type": "stream",
          "name": "stdout",
          "text": [
            "38/38 [==============================] - 0s 2ms/step\n"
          ]
        }
      ],
      "source": [
        "y_pred_model_1 = model_shuffle.predict(X_test_1)"
      ]
    },
    {
      "cell_type": "code",
      "execution_count": null,
      "metadata": {
        "colab": {
          "base_uri": "https://localhost:8080/"
        },
        "id": "iREfGDCxXQZE",
        "outputId": "3e2320d9-004e-46e1-efcb-b9f1092f4c72"
      },
      "outputs": [
        {
          "output_type": "stream",
          "name": "stdout",
          "text": [
            "              precision    recall  f1-score   support\n",
            "\n",
            "           0       0.49      1.00      0.66       599\n",
            "           1       0.00      0.00      0.00       613\n",
            "\n",
            "    accuracy                           0.49      1212\n",
            "   macro avg       0.25      0.50      0.33      1212\n",
            "weighted avg       0.24      0.49      0.33      1212\n",
            "\n"
          ]
        },
        {
          "output_type": "stream",
          "name": "stderr",
          "text": [
            "/usr/local/lib/python3.8/dist-packages/sklearn/metrics/_classification.py:1318: UndefinedMetricWarning: Precision and F-score are ill-defined and being set to 0.0 in labels with no predicted samples. Use `zero_division` parameter to control this behavior.\n",
            "  _warn_prf(average, modifier, msg_start, len(result))\n",
            "/usr/local/lib/python3.8/dist-packages/sklearn/metrics/_classification.py:1318: UndefinedMetricWarning: Precision and F-score are ill-defined and being set to 0.0 in labels with no predicted samples. Use `zero_division` parameter to control this behavior.\n",
            "  _warn_prf(average, modifier, msg_start, len(result))\n",
            "/usr/local/lib/python3.8/dist-packages/sklearn/metrics/_classification.py:1318: UndefinedMetricWarning: Precision and F-score are ill-defined and being set to 0.0 in labels with no predicted samples. Use `zero_division` parameter to control this behavior.\n",
            "  _warn_prf(average, modifier, msg_start, len(result))\n"
          ]
        }
      ],
      "source": [
        "# print classification report\n",
        "y_pred_model1 = np.argmax(y_pred_model_1, axis=1)\n",
        "print(classification_report(y_test_1, y_pred_model1))"
      ]
    },
    {
      "cell_type": "code",
      "execution_count": null,
      "metadata": {
        "colab": {
          "base_uri": "https://localhost:8080/",
          "height": 317
        },
        "id": "g9HNZ8hVXVWX",
        "outputId": "4d033569-b83a-413c-ee69-ec4331dd7744"
      },
      "outputs": [
        {
          "output_type": "stream",
          "name": "stdout",
          "text": [
            "[[599   0]\n",
            " [613   0]]\n"
          ]
        },
        {
          "output_type": "execute_result",
          "data": {
            "text/plain": [
              "<matplotlib.axes._subplots.AxesSubplot at 0x7fe660f80640>"
            ]
          },
          "metadata": {},
          "execution_count": 169
        },
        {
          "output_type": "display_data",
          "data": {
            "text/plain": [
              "<Figure size 432x288 with 2 Axes>"
            ],
            "image/png": "[encoded data removed]"
          },
          "metadata": {
            "needs_background": "light"
          }
        }
      ],
      "source": [
        "#Get the confusion matrix\n",
        "cf_matrix = confusion_matrix(y_test_1, y_pred_model1)\n",
        "print(cf_matrix)\n",
        "\n",
        "sns.heatmap(cf_matrix, annot=True, cmap='Blues')"
      ]
    },
    {
      "cell_type": "code",
      "execution_count": null,
      "metadata": {
        "colab": {
          "base_uri": "https://localhost:8080/",
          "height": 284
        },
        "id": "4Hqvg39ZXVY4",
        "outputId": "27feca92-c08e-4cde-decc-ee212e0b4d9c"
      },
      "outputs": [
        {
          "output_type": "execute_result",
          "data": {
            "text/plain": [
              "<matplotlib.axes._subplots.AxesSubplot at 0x7fe65ed37c70>"
            ]
          },
          "metadata": {},
          "execution_count": 170
        },
        {
          "output_type": "display_data",
          "data": {
            "text/plain": [
              "<Figure size 432x288 with 2 Axes>"
            ],
            "image/png": "[encoded data removed]"
          },
          "metadata": {
            "needs_background": "light"
          }
        }
      ],
      "source": [
        "sns.heatmap(cf_matrix/np.sum(cf_matrix), annot=True, \n",
        "            fmt='.2%', cmap='Blues')"
      ]
    },
    {
      "cell_type": "markdown",
      "metadata": {
        "id": "Qlye6nod1lh7"
      },
      "source": [
        "# 2.2.1 GridSearch -  Hiperparametros del modelo LSTM con division aleatoria  (X_train_1, y_train_1)"
      ]
    },
    {
      "cell_type": "code",
      "execution_count": null,
      "metadata": {
        "colab": {
          "base_uri": "https://localhost:8080/"
        },
        "id": "NaL1ugg_1lh9",
        "outputId": "3e130023-70fb-44ea-bcf9-d27b27862df5"
      },
      "outputs": [
        {
          "output_type": "stream",
          "name": "stdout",
          "text": [
            "Epoch 1/20\n",
            "Epoch 2/20\n",
            "Epoch 3/20\n",
            "Epoch 4/20\n",
            "Epoch 5/20\n",
            "Epoch 6/20\n",
            "Epoch 7/20\n",
            "Epoch 8/20\n",
            "Epoch 9/20\n",
            "Epoch 10/20\n",
            "Epoch 11/20\n",
            "Epoch 12/20\n",
            "Epoch 13/20\n",
            "Epoch 14/20\n",
            "Epoch 15/20\n",
            "Epoch 16/20\n",
            "Epoch 17/20\n",
            "Epoch 18/20\n",
            "Epoch 19/20\n",
            "Epoch 20/20\n",
            "Best: 0.641558 using {'batch_size': 64, 'class_weight': {0: 1, 1: 1}, 'epochs': 20, 'optimizer': 'adam'}\n",
            "0.635574 (0.017219) with: {'batch_size': 16, 'class_weight': {0: 1, 1: 1}, 'epochs': 20, 'optimizer': 'adam'}\n",
            "0.510321 (0.013721) with: {'batch_size': 16, 'class_weight': {0: 1, 1: 5}, 'epochs': 20, 'optimizer': 'adam'}\n",
            "0.630827 (0.015660) with: {'batch_size': 32, 'class_weight': {0: 1, 1: 1}, 'epochs': 20, 'optimizer': 'adam'}\n",
            "0.506398 (0.011619) with: {'batch_size': 32, 'class_weight': {0: 1, 1: 5}, 'epochs': 20, 'optimizer': 'adam'}\n",
            "0.641558 (0.007911) with: {'batch_size': 64, 'class_weight': {0: 1, 1: 1}, 'epochs': 20, 'optimizer': 'adam'}\n",
            "0.513616 (0.020967) with: {'batch_size': 64, 'class_weight': {0: 1, 1: 5}, 'epochs': 20, 'optimizer': 'adam'}\n"
          ]
        }
      ],
      "source": [
        "# create model\n",
        "model = KerasClassifier(model=modelLSTM, verbose=3, loss=\"binary_crossentropy\", epochs=20, batch_size=32)\n",
        "\n",
        "# define the grid search parameters\n",
        "batch_size = [16, 32, 64]\n",
        "epochs = [20]\n",
        "optimizer = ['adam']\n",
        "class_weight = [{0: 1, 1: 1}, {0: 1, 1: 5}]\n",
        "\n",
        "\n",
        "param_grid = dict(batch_size=batch_size,\n",
        "                  epochs=epochs,\n",
        "                  optimizer=optimizer,\n",
        "                  class_weight= class_weight\n",
        "                  )\n",
        "#Grid\n",
        "grid = GridSearchCV(estimator=model, \n",
        "                    param_grid=param_grid, \n",
        "                    n_jobs=-1, \n",
        "                    cv=5)\n",
        "\n",
        "grid_result = grid.fit(X_train_1, y_train_1)\n",
        "\n",
        "# summarize results\n",
        "print(\"Best: %f using %s\" % (grid_result.best_score_, grid_result.best_params_))\n",
        "means = grid_result.cv_results_['mean_test_score']\n",
        "stds = grid_result.cv_results_['std_test_score']\n",
        "params = grid_result.cv_results_['params']\n",
        "for mean, stdev, param in zip(means, stds, params):\n",
        "  print(\"%f (%f) with: %r\" % (mean, stdev, param))"
      ]
    },
    {
      "cell_type": "code",
      "execution_count": null,
      "metadata": {
        "id": "z9_bgd6M1lh-",
        "colab": {
          "base_uri": "https://localhost:8080/"
        },
        "outputId": "bf57c985-e037-458c-a929-17848fc0124d"
      },
      "outputs": [
        {
          "output_type": "execute_result",
          "data": {
            "text/plain": [
              "KerasClassifier(\n",
              "\tmodel=<function modelLSTM at 0x7f31ec8d0430>\n",
              "\tbuild_fn=None\n",
              "\twarm_start=False\n",
              "\trandom_state=None\n",
              "\toptimizer=adam\n",
              "\tloss=binary_crossentropy\n",
              "\tmetrics=None\n",
              "\tbatch_size=64\n",
              "\tvalidation_batch_size=None\n",
              "\tverbose=3\n",
              "\tcallbacks=None\n",
              "\tvalidation_split=0.0\n",
              "\tshuffle=True\n",
              "\trun_eagerly=False\n",
              "\tepochs=20\n",
              "\tclass_weight={0: 1, 1: 1}\n",
              ")"
            ]
          },
          "metadata": {},
          "execution_count": 62
        }
      ],
      "source": [
        "final_model = grid_result.best_estimator_\n",
        "final_model"
      ]
    },
    {
      "cell_type": "code",
      "execution_count": null,
      "metadata": {
        "id": "6H30LWco1lh_",
        "colab": {
          "base_uri": "https://localhost:8080/",
          "height": 319
        },
        "outputId": "b88c8979-c733-480d-9080-aa340a0c7cbe"
      },
      "outputs": [
        {
          "output_type": "stream",
          "name": "stdout",
          "text": [
            "[[155 437]\n",
            " [165 455]]\n"
          ]
        },
        {
          "output_type": "execute_result",
          "data": {
            "text/plain": [
              "<matplotlib.axes._subplots.AxesSubplot at 0x7f31edbfc3a0>"
            ]
          },
          "metadata": {},
          "execution_count": 72
        },
        {
          "output_type": "display_data",
          "data": {
            "text/plain": [
              "<Figure size 432x288 with 2 Axes>"
            ],
            "image/png": "[encoded data removed]"
          },
          "metadata": {
            "needs_background": "light"
          }
        }
      ],
      "source": [
        "y_pred = final_model.predict(X_test_1.astype('float32'))\n",
        "print(cm)\n",
        "cm = confusion_matrix(y_test, y_pred)\n",
        "sns.heatmap(cm, cmap = 'Blues', annot=True)"
      ]
    },
    {
      "cell_type": "code",
      "source": [
        "print(classification_report(y_test_1, y_pred))"
      ],
      "metadata": {
        "colab": {
          "base_uri": "https://localhost:8080/"
        },
        "id": "YmOUQp3st1Q0",
        "outputId": "8d582e35-7b6c-4f63-d3a0-cbf5c0ff89fd"
      },
      "execution_count": null,
      "outputs": [
        {
          "output_type": "stream",
          "name": "stdout",
          "text": [
            "              precision    recall  f1-score   support\n",
            "\n",
            "           0       0.68      0.58      0.62       592\n",
            "           1       0.65      0.74      0.69       620\n",
            "\n",
            "    accuracy                           0.66      1212\n",
            "   macro avg       0.66      0.66      0.66      1212\n",
            "weighted avg       0.66      0.66      0.66      1212\n",
            "\n"
          ]
        }
      ]
    },
    {
      "cell_type": "code",
      "execution_count": null,
      "metadata": {
        "id": "R7-jdUT01liA",
        "colab": {
          "base_uri": "https://localhost:8080/",
          "height": 283
        },
        "outputId": "09a82ff3-ef69-4713-e2fd-e2becd6757ab"
      },
      "outputs": [
        {
          "output_type": "execute_result",
          "data": {
            "text/plain": [
              "<matplotlib.axes._subplots.AxesSubplot at 0x7f31f21c0310>"
            ]
          },
          "metadata": {},
          "execution_count": 70
        },
        {
          "output_type": "display_data",
          "data": {
            "text/plain": [
              "<Figure size 432x288 with 2 Axes>"
            ],
            "image/png": "[encoded data removed]"
          },
          "metadata": {
            "needs_background": "light"
          }
        }
      ],
      "source": [
        "y_pred = (final_model.predict_proba(X_test.astype('float32'))[:,1] >= 0.51).astype(bool)\n",
        "cm = confusion_matrix(y_test_1, y_pred)\n",
        "sns.heatmap(cm, cmap = 'Blues', annot=True)"
      ]
    },
    {
      "cell_type": "code",
      "source": [
        "print(classification_report(y_test_1, y_pred))"
      ],
      "metadata": {
        "colab": {
          "base_uri": "https://localhost:8080/"
        },
        "id": "z0g7y_51tdiF",
        "outputId": "554806e6-5559-4a85-b57a-f21e9723a5a5"
      },
      "execution_count": null,
      "outputs": [
        {
          "output_type": "stream",
          "name": "stdout",
          "text": [
            "              precision    recall  f1-score   support\n",
            "\n",
            "           0       0.48      0.26      0.34       592\n",
            "           1       0.51      0.73      0.60       620\n",
            "\n",
            "    accuracy                           0.50      1212\n",
            "   macro avg       0.50      0.50      0.47      1212\n",
            "weighted avg       0.50      0.50      0.47      1212\n",
            "\n"
          ]
        }
      ]
    },
    {
      "cell_type": "markdown",
      "metadata": {
        "id": "6XtEKoFCxVT1"
      },
      "source": [
        "# 2.3. Model LSTM division aleatoria con SMOTE"
      ]
    },
    {
      "cell_type": "code",
      "execution_count": null,
      "metadata": {
        "id": "zHfNKoARxVT2",
        "colab": {
          "base_uri": "https://localhost:8080/"
        },
        "outputId": "7d793903-5f14-4c9a-835c-65c296ddc672"
      },
      "outputs": [
        {
          "output_type": "stream",
          "name": "stdout",
          "text": [
            "Before OverSampling, counts of label '1': 2409\n",
            "Before OverSampling, counts of label '0': 2437 \n",
            "\n",
            "After OverSampling, the shape of train_X: (4874, 28)\n",
            "After OverSampling, the shape of train_y: (4874,) \n",
            "\n",
            "After OverSampling, counts of label '1': 2437\n",
            "After OverSampling, counts of label '0': 2437\n"
          ]
        }
      ],
      "source": [
        "from imblearn.over_sampling import SMOTE \n",
        "X_smote_1 , y_smote_1 = SMOTE().fit_resample( df_train_scaled_1, y_train_1)\n",
        "\n",
        "print(\"Before OverSampling, counts of label '1': {}\".format(sum(y_train_1 == 1)))\n",
        "print(\"Before OverSampling, counts of label '0': {} \\n\".format(sum(y_train_1 == 0)))\n",
        "\n",
        "print('After OverSampling, the shape of train_X: {}'.format(X_smote_1.shape))\n",
        "print('After OverSampling, the shape of train_y: {} \\n'.format(y_smote_1.shape))\n",
        "  \n",
        "print(\"After OverSampling, counts of label '1': {}\".format(sum(y_smote_1 == 1)))\n",
        "print(\"After OverSampling, counts of label '0': {}\".format(sum(y_smote_1 == 0)))"
      ]
    },
    {
      "cell_type": "code",
      "execution_count": null,
      "metadata": {
        "id": "F147p7zVxVT4",
        "colab": {
          "base_uri": "https://localhost:8080/",
          "height": 295
        },
        "outputId": "51929895-492b-4514-f6a5-a24f42f44c26"
      },
      "outputs": [
        {
          "output_type": "execute_result",
          "data": {
            "text/plain": [
              "<matplotlib.axes._subplots.AxesSubplot at 0x7f31dc08c370>"
            ]
          },
          "metadata": {},
          "execution_count": 75
        },
        {
          "output_type": "display_data",
          "data": {
            "text/plain": [
              "<Figure size 432x288 with 1 Axes>"
            ],
            "image/png": "[encoded data removed]"
          },
          "metadata": {
            "needs_background": "light"
          }
        }
      ],
      "source": [
        "pd.Series(y_smote_1).value_counts().plot(kind='bar', title='Distribucion de clases aplicando SMOTE')"
      ]
    },
    {
      "cell_type": "markdown",
      "metadata": {
        "id": "XKweaVKDxVT7"
      },
      "source": [
        "Este gráfico muestra claramente que ahora tenemos una gran cantidad de incendios que antes no teníamos. Esos son todos los puntos de datos sintéticos que se ha creado con SMOTE.\n",
        "\n"
      ]
    },
    {
      "cell_type": "code",
      "execution_count": null,
      "metadata": {
        "id": "QNwIs2FaxVT8",
        "colab": {
          "base_uri": "https://localhost:8080/"
        },
        "outputId": "d8c29e16-b67a-4516-de1e-4b3d13bad13a"
      },
      "outputs": [
        {
          "output_type": "execute_result",
          "data": {
            "text/plain": [
              "((4874, 28, 1), (4874,))"
            ]
          },
          "metadata": {},
          "execution_count": 76
        }
      ],
      "source": [
        "#Escalamos los datos de smote para que tengan la dimension correcta para el modelo\n",
        "X_smote_1 = X_smote_1.reshape(X_smote_1.shape[0],X_smote_1.shape[1],1)\n",
        "X_smote_1.shape, y_smote_1.shape"
      ]
    },
    {
      "cell_type": "code",
      "execution_count": null,
      "metadata": {
        "id": "NY3PPdtzxVT9"
      },
      "outputs": [],
      "source": [
        "X_smote_float_1 =X_smote_1.astype(np.float32)"
      ]
    },
    {
      "cell_type": "code",
      "execution_count": null,
      "metadata": {
        "id": "_R2bjbJKxVT-"
      },
      "outputs": [],
      "source": [
        "y_smote_int_1 = y_smote_1.astype(np.int32)"
      ]
    },
    {
      "cell_type": "code",
      "execution_count": null,
      "metadata": {
        "id": "2-KTPTDNz7AJ",
        "colab": {
          "base_uri": "https://localhost:8080/"
        },
        "outputId": "6aa70aaf-c312-4f5c-8a03-a6ca520ec0b0"
      },
      "outputs": [
        {
          "output_type": "execute_result",
          "data": {
            "text/plain": [
              "((1212, 28, 1), (1212,), (4874, 28, 1), (4874,))"
            ]
          },
          "metadata": {},
          "execution_count": 79
        }
      ],
      "source": [
        "X_test_1.shape, y_test_1.shape, X_smote_float_1.shape, y_smote_int_1.shape"
      ]
    },
    {
      "cell_type": "code",
      "execution_count": null,
      "metadata": {
        "id": "a23Ej_H8xVT-",
        "colab": {
          "base_uri": "https://localhost:8080/"
        },
        "outputId": "172188dc-460c-4bbb-cb20-69f16bb30396"
      },
      "outputs": [
        {
          "output_type": "stream",
          "name": "stdout",
          "text": [
            "Epoch 1/20\n",
            "149/153 [============================>.] - ETA: 0s - loss: 0.6742 - accuracy: 0.5879"
          ]
        },
        {
          "output_type": "stream",
          "name": "stderr",
          "text": [
            "WARNING:absl:Found untraced functions such as lstm_cell_2_layer_call_fn, lstm_cell_2_layer_call_and_return_conditional_losses while saving (showing 2 of 2). These functions will not be directly callable after loading.\n"
          ]
        },
        {
          "output_type": "stream",
          "name": "stdout",
          "text": [
            "\b\b\b\b\b\b\b\b\b\b\b\b\b\b\b\b\b\b\b\b\b\b\b\b\b\b\b\b\b\b\b\b\b\b\b\b\b\b\b\b\b\b\b\b\b\b\b\b\b\b\b\b\b\b\b\b\b\b\b\b\b\b\b\b\b\b\b\b\b\b\b\b\b\b\b\b\b\b\b\b\b\b\b\b\r153/153 [==============================] - 7s 33ms/step - loss: 0.6742 - accuracy: 0.5876 - val_loss: 0.6569 - val_accuracy: 0.6394\n",
            "Epoch 2/20\n",
            "153/153 [==============================] - 1s 5ms/step - loss: 0.6578 - accuracy: 0.6202 - val_loss: 0.6656 - val_accuracy: 0.6155\n",
            "Epoch 3/20\n",
            "151/153 [============================>.] - ETA: 0s - loss: 0.6539 - accuracy: 0.6229"
          ]
        },
        {
          "output_type": "stream",
          "name": "stderr",
          "text": [
            "WARNING:absl:Found untraced functions such as lstm_cell_2_layer_call_fn, lstm_cell_2_layer_call_and_return_conditional_losses while saving (showing 2 of 2). These functions will not be directly callable after loading.\n"
          ]
        },
        {
          "output_type": "stream",
          "name": "stdout",
          "text": [
            "\b\b\b\b\b\b\b\b\b\b\b\b\b\b\b\b\b\b\b\b\b\b\b\b\b\b\b\b\b\b\b\b\b\b\b\b\b\b\b\b\b\b\b\b\b\b\b\b\b\b\b\b\b\b\b\b\b\b\b\b\b\b\b\b\b\b\b\b\b\b\b\b\b\b\b\b\b\b\b\b\b\b\b\b\r153/153 [==============================] - 5s 30ms/step - loss: 0.6542 - accuracy: 0.6219 - val_loss: 0.6523 - val_accuracy: 0.6097\n",
            "Epoch 4/20\n",
            "151/153 [============================>.] - ETA: 0s - loss: 0.6468 - accuracy: 0.6213"
          ]
        },
        {
          "output_type": "stream",
          "name": "stderr",
          "text": [
            "WARNING:absl:Found untraced functions such as lstm_cell_2_layer_call_fn, lstm_cell_2_layer_call_and_return_conditional_losses while saving (showing 2 of 2). These functions will not be directly callable after loading.\n"
          ]
        },
        {
          "output_type": "stream",
          "name": "stdout",
          "text": [
            "\b\b\b\b\b\b\b\b\b\b\b\b\b\b\b\b\b\b\b\b\b\b\b\b\b\b\b\b\b\b\b\b\b\b\b\b\b\b\b\b\b\b\b\b\b\b\b\b\b\b\b\b\b\b\b\b\b\b\b\b\b\b\b\b\b\b\b\b\b\b\b\b\b\b\b\b\b\b\b\b\b\b\b\b\r153/153 [==============================] - 5s 32ms/step - loss: 0.6466 - accuracy: 0.6221 - val_loss: 0.6410 - val_accuracy: 0.6378\n",
            "Epoch 5/20\n",
            "153/153 [==============================] - 1s 5ms/step - loss: 0.6430 - accuracy: 0.6317 - val_loss: 0.6473 - val_accuracy: 0.6436\n",
            "Epoch 6/20\n",
            "153/153 [==============================] - 1s 5ms/step - loss: 0.6463 - accuracy: 0.6274 - val_loss: 0.6560 - val_accuracy: 0.6394\n",
            "Epoch 7/20\n",
            "149/153 [============================>.] - ETA: 0s - loss: 0.6442 - accuracy: 0.6334"
          ]
        },
        {
          "output_type": "stream",
          "name": "stderr",
          "text": [
            "WARNING:absl:Found untraced functions such as lstm_cell_2_layer_call_fn, lstm_cell_2_layer_call_and_return_conditional_losses while saving (showing 2 of 2). These functions will not be directly callable after loading.\n"
          ]
        },
        {
          "output_type": "stream",
          "name": "stdout",
          "text": [
            "\b\b\b\b\b\b\b\b\b\b\b\b\b\b\b\b\b\b\b\b\b\b\b\b\b\b\b\b\b\b\b\b\b\b\b\b\b\b\b\b\b\b\b\b\b\b\b\b\b\b\b\b\b\b\b\b\b\b\b\b\b\b\b\b\b\b\b\b\b\b\b\b\b\b\b\b\b\b\b\b\b\b\b\b\r153/153 [==============================] - 5s 30ms/step - loss: 0.6454 - accuracy: 0.6332 - val_loss: 0.6407 - val_accuracy: 0.6378\n",
            "Epoch 8/20\n",
            "153/153 [==============================] - 1s 7ms/step - loss: 0.6447 - accuracy: 0.6280 - val_loss: 0.6473 - val_accuracy: 0.6254\n",
            "Epoch 9/20\n",
            "149/153 [============================>.] - ETA: 0s - loss: 0.6416 - accuracy: 0.6378"
          ]
        },
        {
          "output_type": "stream",
          "name": "stderr",
          "text": [
            "WARNING:absl:Found untraced functions such as lstm_cell_2_layer_call_fn, lstm_cell_2_layer_call_and_return_conditional_losses while saving (showing 2 of 2). These functions will not be directly callable after loading.\n"
          ]
        },
        {
          "output_type": "stream",
          "name": "stdout",
          "text": [
            "\b\b\b\b\b\b\b\b\b\b\b\b\b\b\b\b\b\b\b\b\b\b\b\b\b\b\b\b\b\b\b\b\b\b\b\b\b\b\b\b\b\b\b\b\b\b\b\b\b\b\b\b\b\b\b\b\b\b\b\b\b\b\b\b\b\b\b\b\b\b\b\b\b\b\b\b\b\b\b\b\b\b\b\b\r153/153 [==============================] - 5s 36ms/step - loss: 0.6412 - accuracy: 0.6389 - val_loss: 0.6403 - val_accuracy: 0.6295\n",
            "Epoch 10/20\n",
            "148/153 [============================>.] - ETA: 0s - loss: 0.6452 - accuracy: 0.6296"
          ]
        },
        {
          "output_type": "stream",
          "name": "stderr",
          "text": [
            "WARNING:absl:Found untraced functions such as lstm_cell_2_layer_call_fn, lstm_cell_2_layer_call_and_return_conditional_losses while saving (showing 2 of 2). These functions will not be directly callable after loading.\n"
          ]
        },
        {
          "output_type": "stream",
          "name": "stdout",
          "text": [
            "\b\b\b\b\b\b\b\b\b\b\b\b\b\b\b\b\b\b\b\b\b\b\b\b\b\b\b\b\b\b\b\b\b\b\b\b\b\b\b\b\b\b\b\b\b\b\b\b\b\b\b\b\b\b\b\b\b\b\b\b\b\b\b\b\b\b\b\b\b\b\b\b\b\b\b\b\b\b\b\b\b\b\b\b\r153/153 [==============================] - 5s 35ms/step - loss: 0.6446 - accuracy: 0.6311 - val_loss: 0.6328 - val_accuracy: 0.6584\n",
            "Epoch 11/20\n",
            "151/153 [============================>.] - ETA: 0s - loss: 0.6459 - accuracy: 0.6285"
          ]
        },
        {
          "output_type": "stream",
          "name": "stderr",
          "text": [
            "WARNING:absl:Found untraced functions such as lstm_cell_2_layer_call_fn, lstm_cell_2_layer_call_and_return_conditional_losses while saving (showing 2 of 2). These functions will not be directly callable after loading.\n"
          ]
        },
        {
          "output_type": "stream",
          "name": "stdout",
          "text": [
            "\b\b\b\b\b\b\b\b\b\b\b\b\b\b\b\b\b\b\b\b\b\b\b\b\b\b\b\b\b\b\b\b\b\b\b\b\b\b\b\b\b\b\b\b\b\b\b\b\b\b\b\b\b\b\b\b\b\b\b\b\b\b\b\b\b\b\b\b\b\b\b\b\b\b\b\b\b\b\b\b\b\b\b\b\r153/153 [==============================] - 5s 32ms/step - loss: 0.6451 - accuracy: 0.6295 - val_loss: 0.6319 - val_accuracy: 0.6502\n",
            "Epoch 12/20\n",
            "152/153 [============================>.] - ETA: 0s - loss: 0.6381 - accuracy: 0.6454"
          ]
        },
        {
          "output_type": "stream",
          "name": "stderr",
          "text": [
            "WARNING:absl:Found untraced functions such as lstm_cell_2_layer_call_fn, lstm_cell_2_layer_call_and_return_conditional_losses while saving (showing 2 of 2). These functions will not be directly callable after loading.\n"
          ]
        },
        {
          "output_type": "stream",
          "name": "stdout",
          "text": [
            "\b\b\b\b\b\b\b\b\b\b\b\b\b\b\b\b\b\b\b\b\b\b\b\b\b\b\b\b\b\b\b\b\b\b\b\b\b\b\b\b\b\b\b\b\b\b\b\b\b\b\b\b\b\b\b\b\b\b\b\b\b\b\b\b\b\b\b\b\b\b\b\b\b\b\b\b\b\b\b\b\b\b\b\b\r153/153 [==============================] - 5s 31ms/step - loss: 0.6378 - accuracy: 0.6459 - val_loss: 0.6317 - val_accuracy: 0.6469\n",
            "Epoch 13/20\n",
            "151/153 [============================>.] - ETA: 0s - loss: 0.6363 - accuracy: 0.6397"
          ]
        },
        {
          "output_type": "stream",
          "name": "stderr",
          "text": [
            "WARNING:absl:Found untraced functions such as lstm_cell_2_layer_call_fn, lstm_cell_2_layer_call_and_return_conditional_losses while saving (showing 2 of 2). These functions will not be directly callable after loading.\n"
          ]
        },
        {
          "output_type": "stream",
          "name": "stdout",
          "text": [
            "\b\b\b\b\b\b\b\b\b\b\b\b\b\b\b\b\b\b\b\b\b\b\b\b\b\b\b\b\b\b\b\b\b\b\b\b\b\b\b\b\b\b\b\b\b\b\b\b\b\b\b\b\b\b\b\b\b\b\b\b\b\b\b\b\b\b\b\b\b\b\b\b\b\b\b\b\b\b\b\b\b\b\b\b\r153/153 [==============================] - 4s 29ms/step - loss: 0.6361 - accuracy: 0.6399 - val_loss: 0.6236 - val_accuracy: 0.6658\n",
            "Epoch 14/20\n",
            "153/153 [==============================] - 1s 5ms/step - loss: 0.6397 - accuracy: 0.6364 - val_loss: 0.6405 - val_accuracy: 0.6254\n",
            "Epoch 15/20\n",
            "153/153 [==============================] - 1s 5ms/step - loss: 0.6358 - accuracy: 0.6422 - val_loss: 0.6237 - val_accuracy: 0.6551\n",
            "Epoch 16/20\n",
            "153/153 [==============================] - 1s 5ms/step - loss: 0.6365 - accuracy: 0.6446 - val_loss: 0.6280 - val_accuracy: 0.6485\n",
            "Epoch 17/20\n",
            "153/153 [==============================] - 1s 5ms/step - loss: 0.6335 - accuracy: 0.6418 - val_loss: 0.6329 - val_accuracy: 0.6617\n",
            "Epoch 18/20\n",
            "153/153 [==============================] - 1s 5ms/step - loss: 0.6321 - accuracy: 0.6461 - val_loss: 0.6294 - val_accuracy: 0.6469\n",
            "Epoch 19/20\n",
            "153/153 [==============================] - 1s 5ms/step - loss: 0.6354 - accuracy: 0.6453 - val_loss: 0.6246 - val_accuracy: 0.6576\n",
            "Epoch 20/20\n",
            "153/153 [==============================] - 1s 5ms/step - loss: 0.6326 - accuracy: 0.6481 - val_loss: 0.6264 - val_accuracy: 0.6568\n"
          ]
        },
        {
          "output_type": "execute_result",
          "data": {
            "text/plain": [
              "<keras.callbacks.History at 0x7f31d47afe80>"
            ]
          },
          "metadata": {},
          "execution_count": 80
        }
      ],
      "source": [
        "#Entrenamos el modelo\n",
        "cp = ModelCheckpoint('model/', save_best_only=True)\n",
        "earlyStop=EarlyStopping(monitor=\"val_loss\",verbose=2, patience=10)\n",
        "\n",
        "model_smote = modelLSTM(200, 'sigmoid', 0.2,'adam')\n",
        "\n",
        "model_smote.fit(X_smote_float_1, y_smote_int_1,validation_data=(X_test_1, y_test_1),epochs=20,callbacks=[cp, earlyStop])"
      ]
    },
    {
      "cell_type": "code",
      "execution_count": null,
      "metadata": {
        "id": "K5KTTQPExVT_",
        "colab": {
          "base_uri": "https://localhost:8080/"
        },
        "outputId": "0e1a35ed-3690-4544-8e95-c28bf0fa2e7e"
      },
      "outputs": [
        {
          "output_type": "stream",
          "name": "stdout",
          "text": [
            "38/38 - 0s - loss: 0.6264 - accuracy: 0.6568 - 100ms/epoch - 3ms/step\n",
            "accuracy: 65.68%\n"
          ]
        }
      ],
      "source": [
        "scores = model_smote.evaluate(X_test_1, y_test_1, verbose=2)\n",
        "print(\"%s: %.2f%%\" % (model_smote.metrics_names[1], scores[1] * 100))\n"
      ]
    },
    {
      "cell_type": "code",
      "execution_count": null,
      "metadata": {
        "id": "BQovDnOdxVUA",
        "colab": {
          "base_uri": "https://localhost:8080/"
        },
        "outputId": "e48615ad-874d-439d-b519-c7e215d62c35"
      },
      "outputs": [
        {
          "output_type": "stream",
          "name": "stdout",
          "text": [
            "38/38 [==============================] - 0s 2ms/step\n",
            "              precision    recall  f1-score   support\n",
            "\n",
            "           0       0.49      1.00      0.66       592\n",
            "           1       0.00      0.00      0.00       620\n",
            "\n",
            "    accuracy                           0.49      1212\n",
            "   macro avg       0.24      0.50      0.33      1212\n",
            "weighted avg       0.24      0.49      0.32      1212\n",
            "\n"
          ]
        },
        {
          "output_type": "stream",
          "name": "stderr",
          "text": [
            "/usr/local/lib/python3.8/dist-packages/sklearn/metrics/_classification.py:1318: UndefinedMetricWarning: Precision and F-score are ill-defined and being set to 0.0 in labels with no predicted samples. Use `zero_division` parameter to control this behavior.\n",
            "  _warn_prf(average, modifier, msg_start, len(result))\n",
            "/usr/local/lib/python3.8/dist-packages/sklearn/metrics/_classification.py:1318: UndefinedMetricWarning: Precision and F-score are ill-defined and being set to 0.0 in labels with no predicted samples. Use `zero_division` parameter to control this behavior.\n",
            "  _warn_prf(average, modifier, msg_start, len(result))\n",
            "/usr/local/lib/python3.8/dist-packages/sklearn/metrics/_classification.py:1318: UndefinedMetricWarning: Precision and F-score are ill-defined and being set to 0.0 in labels with no predicted samples. Use `zero_division` parameter to control this behavior.\n",
            "  _warn_prf(average, modifier, msg_start, len(result))\n"
          ]
        }
      ],
      "source": [
        "# print classification report\n",
        "y_pred_model_bal = model_smote.predict(X_test_1)\n",
        "\n",
        "y_pred_model_bal_1 = np.argmax(y_pred_model_bal, axis=1)\n",
        "print(classification_report(y_test_1, y_pred_model_bal_1))"
      ]
    },
    {
      "cell_type": "code",
      "execution_count": null,
      "metadata": {
        "id": "sMdnkdkOxVUB",
        "colab": {
          "base_uri": "https://localhost:8080/",
          "height": 317
        },
        "outputId": "823c8954-2902-4f3f-e1f4-62624a205f88"
      },
      "outputs": [
        {
          "output_type": "stream",
          "name": "stdout",
          "text": [
            "[[592   0]\n",
            " [620   0]]\n"
          ]
        },
        {
          "output_type": "execute_result",
          "data": {
            "text/plain": [
              "<matplotlib.axes._subplots.AxesSubplot at 0x7f31847f2bb0>"
            ]
          },
          "metadata": {},
          "execution_count": 83
        },
        {
          "output_type": "display_data",
          "data": {
            "text/plain": [
              "<Figure size 432x288 with 2 Axes>"
            ],
            "image/png": "[encoded data removed]"
          },
          "metadata": {
            "needs_background": "light"
          }
        }
      ],
      "source": [
        "#Get the confusion matrix\n",
        "cf_matrix = confusion_matrix(y_test_1, y_pred_model_bal_1)\n",
        "print(cf_matrix)\n",
        "\n",
        "sns.heatmap(cf_matrix, annot=True,  cmap='Blues')"
      ]
    },
    {
      "cell_type": "markdown",
      "metadata": {
        "id": "8VM7WwrjxVUC"
      },
      "source": [
        "# 2.3.1 GridSearch - Modelo LSTM con division aleatoria Smote (X_smote_float, y_smote_int)"
      ]
    },
    {
      "cell_type": "code",
      "execution_count": null,
      "metadata": {
        "colab": {
          "base_uri": "https://localhost:8080/"
        },
        "id": "HOb-3A2oxVUC",
        "outputId": "6738576d-dbe7-4ae1-f51e-17e7dfe2876b"
      },
      "outputs": [
        {
          "output_type": "stream",
          "name": "stdout",
          "text": [
            "Epoch 1/20\n",
            "Epoch 2/20\n",
            "Epoch 3/20\n",
            "Epoch 4/20\n",
            "Epoch 5/20\n",
            "Epoch 6/20\n",
            "Epoch 7/20\n",
            "Epoch 8/20\n",
            "Epoch 9/20\n",
            "Epoch 10/20\n",
            "Epoch 11/20\n",
            "Epoch 12/20\n",
            "Epoch 13/20\n",
            "Epoch 14/20\n",
            "Epoch 15/20\n",
            "Epoch 16/20\n",
            "Epoch 17/20\n",
            "Epoch 18/20\n",
            "Epoch 19/20\n",
            "Epoch 20/20\n",
            "Best: 0.649365 using {'batch_size': 64, 'class_weight': {0: 1, 1: 1}, 'epochs': 20, 'optimizer': 'adam'}\n",
            "0.631312 (0.020861) with: {'batch_size': 16, 'class_weight': {0: 1, 1: 1}, 'epochs': 20, 'optimizer': 'adam'}\n",
            "0.500000 (0.000459) with: {'batch_size': 16, 'class_weight': {0: 1, 1: 5}, 'epochs': 20, 'optimizer': 'adam'}\n",
            "0.500000 (0.000459) with: {'batch_size': 16, 'class_weight': {0: 1, 1: 10}, 'epochs': 20, 'optimizer': 'adam'}\n",
            "0.637879 (0.020991) with: {'batch_size': 32, 'class_weight': {0: 1, 1: 1}, 'epochs': 20, 'optimizer': 'adam'}\n",
            "0.539390 (0.030476) with: {'batch_size': 32, 'class_weight': {0: 1, 1: 5}, 'epochs': 20, 'optimizer': 'adam'}\n",
            "0.500000 (0.000459) with: {'batch_size': 32, 'class_weight': {0: 1, 1: 10}, 'epochs': 20, 'optimizer': 'adam'}\n",
            "0.649365 (0.004563) with: {'batch_size': 64, 'class_weight': {0: 1, 1: 1}, 'epochs': 20, 'optimizer': 'adam'}\n",
            "0.517234 (0.015403) with: {'batch_size': 64, 'class_weight': {0: 1, 1: 5}, 'epochs': 20, 'optimizer': 'adam'}\n",
            "0.500000 (0.000459) with: {'batch_size': 64, 'class_weight': {0: 1, 1: 10}, 'epochs': 20, 'optimizer': 'adam'}\n"
          ]
        }
      ],
      "source": [
        "# create model\n",
        "model = KerasClassifier(model=modelLSTM, verbose=3, loss=\"binary_crossentropy\", epochs=20, batch_size=32)\n",
        "\n",
        "# define the grid search parameters\n",
        "batch_size = [16, 32, 64]\n",
        "epochs = [20]\n",
        "optimizer = ['adam']\n",
        "class_weight = [{0: 1, 1: 1}, {0: 1, 1: 5}, {0: 1, 1: 10}]\n",
        "\n",
        "\n",
        "param_grid = dict(batch_size=batch_size,\n",
        "                  epochs=epochs,\n",
        "                  optimizer=optimizer,\n",
        "                  class_weight= class_weight\n",
        "                  )\n",
        "#Grid\n",
        "grid = GridSearchCV(estimator=model, \n",
        "                    param_grid=param_grid, \n",
        "                    n_jobs=-1, \n",
        "                    cv=5)\n",
        "\n",
        "grid_result = grid.fit(X_smote_float_1, y_smote_int_1)\n",
        "\n",
        "# summarize results\n",
        "print(\"Best: %f using %s\" % (grid_result.best_score_, grid_result.best_params_))\n",
        "means = grid_result.cv_results_['mean_test_score']\n",
        "stds = grid_result.cv_results_['std_test_score']\n",
        "params = grid_result.cv_results_['params']\n",
        "for mean, stdev, param in zip(means, stds, params):\n",
        "  print(\"%f (%f) with: %r\" % (mean, stdev, param))"
      ]
    },
    {
      "cell_type": "code",
      "execution_count": null,
      "metadata": {
        "id": "QsIZLwzBxVUD",
        "colab": {
          "base_uri": "https://localhost:8080/"
        },
        "outputId": "68f47a01-94e3-4bc4-9cbf-4a91a36aee0e"
      },
      "outputs": [
        {
          "output_type": "execute_result",
          "data": {
            "text/plain": [
              "KerasClassifier(\n",
              "\tmodel=<function modelLSTM at 0x7f31ec8d0430>\n",
              "\tbuild_fn=None\n",
              "\twarm_start=False\n",
              "\trandom_state=None\n",
              "\toptimizer=adam\n",
              "\tloss=binary_crossentropy\n",
              "\tmetrics=None\n",
              "\tbatch_size=64\n",
              "\tvalidation_batch_size=None\n",
              "\tverbose=3\n",
              "\tcallbacks=None\n",
              "\tvalidation_split=0.0\n",
              "\tshuffle=True\n",
              "\trun_eagerly=False\n",
              "\tepochs=20\n",
              "\tclass_weight={0: 1, 1: 1}\n",
              ")"
            ]
          },
          "metadata": {},
          "execution_count": 85
        }
      ],
      "source": [
        "final_model = grid_result.best_estimator_\n",
        "final_model"
      ]
    },
    {
      "cell_type": "code",
      "execution_count": null,
      "metadata": {
        "id": "bsDrmqt8xVUD",
        "colab": {
          "base_uri": "https://localhost:8080/",
          "height": 282
        },
        "outputId": "bb0ede4a-d602-4c3d-df89-f0a798c99eae"
      },
      "outputs": [
        {
          "output_type": "execute_result",
          "data": {
            "text/plain": [
              "<matplotlib.axes._subplots.AxesSubplot at 0x7f31d4163df0>"
            ]
          },
          "metadata": {},
          "execution_count": 86
        },
        {
          "output_type": "display_data",
          "data": {
            "text/plain": [
              "<Figure size 432x288 with 2 Axes>"
            ],
            "image/png": "[encoded data removed]"
          },
          "metadata": {
            "needs_background": "light"
          }
        }
      ],
      "source": [
        "y_pred = final_model.predict(X_test.astype('float32'))\n",
        "\n",
        "cm = confusion_matrix(y_test, y_pred)\n",
        "sns.heatmap(cm, cmap = 'Blues', annot=True)"
      ]
    },
    {
      "cell_type": "code",
      "source": [
        "print(classification_report(y_test_1, y_pred))"
      ],
      "metadata": {
        "colab": {
          "base_uri": "https://localhost:8080/"
        },
        "id": "lgCqlVy4uDiC",
        "outputId": "d3b8a952-4b3f-4142-abcc-c8ed5cdff8e3"
      },
      "execution_count": null,
      "outputs": [
        {
          "output_type": "stream",
          "name": "stdout",
          "text": [
            "              precision    recall  f1-score   support\n",
            "\n",
            "           0       0.47      0.27      0.34       592\n",
            "           1       0.51      0.72      0.59       620\n",
            "\n",
            "    accuracy                           0.50      1212\n",
            "   macro avg       0.49      0.49      0.47      1212\n",
            "weighted avg       0.49      0.50      0.47      1212\n",
            "\n"
          ]
        }
      ]
    },
    {
      "cell_type": "code",
      "execution_count": null,
      "metadata": {
        "id": "G6R4bZgTxVUE",
        "colab": {
          "base_uri": "https://localhost:8080/",
          "height": 282
        },
        "outputId": "a969562c-6f16-4d05-f482-834f95adc232"
      },
      "outputs": [
        {
          "output_type": "execute_result",
          "data": {
            "text/plain": [
              "<matplotlib.axes._subplots.AxesSubplot at 0x7f318686b9a0>"
            ]
          },
          "metadata": {},
          "execution_count": 88
        },
        {
          "output_type": "display_data",
          "data": {
            "text/plain": [
              "<Figure size 432x288 with 2 Axes>"
            ],
            "image/png": "[encoded data removed]"
          },
          "metadata": {
            "needs_background": "light"
          }
        }
      ],
      "source": [
        "y_pred = (final_model.predict_proba(X_test.astype('float32'))[:,1] >= 0.51).astype(bool)\n",
        "cm = confusion_matrix(y_test, y_pred)\n",
        "sns.heatmap(cm, cmap = 'Blues', annot=True)"
      ]
    },
    {
      "cell_type": "code",
      "source": [
        "print(classification_report(y_test_1, y_pred))"
      ],
      "metadata": {
        "colab": {
          "base_uri": "https://localhost:8080/"
        },
        "id": "bACa9fSsuEMU",
        "outputId": "54534659-3b2d-449d-94e5-d81b717e7b0c"
      },
      "execution_count": null,
      "outputs": [
        {
          "output_type": "stream",
          "name": "stdout",
          "text": [
            "              precision    recall  f1-score   support\n",
            "\n",
            "           0       0.48      0.29      0.36       592\n",
            "           1       0.51      0.70      0.59       620\n",
            "\n",
            "    accuracy                           0.50      1212\n",
            "   macro avg       0.50      0.50      0.48      1212\n",
            "weighted avg       0.50      0.50      0.48      1212\n",
            "\n"
          ]
        }
      ]
    },
    {
      "cell_type": "markdown",
      "metadata": {
        "id": "maXPNgOvMFEB"
      },
      "source": [
        "# 2.4 Model LSTM - Division Aleatoria - Balanceo de clases RandomUnderSampler (y_train_1)\n"
      ]
    },
    {
      "cell_type": "code",
      "execution_count": 29,
      "metadata": {
        "colab": {
          "base_uri": "https://localhost:8080/"
        },
        "id": "Aksue6SQMFEC",
        "outputId": "40626897-3691-44c2-ae22-a4c045ef4211"
      },
      "outputs": [
        {
          "output_type": "stream",
          "name": "stdout",
          "text": [
            "Before UnderSampling, counts of label '1': 2419\n",
            "Before UnderSampling, counts of label '0': 2427 \n",
            "\n",
            "After UnderSampling, the shape of train_X: (4838, 29)\n",
            "After UnderSampling, the shape of train_y: (4838,) \n",
            "\n",
            "After UnderSampling, counts of label '1': 2419\n",
            "After UnderSampling, counts of label '0': 2419\n"
          ]
        }
      ],
      "source": [
        "from imblearn.under_sampling import RandomUnderSampler\n",
        "\n",
        "X_rus , y_rus = RandomUnderSampler().fit_resample(df_train_scaled_1, y_train_1)\n",
        "\n",
        "print(\"Before UnderSampling, counts of label '1': {}\".format(sum(y_train_1 == 1)))\n",
        "print(\"Before UnderSampling, counts of label '0': {} \\n\".format(sum(y_train_1 == 0)))\n",
        "\n",
        "print('After UnderSampling, the shape of train_X: {}'.format(X_rus.shape))\n",
        "print('After UnderSampling, the shape of train_y: {} \\n'.format(y_rus.shape))\n",
        "  \n",
        "print(\"After UnderSampling, counts of label '1': {}\".format(sum(y_rus == 1)))\n",
        "print(\"After UnderSampling, counts of label '0': {}\".format(sum(y_rus == 0)))"
      ]
    },
    {
      "cell_type": "code",
      "execution_count": 30,
      "metadata": {
        "colab": {
          "base_uri": "https://localhost:8080/",
          "height": 295
        },
        "id": "NbsNb71dMFEC",
        "outputId": "20f87a7f-fd71-49f1-e120-098d792c3e95"
      },
      "outputs": [
        {
          "output_type": "execute_result",
          "data": {
            "text/plain": [
              "<matplotlib.axes._subplots.AxesSubplot at 0x7f1c12974190>"
            ]
          },
          "metadata": {},
          "execution_count": 30
        },
        {
          "output_type": "display_data",
          "data": {
            "text/plain": [
              "<Figure size 432x288 with 1 Axes>"
            ],
            "image/png": "[encoded data removed]"
          },
          "metadata": {
            "needs_background": "light"
          }
        }
      ],
      "source": [
        "pd.Series(y_rus).value_counts().plot(kind='bar', title='Class distribution after appying SMOTE')"
      ]
    },
    {
      "cell_type": "code",
      "execution_count": 31,
      "metadata": {
        "colab": {
          "base_uri": "https://localhost:8080/"
        },
        "id": "BjSgRN3NMFED",
        "outputId": "0eebf2b4-28ed-44a4-f587-7880fabf3dfa"
      },
      "outputs": [
        {
          "output_type": "execute_result",
          "data": {
            "text/plain": [
              "((4838, 29, 1), (4838,))"
            ]
          },
          "metadata": {},
          "execution_count": 31
        }
      ],
      "source": [
        "#Escalamos los datos de smote para que tengan la dimension correcta para el modelo\n",
        "X_rus = X_rus.reshape(X_rus.shape[0],X_rus.shape[1],1)\n",
        "X_rus.shape, y_rus.shape"
      ]
    },
    {
      "cell_type": "code",
      "execution_count": 32,
      "metadata": {
        "id": "vfLhcqntMFED"
      },
      "outputs": [],
      "source": [
        "X_rus_float = X_rus.astype(np.float32)"
      ]
    },
    {
      "cell_type": "code",
      "execution_count": 33,
      "metadata": {
        "id": "-FBbYSPDMFED"
      },
      "outputs": [],
      "source": [
        "y_rus_int = y_rus.astype(np.int32)"
      ]
    },
    {
      "cell_type": "code",
      "execution_count": 36,
      "metadata": {
        "colab": {
          "base_uri": "https://localhost:8080/"
        },
        "id": "mbBm_VTJMFED",
        "outputId": "da8e5045-c367-4ed2-cbd2-00131d88750e"
      },
      "outputs": [
        {
          "output_type": "stream",
          "name": "stdout",
          "text": [
            "Epoch 1/20\n",
            "146/152 [===========================>..] - ETA: 0s - loss: 0.6689 - accuracy: 0.5940"
          ]
        },
        {
          "output_type": "stream",
          "name": "stderr",
          "text": [
            "WARNING:absl:Found untraced functions such as lstm_cell_layer_call_fn, lstm_cell_layer_call_and_return_conditional_losses while saving (showing 2 of 2). These functions will not be directly callable after loading.\n"
          ]
        },
        {
          "output_type": "stream",
          "name": "stdout",
          "text": [
            "\b\b\b\b\b\b\b\b\b\b\b\b\b\b\b\b\b\b\b\b\b\b\b\b\b\b\b\b\b\b\b\b\b\b\b\b\b\b\b\b\b\b\b\b\b\b\b\b\b\b\b\b\b\b\b\b\b\b\b\b\b\b\b\b\b\b\b\b\b\b\b\b\b\b\b\b\b\b\b\b\b\b\b\b\r152/152 [==============================] - 12s 35ms/step - loss: 0.6682 - accuracy: 0.5945 - val_loss: 0.6391 - val_accuracy: 0.6411\n",
            "Epoch 2/20\n",
            "152/152 [==============================] - 1s 6ms/step - loss: 0.6427 - accuracy: 0.6406 - val_loss: 0.6409 - val_accuracy: 0.6436\n",
            "Epoch 3/20\n",
            "152/152 [==============================] - ETA: 0s - loss: 0.6385 - accuracy: 0.6432"
          ]
        },
        {
          "output_type": "stream",
          "name": "stderr",
          "text": [
            "WARNING:absl:Found untraced functions such as lstm_cell_layer_call_fn, lstm_cell_layer_call_and_return_conditional_losses while saving (showing 2 of 2). These functions will not be directly callable after loading.\n"
          ]
        },
        {
          "output_type": "stream",
          "name": "stdout",
          "text": [
            "\b\b\b\b\b\b\b\b\b\b\b\b\b\b\b\b\b\b\b\b\b\b\b\b\b\b\b\b\b\b\b\b\b\b\b\b\b\b\b\b\b\b\b\b\b\b\b\b\b\b\b\b\b\b\b\b\b\b\b\b\b\b\b\b\b\b\b\b\b\b\b\b\b\b\b\b\b\b\b\b\b\b\b\b\r152/152 [==============================] - 5s 33ms/step - loss: 0.6385 - accuracy: 0.6432 - val_loss: 0.6364 - val_accuracy: 0.6419\n",
            "Epoch 4/20\n",
            "146/152 [===========================>..] - ETA: 0s - loss: 0.6325 - accuracy: 0.6449"
          ]
        },
        {
          "output_type": "stream",
          "name": "stderr",
          "text": [
            "WARNING:absl:Found untraced functions such as lstm_cell_layer_call_fn, lstm_cell_layer_call_and_return_conditional_losses while saving (showing 2 of 2). These functions will not be directly callable after loading.\n"
          ]
        },
        {
          "output_type": "stream",
          "name": "stdout",
          "text": [
            "\b\b\b\b\b\b\b\b\b\b\b\b\b\b\b\b\b\b\b\b\b\b\b\b\b\b\b\b\b\b\b\b\b\b\b\b\b\b\b\b\b\b\b\b\b\b\b\b\b\b\b\b\b\b\b\b\b\b\b\b\b\b\b\b\b\b\b\b\b\b\b\b\b\b\b\b\b\b\b\b\b\b\b\b\r152/152 [==============================] - 5s 31ms/step - loss: 0.6328 - accuracy: 0.6443 - val_loss: 0.6292 - val_accuracy: 0.6353\n",
            "Epoch 5/20\n",
            "146/152 [===========================>..] - ETA: 0s - loss: 0.6311 - accuracy: 0.6426"
          ]
        },
        {
          "output_type": "stream",
          "name": "stderr",
          "text": [
            "WARNING:absl:Found untraced functions such as lstm_cell_layer_call_fn, lstm_cell_layer_call_and_return_conditional_losses while saving (showing 2 of 2). These functions will not be directly callable after loading.\n"
          ]
        },
        {
          "output_type": "stream",
          "name": "stdout",
          "text": [
            "\b\b\b\b\b\b\b\b\b\b\b\b\b\b\b\b\b\b\b\b\b\b\b\b\b\b\b\b\b\b\b\b\b\b\b\b\b\b\b\b\b\b\b\b\b\b\b\b\b\b\b\b\b\b\b\b\b\b\b\b\b\b\b\b\b\b\b\b\b\b\b\b\b\b\b\b\b\b\b\b\b\b\b\b\r152/152 [==============================] - 5s 33ms/step - loss: 0.6298 - accuracy: 0.6434 - val_loss: 0.6252 - val_accuracy: 0.6568\n",
            "Epoch 6/20\n",
            "152/152 [==============================] - 1s 6ms/step - loss: 0.6307 - accuracy: 0.6468 - val_loss: 0.6254 - val_accuracy: 0.6592\n",
            "Epoch 7/20\n",
            "152/152 [==============================] - 1s 5ms/step - loss: 0.6264 - accuracy: 0.6538 - val_loss: 0.6303 - val_accuracy: 0.6328\n",
            "Epoch 8/20\n",
            "152/152 [==============================] - 1s 6ms/step - loss: 0.6290 - accuracy: 0.6488 - val_loss: 0.6325 - val_accuracy: 0.6188\n",
            "Epoch 9/20\n",
            "152/152 [==============================] - ETA: 0s - loss: 0.6319 - accuracy: 0.6461"
          ]
        },
        {
          "output_type": "stream",
          "name": "stderr",
          "text": [
            "WARNING:absl:Found untraced functions such as lstm_cell_layer_call_fn, lstm_cell_layer_call_and_return_conditional_losses while saving (showing 2 of 2). These functions will not be directly callable after loading.\n"
          ]
        },
        {
          "output_type": "stream",
          "name": "stdout",
          "text": [
            "\b\b\b\b\b\b\b\b\b\b\b\b\b\b\b\b\b\b\b\b\b\b\b\b\b\b\b\b\b\b\b\b\b\b\b\b\b\b\b\b\b\b\b\b\b\b\b\b\b\b\b\b\b\b\b\b\b\b\b\b\b\b\b\b\b\b\b\b\b\b\b\b\b\b\b\b\b\b\b\b\b\b\b\b\r152/152 [==============================] - 5s 30ms/step - loss: 0.6319 - accuracy: 0.6461 - val_loss: 0.6222 - val_accuracy: 0.6741\n",
            "Epoch 10/20\n",
            "152/152 [==============================] - 1s 6ms/step - loss: 0.6268 - accuracy: 0.6474 - val_loss: 0.6241 - val_accuracy: 0.6518\n",
            "Epoch 11/20\n",
            "152/152 [==============================] - 1s 5ms/step - loss: 0.6234 - accuracy: 0.6565 - val_loss: 0.6231 - val_accuracy: 0.6658\n",
            "Epoch 12/20\n",
            "152/152 [==============================] - 1s 5ms/step - loss: 0.6236 - accuracy: 0.6581 - val_loss: 0.6225 - val_accuracy: 0.6518\n",
            "Epoch 13/20\n",
            "152/152 [==============================] - 1s 5ms/step - loss: 0.6221 - accuracy: 0.6577 - val_loss: 0.6236 - val_accuracy: 0.6559\n",
            "Epoch 14/20\n",
            "152/152 [==============================] - 1s 5ms/step - loss: 0.6182 - accuracy: 0.6561 - val_loss: 0.6301 - val_accuracy: 0.6650\n",
            "Epoch 15/20\n",
            "152/152 [==============================] - 1s 5ms/step - loss: 0.6188 - accuracy: 0.6612 - val_loss: 0.6576 - val_accuracy: 0.6609\n",
            "Epoch 16/20\n",
            "144/152 [===========================>..] - ETA: 0s - loss: 0.6229 - accuracy: 0.6556"
          ]
        },
        {
          "output_type": "stream",
          "name": "stderr",
          "text": [
            "WARNING:absl:Found untraced functions such as lstm_cell_layer_call_fn, lstm_cell_layer_call_and_return_conditional_losses while saving (showing 2 of 2). These functions will not be directly callable after loading.\n"
          ]
        },
        {
          "output_type": "stream",
          "name": "stdout",
          "text": [
            "\b\b\b\b\b\b\b\b\b\b\b\b\b\b\b\b\b\b\b\b\b\b\b\b\b\b\b\b\b\b\b\b\b\b\b\b\b\b\b\b\b\b\b\b\b\b\b\b\b\b\b\b\b\b\b\b\b\b\b\b\b\b\b\b\b\b\b\b\b\b\b\b\b\b\b\b\b\b\b\b\b\b\b\b\r152/152 [==============================] - 5s 33ms/step - loss: 0.6231 - accuracy: 0.6569 - val_loss: 0.6220 - val_accuracy: 0.6320\n",
            "Epoch 17/20\n",
            "149/152 [============================>.] - ETA: 0s - loss: 0.6211 - accuracy: 0.6590"
          ]
        },
        {
          "output_type": "stream",
          "name": "stderr",
          "text": [
            "WARNING:absl:Found untraced functions such as lstm_cell_layer_call_fn, lstm_cell_layer_call_and_return_conditional_losses while saving (showing 2 of 2). These functions will not be directly callable after loading.\n"
          ]
        },
        {
          "output_type": "stream",
          "name": "stdout",
          "text": [
            "\b\b\b\b\b\b\b\b\b\b\b\b\b\b\b\b\b\b\b\b\b\b\b\b\b\b\b\b\b\b\b\b\b\b\b\b\b\b\b\b\b\b\b\b\b\b\b\b\b\b\b\b\b\b\b\b\b\b\b\b\b\b\b\b\b\b\b\b\b\b\b\b\b\b\b\b\b\b\b\b\b\b\b\b\r152/152 [==============================] - 5s 30ms/step - loss: 0.6204 - accuracy: 0.6596 - val_loss: 0.6183 - val_accuracy: 0.6708\n",
            "Epoch 18/20\n",
            "152/152 [==============================] - 1s 6ms/step - loss: 0.6219 - accuracy: 0.6637 - val_loss: 0.6225 - val_accuracy: 0.6650\n",
            "Epoch 19/20\n",
            "152/152 [==============================] - 1s 5ms/step - loss: 0.6178 - accuracy: 0.6594 - val_loss: 0.6217 - val_accuracy: 0.6700\n",
            "Epoch 20/20\n",
            "152/152 [==============================] - 1s 5ms/step - loss: 0.6216 - accuracy: 0.6621 - val_loss: 0.6199 - val_accuracy: 0.6700\n"
          ]
        },
        {
          "output_type": "execute_result",
          "data": {
            "text/plain": [
              "<keras.callbacks.History at 0x7f1c12160820>"
            ]
          },
          "metadata": {},
          "execution_count": 36
        }
      ],
      "source": [
        "#Entrenamos el modelo\n",
        "cp = ModelCheckpoint('model/', save_best_only=True)\n",
        "earlyStop=EarlyStopping(monitor=\"val_loss\",verbose=2, patience=20)\n",
        "\n",
        "model_shuffle_rus = modelLSTM(200, 'sigmoid', 0.2,'adam')\n",
        "\n",
        "model_shuffle_rus.fit(X_rus_float, y_rus_int,validation_data=(X_test_1, y_test_1),epochs=20,callbacks=[cp, earlyStop])"
      ]
    },
    {
      "cell_type": "code",
      "execution_count": 37,
      "metadata": {
        "colab": {
          "base_uri": "https://localhost:8080/"
        },
        "id": "jrQ3oOicMFED",
        "outputId": "8a57bd61-9a68-4be5-9167-d3702f7ffd46"
      },
      "outputs": [
        {
          "output_type": "stream",
          "name": "stdout",
          "text": [
            "38/38 - 0s - loss: 0.6199 - accuracy: 0.6700 - 113ms/epoch - 3ms/step\n",
            "accuracy: 67.00%\n"
          ]
        }
      ],
      "source": [
        "scores = model_shuffle_rus.evaluate(X_test_1, y_test_1, verbose=2)\n",
        "print(\"%s: %.2f%%\" % (model_shuffle_rus.metrics_names[1], scores[1] * 100))\n"
      ]
    },
    {
      "cell_type": "code",
      "execution_count": 38,
      "metadata": {
        "colab": {
          "base_uri": "https://localhost:8080/"
        },
        "id": "avvQYAsyMFED",
        "outputId": "52fd2085-f49c-4175-9adb-21ce4e274485"
      },
      "outputs": [
        {
          "output_type": "stream",
          "name": "stdout",
          "text": [
            "38/38 [==============================] - 0s 2ms/step\n",
            "              precision    recall  f1-score   support\n",
            "\n",
            "           0       0.50      1.00      0.66       602\n",
            "           1       0.00      0.00      0.00       610\n",
            "\n",
            "    accuracy                           0.50      1212\n",
            "   macro avg       0.25      0.50      0.33      1212\n",
            "weighted avg       0.25      0.50      0.33      1212\n",
            "\n"
          ]
        },
        {
          "output_type": "stream",
          "name": "stderr",
          "text": [
            "/usr/local/lib/python3.8/dist-packages/sklearn/metrics/_classification.py:1318: UndefinedMetricWarning: Precision and F-score are ill-defined and being set to 0.0 in labels with no predicted samples. Use `zero_division` parameter to control this behavior.\n",
            "  _warn_prf(average, modifier, msg_start, len(result))\n",
            "/usr/local/lib/python3.8/dist-packages/sklearn/metrics/_classification.py:1318: UndefinedMetricWarning: Precision and F-score are ill-defined and being set to 0.0 in labels with no predicted samples. Use `zero_division` parameter to control this behavior.\n",
            "  _warn_prf(average, modifier, msg_start, len(result))\n",
            "/usr/local/lib/python3.8/dist-packages/sklearn/metrics/_classification.py:1318: UndefinedMetricWarning: Precision and F-score are ill-defined and being set to 0.0 in labels with no predicted samples. Use `zero_division` parameter to control this behavior.\n",
            "  _warn_prf(average, modifier, msg_start, len(result))\n"
          ]
        }
      ],
      "source": [
        "# print classification report\n",
        "y_pred_model_bal = model_shuffle_rus.predict(X_test_1)\n",
        "\n",
        "y_pred_model_bal_1 = np.argmax(y_pred_model_bal, axis=1)\n",
        "print(classification_report(y_test_1, y_pred_model_bal_1))"
      ]
    },
    {
      "cell_type": "code",
      "execution_count": 39,
      "metadata": {
        "colab": {
          "base_uri": "https://localhost:8080/",
          "height": 318
        },
        "id": "xw87BKHBMFED",
        "outputId": "0dd893fd-849f-4a99-9893-450f36ccaa05"
      },
      "outputs": [
        {
          "output_type": "stream",
          "name": "stdout",
          "text": [
            "[[602   0]\n",
            " [610   0]]\n"
          ]
        },
        {
          "output_type": "execute_result",
          "data": {
            "text/plain": [
              "<matplotlib.axes._subplots.AxesSubplot at 0x7f1c0dd0ce50>"
            ]
          },
          "metadata": {},
          "execution_count": 39
        },
        {
          "output_type": "display_data",
          "data": {
            "text/plain": [
              "<Figure size 432x288 with 2 Axes>"
            ],
            "image/png": "[encoded data removed]"
          },
          "metadata": {
            "needs_background": "light"
          }
        }
      ],
      "source": [
        "#Get the confusion matrix\n",
        "cf_matrix = confusion_matrix(y_test_1, y_pred_model_bal_1)\n",
        "print(cf_matrix)\n",
        "\n",
        "sns.heatmap(cf_matrix, annot=True,  cmap='Blues')"
      ]
    },
    {
      "cell_type": "markdown",
      "metadata": {
        "id": "rP3xp6icyGPk"
      },
      "source": [
        "# GridSearch - Modelo LSTM con division manual (X_rus, y_rus)"
      ]
    },
    {
      "cell_type": "code",
      "execution_count": 40,
      "metadata": {
        "colab": {
          "base_uri": "https://localhost:8080/"
        },
        "id": "62KEQWJgyGPl",
        "outputId": "3a6aa33d-68e3-4e36-aea0-c35c20620f08"
      },
      "outputs": [
        {
          "output_type": "stream",
          "name": "stdout",
          "text": [
            "Epoch 1/20\n",
            "Epoch 2/20\n",
            "Epoch 3/20\n",
            "Epoch 4/20\n",
            "Epoch 5/20\n",
            "Epoch 6/20\n",
            "Epoch 7/20\n",
            "Epoch 8/20\n",
            "Epoch 9/20\n",
            "Epoch 10/20\n",
            "Epoch 11/20\n",
            "Epoch 12/20\n",
            "Epoch 13/20\n",
            "Epoch 14/20\n",
            "Epoch 15/20\n",
            "Epoch 16/20\n",
            "Epoch 17/20\n",
            "Epoch 18/20\n",
            "Epoch 19/20\n",
            "Epoch 20/20\n",
            "Best: 0.659571 using {'batch_size': 32, 'class_weight': {0: 1, 1: 1}, 'epochs': 20, 'optimizer': 'adam'}\n",
            "0.646131 (0.017800) with: {'batch_size': 16, 'class_weight': {0: 1, 1: 1}, 'epochs': 20, 'optimizer': 'adam'}\n",
            "0.546300 (0.026491) with: {'batch_size': 16, 'class_weight': {0: 1, 1: 5}, 'epochs': 20, 'optimizer': 'adam'}\n",
            "0.500000 (0.000327) with: {'batch_size': 16, 'class_weight': {0: 1, 1: 10}, 'epochs': 20, 'optimizer': 'adam'}\n",
            "0.659571 (0.016043) with: {'batch_size': 32, 'class_weight': {0: 1, 1: 1}, 'epochs': 20, 'optimizer': 'adam'}\n",
            "0.512405 (0.016554) with: {'batch_size': 32, 'class_weight': {0: 1, 1: 5}, 'epochs': 20, 'optimizer': 'adam'}\n",
            "0.500000 (0.000327) with: {'batch_size': 32, 'class_weight': {0: 1, 1: 10}, 'epochs': 20, 'optimizer': 'adam'}\n",
            "0.639729 (0.027083) with: {'batch_size': 64, 'class_weight': {0: 1, 1: 1}, 'epochs': 20, 'optimizer': 'adam'}\n",
            "0.527485 (0.024655) with: {'batch_size': 64, 'class_weight': {0: 1, 1: 5}, 'epochs': 20, 'optimizer': 'adam'}\n",
            "0.500000 (0.000327) with: {'batch_size': 64, 'class_weight': {0: 1, 1: 10}, 'epochs': 20, 'optimizer': 'adam'}\n"
          ]
        }
      ],
      "source": [
        "# create model\n",
        "model = KerasClassifier(model=modelLSTM, verbose=3, loss=\"binary_crossentropy\", epochs=20, batch_size=32)\n",
        "\n",
        "# define the grid search parameters\n",
        "batch_size = [16, 32, 64]\n",
        "epochs = [20]\n",
        "optimizer = ['adam']\n",
        "class_weight = [{0: 1, 1: 1}, {0: 1, 1: 5}, {0: 1, 1: 10}]\n",
        "\n",
        "\n",
        "param_grid = dict(batch_size=batch_size,\n",
        "                  epochs=epochs,\n",
        "                  optimizer=optimizer,\n",
        "                  class_weight= class_weight\n",
        "                  )\n",
        "#Grid\n",
        "grid = GridSearchCV(estimator=model, \n",
        "                    param_grid=param_grid, \n",
        "                    n_jobs=-1, \n",
        "                    cv=5)\n",
        "\n",
        "grid_result = grid.fit(X_rus_float, y_rus_int)\n",
        "\n",
        "# summarize results\n",
        "print(\"Best: %f using %s\" % (grid_result.best_score_, grid_result.best_params_))\n",
        "means = grid_result.cv_results_['mean_test_score']\n",
        "stds = grid_result.cv_results_['std_test_score']\n",
        "params = grid_result.cv_results_['params']\n",
        "for mean, stdev, param in zip(means, stds, params):\n",
        "  print(\"%f (%f) with: %r\" % (mean, stdev, param))"
      ]
    },
    {
      "cell_type": "code",
      "execution_count": 41,
      "metadata": {
        "colab": {
          "base_uri": "https://localhost:8080/"
        },
        "id": "vBjb0_PyyGPn",
        "outputId": "7cef6a92-5979-4c80-90ef-a69dd8ffae30"
      },
      "outputs": [
        {
          "output_type": "execute_result",
          "data": {
            "text/plain": [
              "KerasClassifier(\n",
              "\tmodel=<function modelLSTM at 0x7f1c123bcee0>\n",
              "\tbuild_fn=None\n",
              "\twarm_start=False\n",
              "\trandom_state=None\n",
              "\toptimizer=adam\n",
              "\tloss=binary_crossentropy\n",
              "\tmetrics=None\n",
              "\tbatch_size=32\n",
              "\tvalidation_batch_size=None\n",
              "\tverbose=3\n",
              "\tcallbacks=None\n",
              "\tvalidation_split=0.0\n",
              "\tshuffle=True\n",
              "\trun_eagerly=False\n",
              "\tepochs=20\n",
              "\tclass_weight={0: 1, 1: 1}\n",
              ")"
            ]
          },
          "metadata": {},
          "execution_count": 41
        }
      ],
      "source": [
        "final_model = grid_result.best_estimator_\n",
        "final_model"
      ]
    },
    {
      "cell_type": "code",
      "execution_count": 42,
      "metadata": {
        "id": "6bQktg_hfmgZ"
      },
      "outputs": [],
      "source": [
        "y_pred = final_model.predict(X_test_1.astype(np.float32))"
      ]
    },
    {
      "cell_type": "code",
      "source": [
        "print(classification_report(y_test_1, y_pred))"
      ],
      "metadata": {
        "colab": {
          "base_uri": "https://localhost:8080/"
        },
        "id": "CIlsiwsZuMyf",
        "outputId": "1a41e2ac-3e93-447d-9608-7ed424d1352c"
      },
      "execution_count": 43,
      "outputs": [
        {
          "output_type": "stream",
          "name": "stdout",
          "text": [
            "              precision    recall  f1-score   support\n",
            "\n",
            "           0       0.64      0.56      0.60       602\n",
            "           1       0.61      0.69      0.65       610\n",
            "\n",
            "    accuracy                           0.62      1212\n",
            "   macro avg       0.62      0.62      0.62      1212\n",
            "weighted avg       0.62      0.62      0.62      1212\n",
            "\n"
          ]
        }
      ]
    },
    {
      "cell_type": "code",
      "execution_count": 44,
      "metadata": {
        "colab": {
          "base_uri": "https://localhost:8080/",
          "height": 282
        },
        "id": "WH4nEeTRyGPo",
        "outputId": "86db9cd3-ee34-4934-80ef-4ce64fa6043f"
      },
      "outputs": [
        {
          "output_type": "execute_result",
          "data": {
            "text/plain": [
              "<matplotlib.axes._subplots.AxesSubplot at 0x7f1bf8bf4070>"
            ]
          },
          "metadata": {},
          "execution_count": 44
        },
        {
          "output_type": "display_data",
          "data": {
            "text/plain": [
              "<Figure size 432x288 with 2 Axes>"
            ],
            "image/png": "[encoded data removed]"
          },
          "metadata": {
            "needs_background": "light"
          }
        }
      ],
      "source": [
        "cm = confusion_matrix(y_test_1, y_pred)\n",
        "sns.heatmap(cm, cmap = 'Blues', annot=True)"
      ]
    },
    {
      "cell_type": "code",
      "execution_count": 45,
      "metadata": {
        "colab": {
          "base_uri": "https://localhost:8080/",
          "height": 282
        },
        "id": "V2-MGquphz2a",
        "outputId": "725a5a45-0a62-40a5-f5fb-24ee672eccd4"
      },
      "outputs": [
        {
          "output_type": "execute_result",
          "data": {
            "text/plain": [
              "<matplotlib.axes._subplots.AxesSubplot at 0x7f1c0d9b9df0>"
            ]
          },
          "metadata": {},
          "execution_count": 45
        },
        {
          "output_type": "display_data",
          "data": {
            "text/plain": [
              "<Figure size 432x288 with 2 Axes>"
            ],
            "image/png": "[encoded data removed]"
          },
          "metadata": {
            "needs_background": "light"
          }
        }
      ],
      "source": [
        "sns.heatmap(cm/np.sum(cm), annot=True, fmt='.2%', cmap='Blues')"
      ]
    },
    {
      "cell_type": "code",
      "execution_count": 46,
      "metadata": {
        "colab": {
          "base_uri": "https://localhost:8080/",
          "height": 282
        },
        "id": "iDwQGlQXyGPp",
        "outputId": "a45d0bfa-a051-4288-d48e-0da123169c35"
      },
      "outputs": [
        {
          "output_type": "execute_result",
          "data": {
            "text/plain": [
              "<matplotlib.axes._subplots.AxesSubplot at 0x7f1c0beda610>"
            ]
          },
          "metadata": {},
          "execution_count": 46
        },
        {
          "output_type": "display_data",
          "data": {
            "text/plain": [
              "<Figure size 432x288 with 2 Axes>"
            ],
            "image/png": "[encoded data removed]"
          },
          "metadata": {
            "needs_background": "light"
          }
        }
      ],
      "source": [
        "y_pred = (final_model.predict_proba(X_test_1.astype(np.float32))[:,1] >= 0.4).astype(bool)\n",
        "cm = confusion_matrix(y_test_1, y_pred)\n",
        "sns.heatmap(cm, cmap = 'Blues', annot=True)"
      ]
    },
    {
      "cell_type": "code",
      "source": [
        "print(classification_report(y_test_1, y_pred))"
      ],
      "metadata": {
        "colab": {
          "base_uri": "https://localhost:8080/"
        },
        "id": "7L1C3sVtuLDa",
        "outputId": "25406ddf-6547-4bc1-8a1e-cddea20d1a2f"
      },
      "execution_count": 47,
      "outputs": [
        {
          "output_type": "stream",
          "name": "stdout",
          "text": [
            "              precision    recall  f1-score   support\n",
            "\n",
            "           0       0.75      0.23      0.35       602\n",
            "           1       0.55      0.92      0.69       610\n",
            "\n",
            "    accuracy                           0.58      1212\n",
            "   macro avg       0.65      0.58      0.52      1212\n",
            "weighted avg       0.65      0.58      0.52      1212\n",
            "\n"
          ]
        }
      ]
    },
    {
      "cell_type": "code",
      "execution_count": 48,
      "metadata": {
        "colab": {
          "base_uri": "https://localhost:8080/",
          "height": 282
        },
        "id": "_gN9Ps7khuSE",
        "outputId": "f47561b1-7a23-4367-c90e-cd326091faf8"
      },
      "outputs": [
        {
          "output_type": "execute_result",
          "data": {
            "text/plain": [
              "<matplotlib.axes._subplots.AxesSubplot at 0x7f1c0ceaa9a0>"
            ]
          },
          "metadata": {},
          "execution_count": 48
        },
        {
          "output_type": "display_data",
          "data": {
            "text/plain": [
              "<Figure size 432x288 with 2 Axes>"
            ],
            "image/png": "[encoded data removed]"
          },
          "metadata": {
            "needs_background": "light"
          }
        }
      ],
      "source": [
        "sns.heatmap(cm/np.sum(cm), annot=True, fmt='.2%', cmap='Blues')"
      ]
    },
    {
      "cell_type": "code",
      "execution_count": 49,
      "metadata": {
        "colab": {
          "base_uri": "https://localhost:8080/"
        },
        "id": "tgQvTXski7df",
        "outputId": "5c73baa0-abae-497c-93e4-971526beca3e"
      },
      "outputs": [
        {
          "output_type": "stream",
          "name": "stdout",
          "text": [
            "Conjunto de datos de validación\n",
            "  Exactitud:     0.57838\n",
            "  Precisión:     0.64837\n",
            "  Exhaustividad: 0.57608\n"
          ]
        }
      ],
      "source": [
        "print(f'Conjunto de datos de validación')\n",
        "print(f'  Exactitud:     { accuracy_score(y_test_1, y_pred) :0.5f}')\n",
        "print(f'  Precisión:     { precision_score(y_test_1, y_pred, average = \"macro\") :0.5f}')\n",
        "print(f'  Exhaustividad: { recall_score(y_test_1, y_pred, average = \"macro\") :0.5f}')\n"
      ]
    },
    {
      "cell_type": "code",
      "execution_count": 50,
      "metadata": {
        "colab": {
          "base_uri": "https://localhost:8080/"
        },
        "id": "QKydHpFpjABl",
        "outputId": "4426f90f-ce1a-4de9-9393-9f8ea977f82b"
      },
      "outputs": [
        {
          "output_type": "stream",
          "name": "stdout",
          "text": [
            "              precision    recall  f1-score   support\n",
            "\n",
            "           0       0.75      0.23      0.35       602\n",
            "           1       0.55      0.92      0.69       610\n",
            "\n",
            "    accuracy                           0.58      1212\n",
            "   macro avg       0.65      0.58      0.52      1212\n",
            "weighted avg       0.65      0.58      0.52      1212\n",
            "\n"
          ]
        }
      ],
      "source": [
        "print(classification_report(y_test_1, y_pred))"
      ]
    },
    {
      "cell_type": "markdown",
      "metadata": {
        "id": "4nEuQYqVajj0"
      },
      "source": [
        "#Variables importantes (Modelo Simple)\n",
        "\n",
        "---\n",
        "\n"
      ]
    },
    {
      "cell_type": "markdown",
      "metadata": {
        "id": "a_QvZYHHX2qG"
      },
      "source": [
        "#Seleccion de variables importantes (Modelo Simple)\n"
      ]
    },
    {
      "cell_type": "code",
      "execution_count": null,
      "metadata": {
        "colab": {
          "base_uri": "https://localhost:8080/"
        },
        "id": "7BpacTyUX2qH",
        "outputId": "d9b34230-aeca-40bd-8fb0-975b1b224018"
      },
      "outputs": [
        {
          "output_type": "execute_result",
          "data": {
            "text/plain": [
              "Index(['indicativo', 'prec', 'tmax', 'tmed', 'tmin', 'velmedia', 'racha',\n",
              "       'sol', 'presMax', 'presMin', 'rhum', 'altitud',\n",
              "       'porcentaje_pendiente_total', 'alto_riesgo', 'peligro', 'vulner',\n",
              "       'ocurrencia', 'municipio', 'cod_municipio', 'total_viajes_estacion',\n",
              "       'total_viajes_km_estacion', 'laborable', 'dayofyear', 'weekend', 'mes'],\n",
              "      dtype='object')"
            ]
          },
          "metadata": {},
          "execution_count": 196
        }
      ],
      "source": [
        "df_all.columns"
      ]
    },
    {
      "cell_type": "code",
      "execution_count": null,
      "metadata": {
        "colab": {
          "base_uri": "https://localhost:8080/",
          "height": 455
        },
        "id": "U2zCbRzGX2qH",
        "outputId": "f8d54771-7911-4577-e872-ae144418eee2"
      },
      "outputs": [
        {
          "output_type": "execute_result",
          "data": {
            "text/plain": [
              "            prec  tmax  velmedia  racha    sol  presMax  rhum   peligro  \\\n",
              "fecha                                                                     \n",
              "2020-12-12   0.0  13.7       5.3    9.1  457.0   1006.2  70.0    Exclos   \n",
              "2015-07-19   0.0  13.0       5.1    8.0  514.0   1001.8  78.0      Baix   \n",
              "2018-03-13   0.0   9.7       5.8    8.8  791.0    920.1  57.0   Moderat   \n",
              "2021-09-19   0.0  18.8       4.1    7.4  805.0    930.2  47.0  Molt Alt   \n",
              "2018-02-09   0.0  10.6       2.8    4.8  593.0    920.7  47.0  Molt Alt   \n",
              "...          ...   ...       ...    ...    ...      ...   ...       ...   \n",
              "2021-12-21   0.0  11.9       1.8    4.0  450.0   1020.4  90.0   Moderat   \n",
              "2021-12-23   0.0  14.0      14.0   17.8  459.0   1003.0  76.0  Molt Alt   \n",
              "2021-12-29   0.0  18.1       1.6    4.1  309.0   1009.8  63.0    Exclos   \n",
              "2021-12-29   0.0  18.4       2.7    6.9  347.0    962.9  50.0  Molt Alt   \n",
              "2021-12-30   0.0  18.7       2.2    3.5  448.0   1006.3  53.0  Molt Alt   \n",
              "\n",
              "            ocurrencia  total_viajes_estacion  dayofyear  mes  \n",
              "fecha                                                          \n",
              "2020-12-12           0               63537.48        347   12  \n",
              "2015-07-19           0                   0.00        200    7  \n",
              "2018-03-13           0                   0.00         72    3  \n",
              "2021-09-19           0                   0.00        262    9  \n",
              "2018-02-09           0                   0.00         40    2  \n",
              "...                ...                    ...        ...  ...  \n",
              "2021-12-21           1                   0.00        355   12  \n",
              "2021-12-23           1                   0.00        357   12  \n",
              "2021-12-29           1                   0.00        363   12  \n",
              "2021-12-29           1                   0.00        363   12  \n",
              "2021-12-30           1                   0.00        364   12  \n",
              "\n",
              "[6058 rows x 12 columns]"
            ],
            "text/html": [
              "\n",
              "  <div id=\"df-6250a427-a29d-4793-a476-f6836489babc\">\n",
              "    <div class=\"colab-df-container\">\n",
              "      <div>\n",
              "<style scoped>\n",
              "    .dataframe tbody tr th:only-of-type {\n",
              "        vertical-align: middle;\n",
              "    }\n",
              "\n",
              "    .dataframe tbody tr th {\n",
              "        vertical-align: top;\n",
              "    }\n",
              "\n",
              "    .dataframe thead th {\n",
              "        text-align: right;\n",
              "    }\n",
              "</style>\n",
              "<table border=\"1\" class=\"dataframe\">\n",
              "  <thead>\n",
              "    <tr style=\"text-align: right;\">\n",
              "      <th></th>\n",
              "      <th>prec</th>\n",
              "      <th>tmax</th>\n",
              "      <th>velmedia</th>\n",
              "      <th>racha</th>\n",
              "      <th>sol</th>\n",
              "      <th>presMax</th>\n",
              "      <th>rhum</th>\n",
              "      <th>peligro</th>\n",
              "      <th>ocurrencia</th>\n",
              "      <th>total_viajes_estacion</th>\n",
              "      <th>dayofyear</th>\n",
              "      <th>mes</th>\n",
              "    </tr>\n",
              "    <tr>\n",
              "      <th>fecha</th>\n",
              "      <th></th>\n",
              "      <th></th>\n",
              "      <th></th>\n",
              "      <th></th>\n",
              "      <th></th>\n",
              "      <th></th>\n",
              "      <th></th>\n",
              "      <th></th>\n",
              "      <th></th>\n",
              "      <th></th>\n",
              "      <th></th>\n",
              "      <th></th>\n",
              "    </tr>\n",
              "  </thead>\n",
              "  <tbody>\n",
              "    <tr>\n",
              "      <th>2020-12-12</th>\n",
              "      <td>0.0</td>\n",
              "      <td>13.7</td>\n",
              "      <td>5.3</td>\n",
              "      <td>9.1</td>\n",
              "      <td>457.0</td>\n",
              "      <td>1006.2</td>\n",
              "      <td>70.0</td>\n",
              "      <td>Exclos</td>\n",
              "      <td>0</td>\n",
              "      <td>63537.48</td>\n",
              "      <td>347</td>\n",
              "      <td>12</td>\n",
              "    </tr>\n",
              "    <tr>\n",
              "      <th>2015-07-19</th>\n",
              "      <td>0.0</td>\n",
              "      <td>13.0</td>\n",
              "      <td>5.1</td>\n",
              "      <td>8.0</td>\n",
              "      <td>514.0</td>\n",
              "      <td>1001.8</td>\n",
              "      <td>78.0</td>\n",
              "      <td>Baix</td>\n",
              "      <td>0</td>\n",
              "      <td>0.00</td>\n",
              "      <td>200</td>\n",
              "      <td>7</td>\n",
              "    </tr>\n",
              "    <tr>\n",
              "      <th>2018-03-13</th>\n",
              "      <td>0.0</td>\n",
              "      <td>9.7</td>\n",
              "      <td>5.8</td>\n",
              "      <td>8.8</td>\n",
              "      <td>791.0</td>\n",
              "      <td>920.1</td>\n",
              "      <td>57.0</td>\n",
              "      <td>Moderat</td>\n",
              "      <td>0</td>\n",
              "      <td>0.00</td>\n",
              "      <td>72</td>\n",
              "      <td>3</td>\n",
              "    </tr>\n",
              "    <tr>\n",
              "      <th>2021-09-19</th>\n",
              "      <td>0.0</td>\n",
              "      <td>18.8</td>\n",
              "      <td>4.1</td>\n",
              "      <td>7.4</td>\n",
              "      <td>805.0</td>\n",
              "      <td>930.2</td>\n",
              "      <td>47.0</td>\n",
              "      <td>Molt Alt</td>\n",
              "      <td>0</td>\n",
              "      <td>0.00</td>\n",
              "      <td>262</td>\n",
              "      <td>9</td>\n",
              "    </tr>\n",
              "    <tr>\n",
              "      <th>2018-02-09</th>\n",
              "      <td>0.0</td>\n",
              "      <td>10.6</td>\n",
              "      <td>2.8</td>\n",
              "      <td>4.8</td>\n",
              "      <td>593.0</td>\n",
              "      <td>920.7</td>\n",
              "      <td>47.0</td>\n",
              "      <td>Molt Alt</td>\n",
              "      <td>0</td>\n",
              "      <td>0.00</td>\n",
              "      <td>40</td>\n",
              "      <td>2</td>\n",
              "    </tr>\n",
              "    <tr>\n",
              "      <th>...</th>\n",
              "      <td>...</td>\n",
              "      <td>...</td>\n",
              "      <td>...</td>\n",
              "      <td>...</td>\n",
              "      <td>...</td>\n",
              "      <td>...</td>\n",
              "      <td>...</td>\n",
              "      <td>...</td>\n",
              "      <td>...</td>\n",
              "      <td>...</td>\n",
              "      <td>...</td>\n",
              "      <td>...</td>\n",
              "    </tr>\n",
              "    <tr>\n",
              "      <th>2021-12-21</th>\n",
              "      <td>0.0</td>\n",
              "      <td>11.9</td>\n",
              "      <td>1.8</td>\n",
              "      <td>4.0</td>\n",
              "      <td>450.0</td>\n",
              "      <td>1020.4</td>\n",
              "      <td>90.0</td>\n",
              "      <td>Moderat</td>\n",
              "      <td>1</td>\n",
              "      <td>0.00</td>\n",
              "      <td>355</td>\n",
              "      <td>12</td>\n",
              "    </tr>\n",
              "    <tr>\n",
              "      <th>2021-12-23</th>\n",
              "      <td>0.0</td>\n",
              "      <td>14.0</td>\n",
              "      <td>14.0</td>\n",
              "      <td>17.8</td>\n",
              "      <td>459.0</td>\n",
              "      <td>1003.0</td>\n",
              "      <td>76.0</td>\n",
              "      <td>Molt Alt</td>\n",
              "      <td>1</td>\n",
              "      <td>0.00</td>\n",
              "      <td>357</td>\n",
              "      <td>12</td>\n",
              "    </tr>\n",
              "    <tr>\n",
              "      <th>2021-12-29</th>\n",
              "      <td>0.0</td>\n",
              "      <td>18.1</td>\n",
              "      <td>1.6</td>\n",
              "      <td>4.1</td>\n",
              "      <td>309.0</td>\n",
              "      <td>1009.8</td>\n",
              "      <td>63.0</td>\n",
              "      <td>Exclos</td>\n",
              "      <td>1</td>\n",
              "      <td>0.00</td>\n",
              "      <td>363</td>\n",
              "      <td>12</td>\n",
              "    </tr>\n",
              "    <tr>\n",
              "      <th>2021-12-29</th>\n",
              "      <td>0.0</td>\n",
              "      <td>18.4</td>\n",
              "      <td>2.7</td>\n",
              "      <td>6.9</td>\n",
              "      <td>347.0</td>\n",
              "      <td>962.9</td>\n",
              "      <td>50.0</td>\n",
              "      <td>Molt Alt</td>\n",
              "      <td>1</td>\n",
              "      <td>0.00</td>\n",
              "      <td>363</td>\n",
              "      <td>12</td>\n",
              "    </tr>\n",
              "    <tr>\n",
              "      <th>2021-12-30</th>\n",
              "      <td>0.0</td>\n",
              "      <td>18.7</td>\n",
              "      <td>2.2</td>\n",
              "      <td>3.5</td>\n",
              "      <td>448.0</td>\n",
              "      <td>1006.3</td>\n",
              "      <td>53.0</td>\n",
              "      <td>Molt Alt</td>\n",
              "      <td>1</td>\n",
              "      <td>0.00</td>\n",
              "      <td>364</td>\n",
              "      <td>12</td>\n",
              "    </tr>\n",
              "  </tbody>\n",
              "</table>\n",
              "<p>6058 rows × 12 columns</p>\n",
              "</div>\n",
              "      <button class=\"colab-df-convert\" onclick=\"convertToInteractive('df-6250a427-a29d-4793-a476-f6836489babc')\"\n",
              "              title=\"Convert this dataframe to an interactive table.\"\n",
              "              style=\"display:none;\">\n",
              "        \n",
              "  <svg xmlns=\"http://www.w3.org/2000/svg\" height=\"24px\"viewBox=\"0 0 24 24\"\n",
              "       width=\"24px\">\n",
              "    <path d=\"M0 0h24v24H0V0z\" fill=\"none\"/>\n",
              "    <path d=\"M18.56 5.44l.94 2.06.94-2.06 2.06-.94-2.06-.94-.94-2.06-.94 2.06-2.06.94zm-11 1L8.5 8.5l.94-2.06 2.06-.94-2.06-.94L8.5 2.5l-.94 2.06-2.06.94zm10 10l.94 2.06.94-2.06 2.06-.94-2.06-.94-.94-2.06-.94 2.06-2.06.94z\"/><path d=\"M17.41 7.96l-1.37-1.37c-.4-.4-.92-.59-1.43-.59-.52 0-1.04.2-1.43.59L10.3 9.45l-7.72 7.72c-.78.78-.78 2.05 0 2.83L4 21.41c.39.39.9.59 1.41.59.51 0 1.02-.2 1.41-.59l7.78-7.78 2.81-2.81c.8-.78.8-2.07 0-2.86zM5.41 20L4 18.59l7.72-7.72 1.47 1.35L5.41 20z\"/>\n",
              "  </svg>\n",
              "      </button>\n",
              "      \n",
              "  <style>\n",
              "    .colab-df-container {\n",
              "      display:flex;\n",
              "      flex-wrap:wrap;\n",
              "      gap: 12px;\n",
              "    }\n",
              "\n",
              "    .colab-df-convert {\n",
              "      background-color: #E8F0FE;\n",
              "      border: none;\n",
              "      border-radius: 50%;\n",
              "      cursor: pointer;\n",
              "      display: none;\n",
              "      fill: #1967D2;\n",
              "      height: 32px;\n",
              "      padding: 0 0 0 0;\n",
              "      width: 32px;\n",
              "    }\n",
              "\n",
              "    .colab-df-convert:hover {\n",
              "      background-color: #E2EBFA;\n",
              "      box-shadow: 0px 1px 2px rgba(60, 64, 67, 0.3), 0px 1px 3px 1px rgba(60, 64, 67, 0.15);\n",
              "      fill: #174EA6;\n",
              "    }\n",
              "\n",
              "    [theme=dark] .colab-df-convert {\n",
              "      background-color: #3B4455;\n",
              "      fill: #D2E3FC;\n",
              "    }\n",
              "\n",
              "    [theme=dark] .colab-df-convert:hover {\n",
              "      background-color: #434B5C;\n",
              "      box-shadow: 0px 1px 3px 1px rgba(0, 0, 0, 0.15);\n",
              "      filter: drop-shadow(0px 1px 2px rgba(0, 0, 0, 0.3));\n",
              "      fill: #FFFFFF;\n",
              "    }\n",
              "  </style>\n",
              "\n",
              "      <script>\n",
              "        const buttonEl =\n",
              "          document.querySelector('#df-6250a427-a29d-4793-a476-f6836489babc button.colab-df-convert');\n",
              "        buttonEl.style.display =\n",
              "          google.colab.kernel.accessAllowed ? 'block' : 'none';\n",
              "\n",
              "        async function convertToInteractive(key) {\n",
              "          const element = document.querySelector('#df-6250a427-a29d-4793-a476-f6836489babc');\n",
              "          const dataTable =\n",
              "            await google.colab.kernel.invokeFunction('convertToInteractive',\n",
              "                                                     [key], {});\n",
              "          if (!dataTable) return;\n",
              "\n",
              "          const docLinkHtml = 'Like what you see? Visit the ' +\n",
              "            '<a target=\"_blank\" href=https://colab.research.google.com/notebooks/data_table.ipynb>data table notebook</a>'\n",
              "            + ' to learn more about interactive tables.';\n",
              "          element.innerHTML = '';\n",
              "          dataTable['output_type'] = 'display_data';\n",
              "          await google.colab.output.renderOutput(dataTable, element);\n",
              "          const docLink = document.createElement('div');\n",
              "          docLink.innerHTML = docLinkHtml;\n",
              "          element.appendChild(docLink);\n",
              "        }\n",
              "      </script>\n",
              "    </div>\n",
              "  </div>\n",
              "  "
            ]
          },
          "metadata": {},
          "execution_count": 197
        }
      ],
      "source": [
        "df_all_importances = df_all.drop([ 'indicativo', 'tmed', 'tmin', 'presMin', 'municipio', 'cod_municipio', 'porcentaje_pendiente_total','total_viajes_km_estacion','altitud', 'vulner', 'alto_riesgo', 'laborable', 'weekend'], axis=1)\n",
        "df_all_importances"
      ]
    },
    {
      "cell_type": "code",
      "execution_count": null,
      "metadata": {
        "colab": {
          "base_uri": "https://localhost:8080/",
          "height": 144
        },
        "id": "UnslsiS-X2qH",
        "outputId": "b8a93e37-9be3-4582-d305-460c85cf991b"
      },
      "outputs": [
        {
          "output_type": "execute_result",
          "data": {
            "text/plain": [
              "            prec  tmax  velmedia  racha   sol  presMax  rhum  peligro  \\\n",
              "ocurrencia                                                              \n",
              "0           3029  3029      3029   3029  3029     3029  3029     3029   \n",
              "1           3029  3029      3029   3029  3029     3029  3029     3029   \n",
              "\n",
              "            total_viajes_estacion  dayofyear   mes  \n",
              "ocurrencia                                          \n",
              "0                            3029       3029  3029  \n",
              "1                            3029       3029  3029  "
            ],
            "text/html": [
              "\n",
              "  <div id=\"df-d07ef27d-8cdd-4e6e-a975-0cb0057b6d62\">\n",
              "    <div class=\"colab-df-container\">\n",
              "      <div>\n",
              "<style scoped>\n",
              "    .dataframe tbody tr th:only-of-type {\n",
              "        vertical-align: middle;\n",
              "    }\n",
              "\n",
              "    .dataframe tbody tr th {\n",
              "        vertical-align: top;\n",
              "    }\n",
              "\n",
              "    .dataframe thead th {\n",
              "        text-align: right;\n",
              "    }\n",
              "</style>\n",
              "<table border=\"1\" class=\"dataframe\">\n",
              "  <thead>\n",
              "    <tr style=\"text-align: right;\">\n",
              "      <th></th>\n",
              "      <th>prec</th>\n",
              "      <th>tmax</th>\n",
              "      <th>velmedia</th>\n",
              "      <th>racha</th>\n",
              "      <th>sol</th>\n",
              "      <th>presMax</th>\n",
              "      <th>rhum</th>\n",
              "      <th>peligro</th>\n",
              "      <th>total_viajes_estacion</th>\n",
              "      <th>dayofyear</th>\n",
              "      <th>mes</th>\n",
              "    </tr>\n",
              "    <tr>\n",
              "      <th>ocurrencia</th>\n",
              "      <th></th>\n",
              "      <th></th>\n",
              "      <th></th>\n",
              "      <th></th>\n",
              "      <th></th>\n",
              "      <th></th>\n",
              "      <th></th>\n",
              "      <th></th>\n",
              "      <th></th>\n",
              "      <th></th>\n",
              "      <th></th>\n",
              "    </tr>\n",
              "  </thead>\n",
              "  <tbody>\n",
              "    <tr>\n",
              "      <th>0</th>\n",
              "      <td>3029</td>\n",
              "      <td>3029</td>\n",
              "      <td>3029</td>\n",
              "      <td>3029</td>\n",
              "      <td>3029</td>\n",
              "      <td>3029</td>\n",
              "      <td>3029</td>\n",
              "      <td>3029</td>\n",
              "      <td>3029</td>\n",
              "      <td>3029</td>\n",
              "      <td>3029</td>\n",
              "    </tr>\n",
              "    <tr>\n",
              "      <th>1</th>\n",
              "      <td>3029</td>\n",
              "      <td>3029</td>\n",
              "      <td>3029</td>\n",
              "      <td>3029</td>\n",
              "      <td>3029</td>\n",
              "      <td>3029</td>\n",
              "      <td>3029</td>\n",
              "      <td>3029</td>\n",
              "      <td>3029</td>\n",
              "      <td>3029</td>\n",
              "      <td>3029</td>\n",
              "    </tr>\n",
              "  </tbody>\n",
              "</table>\n",
              "</div>\n",
              "      <button class=\"colab-df-convert\" onclick=\"convertToInteractive('df-d07ef27d-8cdd-4e6e-a975-0cb0057b6d62')\"\n",
              "              title=\"Convert this dataframe to an interactive table.\"\n",
              "              style=\"display:none;\">\n",
              "        \n",
              "  <svg xmlns=\"http://www.w3.org/2000/svg\" height=\"24px\"viewBox=\"0 0 24 24\"\n",
              "       width=\"24px\">\n",
              "    <path d=\"M0 0h24v24H0V0z\" fill=\"none\"/>\n",
              "    <path d=\"M18.56 5.44l.94 2.06.94-2.06 2.06-.94-2.06-.94-.94-2.06-.94 2.06-2.06.94zm-11 1L8.5 8.5l.94-2.06 2.06-.94-2.06-.94L8.5 2.5l-.94 2.06-2.06.94zm10 10l.94 2.06.94-2.06 2.06-.94-2.06-.94-.94-2.06-.94 2.06-2.06.94z\"/><path d=\"M17.41 7.96l-1.37-1.37c-.4-.4-.92-.59-1.43-.59-.52 0-1.04.2-1.43.59L10.3 9.45l-7.72 7.72c-.78.78-.78 2.05 0 2.83L4 21.41c.39.39.9.59 1.41.59.51 0 1.02-.2 1.41-.59l7.78-7.78 2.81-2.81c.8-.78.8-2.07 0-2.86zM5.41 20L4 18.59l7.72-7.72 1.47 1.35L5.41 20z\"/>\n",
              "  </svg>\n",
              "      </button>\n",
              "      \n",
              "  <style>\n",
              "    .colab-df-container {\n",
              "      display:flex;\n",
              "      flex-wrap:wrap;\n",
              "      gap: 12px;\n",
              "    }\n",
              "\n",
              "    .colab-df-convert {\n",
              "      background-color: #E8F0FE;\n",
              "      border: none;\n",
              "      border-radius: 50%;\n",
              "      cursor: pointer;\n",
              "      display: none;\n",
              "      fill: #1967D2;\n",
              "      height: 32px;\n",
              "      padding: 0 0 0 0;\n",
              "      width: 32px;\n",
              "    }\n",
              "\n",
              "    .colab-df-convert:hover {\n",
              "      background-color: #E2EBFA;\n",
              "      box-shadow: 0px 1px 2px rgba(60, 64, 67, 0.3), 0px 1px 3px 1px rgba(60, 64, 67, 0.15);\n",
              "      fill: #174EA6;\n",
              "    }\n",
              "\n",
              "    [theme=dark] .colab-df-convert {\n",
              "      background-color: #3B4455;\n",
              "      fill: #D2E3FC;\n",
              "    }\n",
              "\n",
              "    [theme=dark] .colab-df-convert:hover {\n",
              "      background-color: #434B5C;\n",
              "      box-shadow: 0px 1px 3px 1px rgba(0, 0, 0, 0.15);\n",
              "      filter: drop-shadow(0px 1px 2px rgba(0, 0, 0, 0.3));\n",
              "      fill: #FFFFFF;\n",
              "    }\n",
              "  </style>\n",
              "\n",
              "      <script>\n",
              "        const buttonEl =\n",
              "          document.querySelector('#df-d07ef27d-8cdd-4e6e-a975-0cb0057b6d62 button.colab-df-convert');\n",
              "        buttonEl.style.display =\n",
              "          google.colab.kernel.accessAllowed ? 'block' : 'none';\n",
              "\n",
              "        async function convertToInteractive(key) {\n",
              "          const element = document.querySelector('#df-d07ef27d-8cdd-4e6e-a975-0cb0057b6d62');\n",
              "          const dataTable =\n",
              "            await google.colab.kernel.invokeFunction('convertToInteractive',\n",
              "                                                     [key], {});\n",
              "          if (!dataTable) return;\n",
              "\n",
              "          const docLinkHtml = 'Like what you see? Visit the ' +\n",
              "            '<a target=\"_blank\" href=https://colab.research.google.com/notebooks/data_table.ipynb>data table notebook</a>'\n",
              "            + ' to learn more about interactive tables.';\n",
              "          element.innerHTML = '';\n",
              "          dataTable['output_type'] = 'display_data';\n",
              "          await google.colab.output.renderOutput(dataTable, element);\n",
              "          const docLink = document.createElement('div');\n",
              "          docLink.innerHTML = docLinkHtml;\n",
              "          element.appendChild(docLink);\n",
              "        }\n",
              "      </script>\n",
              "    </div>\n",
              "  </div>\n",
              "  "
            ]
          },
          "metadata": {},
          "execution_count": 198
        }
      ],
      "source": [
        "df_all_importances.groupby(\"ocurrencia\").count()"
      ]
    },
    {
      "cell_type": "code",
      "execution_count": null,
      "metadata": {
        "colab": {
          "base_uri": "https://localhost:8080/"
        },
        "id": "F9WLxVWUX2qH",
        "outputId": "929e9f4a-9b95-4596-afa0-4f5856565ad4"
      },
      "outputs": [
        {
          "output_type": "execute_result",
          "data": {
            "text/plain": [
              "Index(['prec', 'tmax', 'velmedia', 'racha', 'sol', 'presMax', 'rhum',\n",
              "       'peligro', 'total_viajes_estacion', 'dayofyear', 'mes'],\n",
              "      dtype='object')"
            ]
          },
          "metadata": {},
          "execution_count": 199
        }
      ],
      "source": [
        "df_all_importances.groupby(\"ocurrencia\").count().columns"
      ]
    },
    {
      "cell_type": "code",
      "execution_count": null,
      "metadata": {
        "id": "KnIqpljkX2qH"
      },
      "outputs": [],
      "source": [
        "df_ocurrencia_0 = df_all_importances[df_all_importances[\"ocurrencia\"]==0].sample(3029)"
      ]
    },
    {
      "cell_type": "code",
      "execution_count": null,
      "metadata": {
        "id": "kN9DAijOX2qH"
      },
      "outputs": [],
      "source": [
        "df_ocurrencia_1 = df_all_importances[df_all_importances[\"ocurrencia\"]==1]"
      ]
    },
    {
      "cell_type": "code",
      "execution_count": null,
      "metadata": {
        "id": "RFAW0QeyX2qH"
      },
      "outputs": [],
      "source": [
        "df_all_importances =  pd.concat([df_ocurrencia_0, df_ocurrencia_1])"
      ]
    },
    {
      "cell_type": "code",
      "execution_count": null,
      "metadata": {
        "id": "IFi-pDwXX2qI"
      },
      "outputs": [],
      "source": [
        "X = df_all_importances.drop( ['ocurrencia'], axis=1)\n",
        "y = df_all_importances['ocurrencia']\n"
      ]
    },
    {
      "cell_type": "code",
      "execution_count": null,
      "metadata": {
        "id": "GLGy5ZbsX2qI"
      },
      "outputs": [],
      "source": [
        "X_train_2, X_test_2, y_train_2, y_test_2 = train_test_split(X, y, test_size=0.2)"
      ]
    },
    {
      "cell_type": "code",
      "execution_count": null,
      "metadata": {
        "colab": {
          "base_uri": "https://localhost:8080/"
        },
        "id": "db2Bs7DQX2qI",
        "outputId": "1d5a04bd-2164-4239-cee9-a3482e7f1de8"
      },
      "outputs": [
        {
          "output_type": "execute_result",
          "data": {
            "text/plain": [
              "((6058, 25), (4846, 11), (4846,), (1212, 11), (1212,))"
            ]
          },
          "metadata": {},
          "execution_count": 205
        }
      ],
      "source": [
        "df_all.shape,  X_train_2.shape, y_train_2.shape, X_test_2.shape, y_test_2.shape"
      ]
    },
    {
      "cell_type": "markdown",
      "source": [
        "##Normalizacion"
      ],
      "metadata": {
        "id": "tdaw-_QMpfNG"
      }
    },
    {
      "cell_type": "code",
      "execution_count": null,
      "metadata": {
        "colab": {
          "base_uri": "https://localhost:8080/"
        },
        "id": "hqRyFUYlX2qI",
        "outputId": "47e1d784-3f72-454d-8021-514dc99a1cac"
      },
      "outputs": [
        {
          "output_type": "execute_result",
          "data": {
            "text/plain": [
              "((4846, 7), (1212, 7))"
            ]
          },
          "metadata": {},
          "execution_count": 206
        }
      ],
      "source": [
        "# normalizacion de los datos numericos\n",
        "numericalCols_train = X_train_2[['prec'\t,'tmax',\t'velmedia',\t'racha',\t'sol'\t,'presMax',\t'rhum']]\n",
        "numericalCols_test = X_test_2[['prec'\t,'tmax',\t'velmedia',\t'racha',\t'sol'\t,'presMax',\t'rhum']]\n",
        "\n",
        "scaler = StandardScaler()\n",
        "scaler.fit(numericalCols_train)\n",
        "\n",
        "numericalCols_train_scaled = scaler.transform(numericalCols_train)\n",
        "numericalCols_test_scaled = scaler.transform(numericalCols_test)\n",
        "\n",
        "numericalCols_train_scaled.shape , numericalCols_test_scaled.shape"
      ]
    },
    {
      "cell_type": "code",
      "execution_count": null,
      "metadata": {
        "colab": {
          "base_uri": "https://localhost:8080/"
        },
        "id": "jYj6rMhQX2qI",
        "outputId": "0b5513fa-dc07-47aa-f077-ac3e10e85169"
      },
      "outputs": [
        {
          "output_type": "execute_result",
          "data": {
            "text/plain": [
              "((4846, 5), (1212, 5))"
            ]
          },
          "metadata": {},
          "execution_count": 207
        }
      ],
      "source": [
        "# normalizacion de los datos categoricos , sin la ocurrencia\n",
        "categoricalCols_train = X_train_2[[\t'peligro']]  #alto_riesgo\tpeligro\tvulner\n",
        "categoricalCols_train = OneHotEncoder().fit_transform(categoricalCols_train).toarray()\n",
        "\n",
        "\n",
        "# normalizacion de los datos categoricos , sin la ocurrencia\n",
        "categoricalCols_test = X_test_2[['peligro']]   #alto_riesgo\tpeligro\t y vulner\n",
        "categoricalCols_test = OneHotEncoder().fit_transform(categoricalCols_test).toarray()\n",
        "\n",
        "categoricalCols_train.shape, categoricalCols_test.shape"
      ]
    },
    {
      "cell_type": "code",
      "execution_count": null,
      "metadata": {
        "id": "NBLvNymDX2qI"
      },
      "outputs": [],
      "source": [
        "Other_var_train = X_train_2[[\t'mes', 'dayofyear']]\n",
        "Other_var_test = X_test_2[[\t'mes', 'dayofyear']]  #alto_riesgo\tpeligro\t y vulner"
      ]
    },
    {
      "cell_type": "code",
      "execution_count": null,
      "metadata": {
        "id": "8DZN4NUfX2qI",
        "colab": {
          "base_uri": "https://localhost:8080/"
        },
        "outputId": "f6f7ae28-8213-498f-d92f-2b46752e8d95"
      },
      "outputs": [
        {
          "output_type": "execute_result",
          "data": {
            "text/plain": [
              "(4846, 14)"
            ]
          },
          "metadata": {},
          "execution_count": 209
        }
      ],
      "source": [
        "df_train_scaled = np.concatenate((numericalCols_train_scaled , categoricalCols_train, Other_var_train), axis=1)\n",
        "df_test_scaled = np.concatenate((numericalCols_test_scaled , categoricalCols_test, Other_var_test), axis=1)\n",
        "df_train_scaled.shape"
      ]
    },
    {
      "cell_type": "code",
      "source": [
        "X_test = df_test_scaled\n",
        "X_train = df_train_scaled"
      ],
      "metadata": {
        "id": "V7wI0UsIsDyS"
      },
      "execution_count": null,
      "outputs": []
    },
    {
      "cell_type": "markdown",
      "metadata": {
        "id": "lc-RrWdYX2qJ"
      },
      "source": [
        "##Model LSTM (Variables importantes)"
      ]
    },
    {
      "cell_type": "code",
      "execution_count": null,
      "metadata": {
        "id": "t9hSBucCX2qJ"
      },
      "outputs": [],
      "source": [
        "from tensorflow.keras.layers import Dropout\n",
        "from keras.models import Sequential\n",
        "from keras.layers import Dense, LSTM\n",
        "from tensorflow.keras.layers import InputLayer\n",
        "\n",
        "\n",
        "def modelLSTM(n_lstm = 200, activation = 'sigmoid',dropout_rate =0.2, optimizer='adam', batch_size = 64):\n",
        "    model=Sequential()\n",
        "    model.add(InputLayer((14,1)))\n",
        "    model.add(LSTM(n_lstm))\n",
        "    model.add(Dropout(dropout_rate))\n",
        "    model.add(Dense(14, activation=activation))\n",
        "    model.add(Dropout(dropout_rate))\n",
        "    model.add(Dense(1, activation=activation))\n",
        "    model.compile(loss='binary_crossentropy', optimizer=optimizer, metrics=['accuracy'])\n",
        "    return model"
      ]
    },
    {
      "cell_type": "code",
      "execution_count": null,
      "metadata": {
        "id": "YwJz_mnpX2qJ"
      },
      "outputs": [],
      "source": [
        "model_import = modelLSTM()"
      ]
    },
    {
      "cell_type": "code",
      "execution_count": null,
      "metadata": {
        "colab": {
          "base_uri": "https://localhost:8080/"
        },
        "id": "m0AbRmPRX2qJ",
        "outputId": "9648c43d-3fe8-4dae-b3d3-fe97c610dcd5"
      },
      "outputs": [
        {
          "output_type": "stream",
          "name": "stdout",
          "text": [
            "Model: \"sequential_12\"\n",
            "_________________________________________________________________\n",
            " Layer (type)                Output Shape              Param #   \n",
            "=================================================================\n",
            " lstm_12 (LSTM)              (None, 200)               161600    \n",
            "                                                                 \n",
            " dropout_24 (Dropout)        (None, 200)               0         \n",
            "                                                                 \n",
            " dense_24 (Dense)            (None, 14)                2814      \n",
            "                                                                 \n",
            " dropout_25 (Dropout)        (None, 14)                0         \n",
            "                                                                 \n",
            " dense_25 (Dense)            (None, 1)                 15        \n",
            "                                                                 \n",
            "=================================================================\n",
            "Total params: 164,429\n",
            "Trainable params: 164,429\n",
            "Non-trainable params: 0\n",
            "_________________________________________________________________\n"
          ]
        }
      ],
      "source": [
        "model_import.summary()"
      ]
    },
    {
      "cell_type": "code",
      "execution_count": null,
      "metadata": {
        "colab": {
          "base_uri": "https://localhost:8080/"
        },
        "id": "OR7-jvMRpcWn",
        "outputId": "cead5c38-ce91-41ac-ddaf-c9e245dbdd01"
      },
      "outputs": [
        {
          "output_type": "stream",
          "name": "stdout",
          "text": [
            "Epoch 1/20\n",
            "140/152 [==========================>...] - ETA: 0s - loss: 0.6786 - accuracy: 0.6145"
          ]
        },
        {
          "output_type": "stream",
          "name": "stderr",
          "text": [
            "WARNING:absl:Found untraced functions such as lstm_cell_12_layer_call_fn, lstm_cell_12_layer_call_and_return_conditional_losses while saving (showing 2 of 2). These functions will not be directly callable after loading.\n"
          ]
        },
        {
          "output_type": "stream",
          "name": "stdout",
          "text": [
            "\b\b\b\b\b\b\b\b\b\b\b\b\b\b\b\b\b\b\b\b\b\b\b\b\b\b\b\b\b\b\b\b\b\b\b\b\b\b\b\b\b\b\b\b\b\b\b\b\b\b\b\b\b\b\b\b\b\b\b\b\b\b\b\b\b\b\b\b\b\b\b\b\b\b\b\b\b\b\b\b\b\b\b\b\r152/152 [==============================] - 7s 32ms/step - loss: 0.6774 - accuracy: 0.6158 - val_loss: 0.9758 - val_accuracy: 0.0000e+00\n",
            "Epoch 2/20\n",
            "148/152 [============================>.] - ETA: 0s - loss: 0.6629 - accuracy: 0.6271"
          ]
        },
        {
          "output_type": "stream",
          "name": "stderr",
          "text": [
            "WARNING:absl:Found untraced functions such as lstm_cell_12_layer_call_fn, lstm_cell_12_layer_call_and_return_conditional_losses while saving (showing 2 of 2). These functions will not be directly callable after loading.\n"
          ]
        },
        {
          "output_type": "stream",
          "name": "stdout",
          "text": [
            "\b\b\b\b\b\b\b\b\b\b\b\b\b\b\b\b\b\b\b\b\b\b\b\b\b\b\b\b\b\b\b\b\b\b\b\b\b\b\b\b\b\b\b\b\b\b\b\b\b\b\b\b\b\b\b\b\b\b\b\b\b\b\b\b\b\b\b\b\b\b\b\b\b\b\b\b\b\b\b\b\b\b\b\b\r152/152 [==============================] - 5s 34ms/step - loss: 0.6640 - accuracy: 0.6251 - val_loss: 0.9484 - val_accuracy: 0.0000e+00\n",
            "Epoch 3/20\n",
            "151/152 [============================>.] - ETA: 0s - loss: 0.6640 - accuracy: 0.6252"
          ]
        },
        {
          "output_type": "stream",
          "name": "stderr",
          "text": [
            "WARNING:absl:Found untraced functions such as lstm_cell_12_layer_call_fn, lstm_cell_12_layer_call_and_return_conditional_losses while saving (showing 2 of 2). These functions will not be directly callable after loading.\n"
          ]
        },
        {
          "output_type": "stream",
          "name": "stdout",
          "text": [
            "\b\b\b\b\b\b\b\b\b\b\b\b\b\b\b\b\b\b\b\b\b\b\b\b\b\b\b\b\b\b\b\b\b\b\b\b\b\b\b\b\b\b\b\b\b\b\b\b\b\b\b\b\b\b\b\b\b\b\b\b\b\b\b\b\b\b\b\b\b\b\b\b\b\b\b\b\b\b\b\b\b\b\b\b\r152/152 [==============================] - 5s 31ms/step - loss: 0.6639 - accuracy: 0.6251 - val_loss: 0.9104 - val_accuracy: 0.0000e+00\n",
            "Epoch 4/20\n",
            "152/152 [==============================] - 1s 5ms/step - loss: 0.6635 - accuracy: 0.6251 - val_loss: 1.0148 - val_accuracy: 0.0000e+00\n",
            "Epoch 5/20\n",
            "152/152 [==============================] - 1s 5ms/step - loss: 0.6645 - accuracy: 0.6251 - val_loss: 0.9805 - val_accuracy: 0.0000e+00\n",
            "Epoch 6/20\n",
            "152/152 [==============================] - 1s 5ms/step - loss: 0.6643 - accuracy: 0.6251 - val_loss: 0.9427 - val_accuracy: 0.0000e+00\n",
            "Epoch 7/20\n",
            "152/152 [==============================] - 1s 5ms/step - loss: 0.6626 - accuracy: 0.6251 - val_loss: 0.9770 - val_accuracy: 0.0000e+00\n",
            "Epoch 8/20\n",
            "152/152 [==============================] - 1s 5ms/step - loss: 0.6636 - accuracy: 0.6251 - val_loss: 0.9577 - val_accuracy: 0.0000e+00\n",
            "Epoch 9/20\n",
            "152/152 [==============================] - 1s 5ms/step - loss: 0.6642 - accuracy: 0.6251 - val_loss: 0.9571 - val_accuracy: 0.0000e+00\n",
            "Epoch 10/20\n",
            "152/152 [==============================] - 1s 5ms/step - loss: 0.6630 - accuracy: 0.6251 - val_loss: 0.9882 - val_accuracy: 0.0000e+00\n",
            "Epoch 11/20\n",
            "152/152 [==============================] - 1s 5ms/step - loss: 0.6632 - accuracy: 0.6251 - val_loss: 0.9209 - val_accuracy: 0.0000e+00\n",
            "Epoch 12/20\n",
            "141/152 [==========================>...] - ETA: 0s - loss: 0.6611 - accuracy: 0.6268"
          ]
        },
        {
          "output_type": "stream",
          "name": "stderr",
          "text": [
            "WARNING:absl:Found untraced functions such as lstm_cell_12_layer_call_fn, lstm_cell_12_layer_call_and_return_conditional_losses while saving (showing 2 of 2). These functions will not be directly callable after loading.\n"
          ]
        },
        {
          "output_type": "stream",
          "name": "stdout",
          "text": [
            "\b\b\b\b\b\b\b\b\b\b\b\b\b\b\b\b\b\b\b\b\b\b\b\b\b\b\b\b\b\b\b\b\b\b\b\b\b\b\b\b\b\b\b\b\b\b\b\b\b\b\b\b\b\b\b\b\b\b\b\b\b\b\b\b\b\b\b\b\b\b\b\b\b\b\b\b\b\b\b\b\b\b\b\b\r152/152 [==============================] - 4s 30ms/step - loss: 0.6619 - accuracy: 0.6251 - val_loss: 0.9089 - val_accuracy: 0.0000e+00\n",
            "Epoch 13/20\n",
            "152/152 [==============================] - 1s 5ms/step - loss: 0.6630 - accuracy: 0.6251 - val_loss: 0.9626 - val_accuracy: 0.0000e+00\n",
            "Epoch 14/20\n",
            "152/152 [==============================] - 1s 5ms/step - loss: 0.6626 - accuracy: 0.6251 - val_loss: 1.0110 - val_accuracy: 0.0000e+00\n",
            "Epoch 15/20\n",
            "152/152 [==============================] - 1s 5ms/step - loss: 0.6628 - accuracy: 0.6251 - val_loss: 1.0099 - val_accuracy: 0.0000e+00\n",
            "Epoch 16/20\n",
            "152/152 [==============================] - 1s 5ms/step - loss: 0.6616 - accuracy: 0.6251 - val_loss: 0.9801 - val_accuracy: 0.0000e+00\n",
            "Epoch 17/20\n",
            "152/152 [==============================] - 1s 5ms/step - loss: 0.6617 - accuracy: 0.6251 - val_loss: 0.9796 - val_accuracy: 0.0000e+00\n",
            "Epoch 18/20\n",
            "152/152 [==============================] - 1s 5ms/step - loss: 0.6622 - accuracy: 0.6251 - val_loss: 0.9950 - val_accuracy: 0.0000e+00\n",
            "Epoch 19/20\n",
            "152/152 [==============================] - 1s 5ms/step - loss: 0.6617 - accuracy: 0.6251 - val_loss: 0.9691 - val_accuracy: 0.0000e+00\n",
            "Epoch 20/20\n",
            "152/152 [==============================] - 1s 5ms/step - loss: 0.6608 - accuracy: 0.6251 - val_loss: 0.9852 - val_accuracy: 0.0000e+00\n"
          ]
        },
        {
          "output_type": "execute_result",
          "data": {
            "text/plain": [
              "<keras.callbacks.History at 0x7fe6d52cb2e0>"
            ]
          },
          "metadata": {},
          "execution_count": 214
        }
      ],
      "source": [
        "#Entrenamos el modelo\n",
        "cp = ModelCheckpoint('model/', save_best_only=True)\n",
        "earlyStop=EarlyStopping(monitor=\"val_loss\",verbose=3, patience=10)\n",
        "\n",
        "model_import.fit(X_train, y_train,validation_data=(X_test, y_test),epochs=20, callbacks=[cp, earlyStop])"
      ]
    },
    {
      "cell_type": "code",
      "execution_count": null,
      "metadata": {
        "colab": {
          "base_uri": "https://localhost:8080/"
        },
        "id": "STIXqwPNukqr",
        "outputId": "804b774f-f744-4e80-b8b9-d0bbb58b6f75"
      },
      "outputs": [
        {
          "output_type": "stream",
          "name": "stdout",
          "text": [
            "38/38 - 0s - loss: 0.9852 - accuracy: 0.0000e+00 - 96ms/epoch - 3ms/step\n",
            "accuracy: 0.00%\n"
          ]
        }
      ],
      "source": [
        "scores = model_import.evaluate(X_test, y_test, verbose=2)\n",
        "print(\"%s: %.2f%%\" % (model_import.metrics_names[1], scores[1] * 100))"
      ]
    },
    {
      "cell_type": "code",
      "execution_count": null,
      "metadata": {
        "colab": {
          "base_uri": "https://localhost:8080/"
        },
        "id": "qkixNYqRukqs",
        "outputId": "8f040770-4852-43d6-daa5-dda76c90ee66"
      },
      "outputs": [
        {
          "output_type": "stream",
          "name": "stdout",
          "text": [
            "38/38 [==============================] - 0s 2ms/step\n"
          ]
        }
      ],
      "source": [
        "y_pred_model_1 = model_import.predict(X_test)"
      ]
    },
    {
      "cell_type": "code",
      "execution_count": null,
      "metadata": {
        "id": "BhoyH61Jukqs",
        "colab": {
          "base_uri": "https://localhost:8080/"
        },
        "outputId": "16634965-c531-4480-ddb1-428a72f5a735"
      },
      "outputs": [
        {
          "output_type": "stream",
          "name": "stdout",
          "text": [
            "              precision    recall  f1-score   support\n",
            "\n",
            "           0       0.50      1.00      0.67       611\n",
            "           1       0.00      0.00      0.00       601\n",
            "\n",
            "    accuracy                           0.50      1212\n",
            "   macro avg       0.25      0.50      0.34      1212\n",
            "weighted avg       0.25      0.50      0.34      1212\n",
            "\n"
          ]
        },
        {
          "output_type": "stream",
          "name": "stderr",
          "text": [
            "/usr/local/lib/python3.8/dist-packages/sklearn/metrics/_classification.py:1318: UndefinedMetricWarning: Precision and F-score are ill-defined and being set to 0.0 in labels with no predicted samples. Use `zero_division` parameter to control this behavior.\n",
            "  _warn_prf(average, modifier, msg_start, len(result))\n",
            "/usr/local/lib/python3.8/dist-packages/sklearn/metrics/_classification.py:1318: UndefinedMetricWarning: Precision and F-score are ill-defined and being set to 0.0 in labels with no predicted samples. Use `zero_division` parameter to control this behavior.\n",
            "  _warn_prf(average, modifier, msg_start, len(result))\n",
            "/usr/local/lib/python3.8/dist-packages/sklearn/metrics/_classification.py:1318: UndefinedMetricWarning: Precision and F-score are ill-defined and being set to 0.0 in labels with no predicted samples. Use `zero_division` parameter to control this behavior.\n",
            "  _warn_prf(average, modifier, msg_start, len(result))\n"
          ]
        }
      ],
      "source": [
        "# print classification report\n",
        "y_pred_model1 = np.argmax(y_pred_model_1, axis=1)\n",
        "print(classification_report(y_test_2, y_pred_model1))"
      ]
    },
    {
      "cell_type": "code",
      "execution_count": null,
      "metadata": {
        "colab": {
          "base_uri": "https://localhost:8080/",
          "height": 319
        },
        "id": "7kZ_ucO9ukqs",
        "outputId": "7a269f58-c400-49f7-8125-e0bc6e193955"
      },
      "outputs": [
        {
          "output_type": "stream",
          "name": "stdout",
          "text": [
            "[[   0    0]\n",
            " [1212    0]]\n"
          ]
        },
        {
          "output_type": "execute_result",
          "data": {
            "text/plain": [
              "<matplotlib.axes._subplots.AxesSubplot at 0x7fe6c248e6a0>"
            ]
          },
          "metadata": {},
          "execution_count": 218
        },
        {
          "output_type": "display_data",
          "data": {
            "text/plain": [
              "<Figure size 432x288 with 2 Axes>"
            ],
            "image/png": "[encoded data removed]"
          },
          "metadata": {
            "needs_background": "light"
          }
        }
      ],
      "source": [
        "#Get the confusion matrix\n",
        "cf_matrix = confusion_matrix(y_test, y_pred_model1)\n",
        "print(cf_matrix)\n",
        "\n",
        "sns.heatmap(cf_matrix, annot=True, cmap='Blues')"
      ]
    },
    {
      "cell_type": "code",
      "execution_count": null,
      "metadata": {
        "colab": {
          "base_uri": "https://localhost:8080/",
          "height": 286
        },
        "id": "p6_1VXn0ukqt",
        "outputId": "a9854b45-8de3-4e5c-cc23-a647ac11c060"
      },
      "outputs": [
        {
          "output_type": "execute_result",
          "data": {
            "text/plain": [
              "<matplotlib.axes._subplots.AxesSubplot at 0x7fe6585bda90>"
            ]
          },
          "metadata": {},
          "execution_count": 219
        },
        {
          "output_type": "display_data",
          "data": {
            "text/plain": [
              "<Figure size 432x288 with 2 Axes>"
            ],
            "image/png": "[encoded data removed]"
          },
          "metadata": {
            "needs_background": "light"
          }
        }
      ],
      "source": [
        "sns.heatmap(cf_matrix/np.sum(cf_matrix), annot=True, \n",
        "            fmt='.2%', cmap='Blues')"
      ]
    }
  ],
  "metadata": {
    "accelerator": "GPU",
    "application/vnd.databricks.v1+notebook": {
      "dashboards": [],
      "language": "python",
      "notebookMetadata": {
        "pythonIndentUnit": 4
      },
      "notebookName": "Moldel_LSTM_1",
      "notebookOrigID": 1523364193951514,
      "widgets": {}
    },
    "colab": {
      "collapsed_sections": [
        "nvRBASRGEqNA",
        "IJ-J7bRI_9mL",
        "V7ew97QG95Fj",
        "CUtq799v-8p0",
        "VK9v6Y5a9xnv",
        "0ZquA5iHguHF",
        "CE03LeA2guHm",
        "D3JSsr2ZFgeO",
        "SCM8wbEoguHY",
        "WV19DrpLGHB7",
        "bNvTVIug3ujp",
        "9PrMZX9bGpbf",
        "HyMmHFG4guIO",
        "OpYzLr8X_57b",
        "n6rUkeacISae",
        "T2s07LbeIvzu",
        "Qlye6nod1lh7",
        "6XtEKoFCxVT1",
        "8VM7WwrjxVUC",
        "a_QvZYHHX2qG",
        "lc-RrWdYX2qJ"
      ],
      "machine_shape": "hm",
      "provenance": []
    },
    "gpuClass": "standard",
    "kernelspec": {
      "display_name": "Python 3 (ipykernel)",
      "language": "python",
      "name": "python3"
    },
    "language_info": {
      "codemirror_mode": {
        "name": "ipython",
        "version": 3
      },
      "file_extension": ".py",
      "mimetype": "text/x-python",
      "name": "python",
      "nbconvert_exporter": "python",
      "pygments_lexer": "ipython3",
      "version": "3.8.10"
    }
  },
  "nbformat": 4,
  "nbformat_minor": 0
}